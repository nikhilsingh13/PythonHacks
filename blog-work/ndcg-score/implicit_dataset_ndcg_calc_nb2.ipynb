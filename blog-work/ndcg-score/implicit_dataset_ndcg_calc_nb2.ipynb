{
  "nbformat": 4,
  "nbformat_minor": 0,
  "metadata": {
    "colab": {
      "provenance": [],
      "gpuType": "T4"
    },
    "kernelspec": {
      "name": "python3",
      "display_name": "Python 3"
    },
    "language_info": {
      "name": "python"
    },
    "accelerator": "GPU"
  },
  "cells": [
    {
      "cell_type": "code",
      "execution_count": 1,
      "metadata": {
        "id": "WEZ_Kb5PibgT"
      },
      "outputs": [],
      "source": [
        "from pyspark.mllib.recommendation import ALS"
      ]
    },
    {
      "cell_type": "code",
      "source": [
        "# getting the data\n",
        "!wget http://mtg.upf.edu/static/datasets/last.fm/lastfm-dataset-360K.tar.gz"
      ],
      "metadata": {
        "colab": {
          "base_uri": "https://localhost:8080/"
        },
        "id": "Jk4gzy98jnGF",
        "outputId": "6382bd8d-f33a-4589-fda1-c0e825820e67"
      },
      "execution_count": null,
      "outputs": [
        {
          "output_type": "stream",
          "name": "stdout",
          "text": [
            "--2025-02-23 20:52:38--  http://mtg.upf.edu/static/datasets/last.fm/lastfm-dataset-360K.tar.gz\n",
            "Resolving mtg.upf.edu (mtg.upf.edu)... 84.89.139.55\n",
            "Connecting to mtg.upf.edu (mtg.upf.edu)|84.89.139.55|:80... connected.\n",
            "HTTP request sent, awaiting response... 200 OK\n",
            "Length: 569202935 (543M) [application/octet-stream]\n",
            "Saving to: ‘lastfm-dataset-360K.tar.gz’\n",
            "\n",
            "lastfm-dataset-360K  58%[==========>         ] 316.56M   665KB/s    eta 6m 7s  "
          ]
        }
      ]
    },
    {
      "cell_type": "code",
      "source": [
        "!ls"
      ],
      "metadata": {
        "id": "dJNehtiglVqs"
      },
      "execution_count": null,
      "outputs": []
    },
    {
      "cell_type": "code",
      "source": [
        "!tar -xvzf lastfm-dataset-360K.tar.gz"
      ],
      "metadata": {
        "id": "lfTl3PLdlars"
      },
      "execution_count": null,
      "outputs": []
    },
    {
      "cell_type": "code",
      "source": [
        "!ls"
      ],
      "metadata": {
        "id": "NFxLKMztldHa"
      },
      "execution_count": null,
      "outputs": []
    },
    {
      "cell_type": "code",
      "source": [
        "# df = spark.createDataFrame(\n",
        "#     [(0, 0, 4.0), (0, 1, 2.0), (1, 1, 3.0), (1, 2, 4.0), (2, 1, 1.0), (2, 2, 5.0)],\n",
        "#     [\"user\", \"item\", \"rating\"])"
      ],
      "metadata": {
        "id": "dwpbhR9YnIFD"
      },
      "execution_count": null,
      "outputs": []
    },
    {
      "cell_type": "code",
      "source": [
        "als = ALS(rank=10, seed=0)\n",
        "als.setMaxIter(5)\n",
        "als.getMaxIter()\n",
        "als.setRegParam(0.1)\n",
        "als.getRegParam()\n",
        "als.clear(als.regParam)\n",
        "model = als.fit(df)"
      ],
      "metadata": {
        "id": "c_cCN4bam97F"
      },
      "execution_count": null,
      "outputs": []
    },
    {
      "cell_type": "code",
      "source": [
        "...."
      ],
      "metadata": {
        "id": "5GZjkbkZleGb"
      },
      "execution_count": null,
      "outputs": []
    }
  ]
}