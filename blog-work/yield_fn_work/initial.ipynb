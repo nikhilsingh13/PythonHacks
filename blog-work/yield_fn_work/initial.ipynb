{
 "cells": [
  {
   "cell_type": "code",
   "execution_count": 24,
   "id": "3b9d0837-9193-4824-9c7d-34b4085a4552",
   "metadata": {},
   "outputs": [],
   "source": [
    "def generator_function(x):\n",
    "    for i in range(x):\n",
    "        yield i"
   ]
  },
  {
   "cell_type": "code",
   "execution_count": 25,
   "id": "dce3b480-ce60-4414-946b-d4e5b72a98ad",
   "metadata": {},
   "outputs": [],
   "source": [
    "k = generator_function(3)"
   ]
  },
  {
   "cell_type": "code",
   "execution_count": 26,
   "id": "02e943de-5b37-4fb4-845e-8767a15ce624",
   "metadata": {},
   "outputs": [
    {
     "data": {
      "text/plain": [
       "<generator object generator_function at 0x1055cc110>"
      ]
     },
     "execution_count": 26,
     "metadata": {},
     "output_type": "execute_result"
    }
   ],
   "source": [
    "k"
   ]
  },
  {
   "cell_type": "code",
   "execution_count": 27,
   "id": "ea3c2bcb-4585-4385-be79-921deed798b3",
   "metadata": {},
   "outputs": [],
   "source": [
    "def fun_generator():\n",
    "    yield \"Hello world!!\"\n",
    "    yield \"Geeksforgeeks\""
   ]
  },
  {
   "cell_type": "code",
   "execution_count": 28,
   "id": "75733d5f-3f4f-4ae9-a9f7-3ba3d063f1f5",
   "metadata": {},
   "outputs": [],
   "source": [
    "obj = fun_generator()"
   ]
  },
  {
   "cell_type": "code",
   "execution_count": 29,
   "id": "a6ab04f2-49f1-4e14-a36e-ca1247565138",
   "metadata": {},
   "outputs": [
    {
     "data": {
      "text/plain": [
       "generator"
      ]
     },
     "execution_count": 29,
     "metadata": {},
     "output_type": "execute_result"
    }
   ],
   "source": [
    "type(obj)"
   ]
  },
  {
   "cell_type": "code",
   "execution_count": 30,
   "id": "125862ad-5980-4a99-967a-8461d4c20965",
   "metadata": {},
   "outputs": [
    {
     "data": {
      "text/plain": [
       "0"
      ]
     },
     "execution_count": 30,
     "metadata": {},
     "output_type": "execute_result"
    }
   ],
   "source": [
    "next(k)"
   ]
  },
  {
   "cell_type": "code",
   "execution_count": 31,
   "id": "ca3c7260-6565-4c9b-b9b3-3bc81af1775a",
   "metadata": {},
   "outputs": [
    {
     "data": {
      "text/plain": [
       "1"
      ]
     },
     "execution_count": 31,
     "metadata": {},
     "output_type": "execute_result"
    }
   ],
   "source": [
    "next(k)"
   ]
  },
  {
   "cell_type": "code",
   "execution_count": 32,
   "id": "c321e217-65f8-418f-aeae-a260e0fa5e9a",
   "metadata": {},
   "outputs": [
    {
     "data": {
      "text/plain": [
       "2"
      ]
     },
     "execution_count": 32,
     "metadata": {},
     "output_type": "execute_result"
    }
   ],
   "source": [
    "next(k)"
   ]
  },
  {
   "cell_type": "code",
   "execution_count": 33,
   "id": "1e3b287c-ba81-4223-bd36-95da2fc9a391",
   "metadata": {},
   "outputs": [
    {
     "data": {
      "text/plain": [
       "'Hello world!!'"
      ]
     },
     "execution_count": 33,
     "metadata": {},
     "output_type": "execute_result"
    }
   ],
   "source": [
    "next(obj)"
   ]
  },
  {
   "cell_type": "code",
   "execution_count": 34,
   "id": "fab2796b-f649-40f8-9b89-28638035ca14",
   "metadata": {},
   "outputs": [
    {
     "data": {
      "text/plain": [
       "'Geeksforgeeks'"
      ]
     },
     "execution_count": 34,
     "metadata": {},
     "output_type": "execute_result"
    }
   ],
   "source": [
    "next(obj)"
   ]
  },
  {
   "cell_type": "code",
   "execution_count": 35,
   "id": "e25a58b2-2ca0-461e-9c2d-b2ca34552a33",
   "metadata": {},
   "outputs": [],
   "source": [
    "def inf_sequence():\n",
    "    num = 0\n",
    "    while True:\n",
    "        yield num\n",
    "        num += 1"
   ]
  },
  {
   "cell_type": "code",
   "execution_count": 36,
   "id": "218fbca8-a855-4eee-a25c-eddd2e7fd1bb",
   "metadata": {},
   "outputs": [],
   "source": [
    "r = inf_sequence()"
   ]
  },
  {
   "cell_type": "code",
   "execution_count": 37,
   "id": "0bd26e58-69da-47a2-b930-0c5964350651",
   "metadata": {},
   "outputs": [
    {
     "data": {
      "text/plain": [
       "0"
      ]
     },
     "execution_count": 37,
     "metadata": {},
     "output_type": "execute_result"
    }
   ],
   "source": [
    "next(r)"
   ]
  },
  {
   "cell_type": "code",
   "execution_count": 39,
   "id": "0fe3af9a-2d74-4e79-890a-a2a4a0cb1fa4",
   "metadata": {},
   "outputs": [
    {
     "name": "stdout",
     "output_type": "stream",
     "text": [
      "0 1 2 3 4 5 6 7 8 9 10 11 12 13 14 15 16 17 18 19 20 21 22 23 24 25 26 27 28 29 30 "
     ]
    }
   ],
   "source": [
    "for i in inf_sequence():\n",
    "    print(i, end=\" \")\n",
    "    if i==30:\n",
    "        break"
   ]
  },
  {
   "cell_type": "code",
   "execution_count": 1,
   "id": "5801b0ba-6ce2-48e3-97f2-2c0c12621472",
   "metadata": {},
   "outputs": [],
   "source": [
    "gen = (x**2 for x in range(10))"
   ]
  },
  {
   "cell_type": "code",
   "execution_count": 3,
   "id": "a690f18f-ca9a-4bea-8922-87aaf28a11d8",
   "metadata": {},
   "outputs": [
    {
     "data": {
      "text/plain": [
       "<generator object <genexpr> at 0x106f835e0>"
      ]
     },
     "execution_count": 3,
     "metadata": {},
     "output_type": "execute_result"
    }
   ],
   "source": [
    "gen"
   ]
  },
  {
   "cell_type": "code",
   "execution_count": 7,
   "id": "f1dd765b-e2a6-401a-b6e6-8756b26a971c",
   "metadata": {},
   "outputs": [
    {
     "data": {
      "text/plain": [
       "(1, 4, 9)"
      ]
     },
     "execution_count": 7,
     "metadata": {},
     "output_type": "execute_result"
    }
   ],
   "source": [
    "next(gen), next(gen), next(gen)"
   ]
  },
  {
   "cell_type": "code",
   "execution_count": 8,
   "id": "50f8c901-ebb6-44fe-b433-fd1c074d533a",
   "metadata": {},
   "outputs": [
    {
     "data": {
      "text/plain": [
       "(16, 25, 36, 49, 64, 81)"
      ]
     },
     "execution_count": 8,
     "metadata": {},
     "output_type": "execute_result"
    }
   ],
   "source": [
    "next(gen),next(gen),next(gen),next(gen),next(gen),next(gen)"
   ]
  },
  {
   "cell_type": "code",
   "execution_count": null,
   "id": "21128e17-f311-477a-9ba9-5f01af0256c3",
   "metadata": {},
   "outputs": [],
   "source": []
  }
 ],
 "metadata": {
  "kernelspec": {
   "display_name": "Python 3 (ipykernel)",
   "language": "python",
   "name": "python3"
  },
  "language_info": {
   "codemirror_mode": {
    "name": "ipython",
    "version": 3
   },
   "file_extension": ".py",
   "mimetype": "text/x-python",
   "name": "python",
   "nbconvert_exporter": "python",
   "pygments_lexer": "ipython3",
   "version": "3.12.4"
  }
 },
 "nbformat": 4,
 "nbformat_minor": 5
}
