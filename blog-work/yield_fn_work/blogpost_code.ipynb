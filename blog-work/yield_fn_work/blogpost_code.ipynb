{
 "cells": [
  {
   "cell_type": "markdown",
   "id": "3a2fe3c0-a09a-42dc-a422-c8002f565f03",
   "metadata": {},
   "source": [
    "## `Hello World` Generator: A Simple Example"
   ]
  },
  {
   "cell_type": "code",
   "execution_count": 1,
   "id": "0da8a903-bc09-4825-9070-a2647e9fa125",
   "metadata": {},
   "outputs": [],
   "source": [
    "def fun_generator():\n",
    "    yield \"Hello world!!\"\n",
    "    yield \"Bbye...!\""
   ]
  },
  {
   "cell_type": "code",
   "execution_count": 2,
   "id": "57dad8e6-d17d-4654-85e2-655ed546d13c",
   "metadata": {},
   "outputs": [
    {
     "data": {
      "text/plain": [
       "generator"
      ]
     },
     "execution_count": 2,
     "metadata": {},
     "output_type": "execute_result"
    }
   ],
   "source": [
    "obj = fun_generator()\n",
    "type(obj)"
   ]
  },
  {
   "cell_type": "code",
   "execution_count": 3,
   "id": "88247d1c-a100-48c2-a282-5ba331c47873",
   "metadata": {},
   "outputs": [
    {
     "data": {
      "text/plain": [
       "'Hello world!!'"
      ]
     },
     "execution_count": 3,
     "metadata": {},
     "output_type": "execute_result"
    }
   ],
   "source": [
    "next(obj)"
   ]
  },
  {
   "cell_type": "code",
   "execution_count": 5,
   "id": "0b92dc1a-69bf-4b68-a96f-b97e70dfbb68",
   "metadata": {},
   "outputs": [
    {
     "data": {
      "text/plain": [
       "'Bbye...!'"
      ]
     },
     "execution_count": 5,
     "metadata": {},
     "output_type": "execute_result"
    }
   ],
   "source": [
    "next(obj)"
   ]
  },
  {
   "cell_type": "markdown",
   "id": "c45bc5e3-1f7e-44b9-b540-d563a0a7de97",
   "metadata": {},
   "source": [
    "## Infinite Sequences: Beyond Finite Limits"
   ]
  },
  {
   "cell_type": "code",
   "execution_count": 6,
   "id": "ecc9c049-0009-4d4a-96b4-1e8346e4ad51",
   "metadata": {},
   "outputs": [],
   "source": [
    "def inf_sequence():\n",
    "    num = 0\n",
    "    while True:\n",
    "        yield num\n",
    "        num += 1"
   ]
  },
  {
   "cell_type": "code",
   "execution_count": 9,
   "id": "680946ac-3f62-4e3b-95b7-b9f33d2c4353",
   "metadata": {},
   "outputs": [],
   "source": [
    "obj2 = inf_sequence()"
   ]
  },
  {
   "cell_type": "code",
   "execution_count": 10,
   "id": "6b6e045e-bd7a-4882-8dbe-562780d7b570",
   "metadata": {},
   "outputs": [
    {
     "data": {
      "text/plain": [
       "0"
      ]
     },
     "execution_count": 10,
     "metadata": {},
     "output_type": "execute_result"
    }
   ],
   "source": [
    "next(obj2)"
   ]
  },
  {
   "cell_type": "code",
   "execution_count": 11,
   "id": "c99b6eec-e99b-47ed-9e30-3fb542aa54da",
   "metadata": {},
   "outputs": [
    {
     "data": {
      "text/plain": [
       "1"
      ]
     },
     "execution_count": 11,
     "metadata": {},
     "output_type": "execute_result"
    }
   ],
   "source": [
    "next(obj2)"
   ]
  },
  {
   "cell_type": "markdown",
   "id": "272e0de1-886e-4ea1-917d-b71e74bc6dce",
   "metadata": {},
   "source": [
    "....."
   ]
  },
  {
   "cell_type": "markdown",
   "id": "71c7779a-1076-4c80-a367-cd0bb872b517",
   "metadata": {},
   "source": [
    "## Generator Expressions: Inline Generators"
   ]
  },
  {
   "cell_type": "code",
   "execution_count": 12,
   "id": "0667ea8e-8726-4345-9dd7-eab65716af63",
   "metadata": {},
   "outputs": [],
   "source": [
    "gen = (x**2 for x in range(10))"
   ]
  },
  {
   "cell_type": "code",
   "execution_count": 15,
   "id": "fa729a6f-c3d9-45a0-9a82-591eac6de16d",
   "metadata": {},
   "outputs": [],
   "source": [
    "obj3 = gen"
   ]
  },
  {
   "cell_type": "code",
   "execution_count": 19,
   "id": "25311ca9-0988-4ac9-a8be-6d4bffa32aad",
   "metadata": {},
   "outputs": [
    {
     "data": {
      "text/plain": [
       "(9, 16, 25)"
      ]
     },
     "execution_count": 19,
     "metadata": {},
     "output_type": "execute_result"
    }
   ],
   "source": [
    "next(obj3), next(obj3), next(obj3)"
   ]
  },
  {
   "cell_type": "markdown",
   "id": "71e11d69-c484-4080-9c3b-0928f30b7420",
   "metadata": {},
   "source": [
    "## Real-Life Use Case: Streaming Large Datasets"
   ]
  },
  {
   "cell_type": "code",
   "execution_count": 20,
   "id": "1f8fdb1e-81b8-4b92-a6df-91adb835c5fd",
   "metadata": {},
   "outputs": [],
   "source": [
    "# libraries required for this example. In real life scenario, you may not need these.\n",
    "\n",
    "import pandas as pd\n",
    "import numpy as np\n",
    "import tempfile\n",
    "import os"
   ]
  },
  {
   "cell_type": "code",
   "execution_count": 21,
   "id": "91223f3c-2b70-4f4d-8be8-72f6f3a0c3b0",
   "metadata": {},
   "outputs": [],
   "source": [
    "# random data\n",
    "np.random.seed(0)\n",
    "data = pd.DataFrame({\n",
    "    'Name': ['Name' + str(i) for i in range(100)],\n",
    "    'Age': np.random.randint(18, 60, size=100),\n",
    "    'Salary': np.random.randint(50000, 150000, size=100)\n",
    "})"
   ]
  },
  {
   "cell_type": "code",
   "execution_count": 22,
   "id": "5745a7ca-7a82-43c8-b107-5645e17cc723",
   "metadata": {},
   "outputs": [],
   "source": [
    "# temporary csv file\n",
    "## in real scenario, the csv file is going to be on a disk. Here, for example sake, it is\n",
    "## saved in memory which is certainly not possible with large files.\n",
    "\n",
    "temp_dir = tempfile.mkdtemp()\n",
    "file_path = os.path.join(temp_dir, 'temp_data.csv')\n",
    "data.to_csv(file_path, index=False)"
   ]
  },
  {
   "cell_type": "code",
   "execution_count": 23,
   "id": "0f683a53-ea8d-4f3d-abce-affefbbe9efa",
   "metadata": {},
   "outputs": [],
   "source": [
    "# generator function I discussed in the post.\n",
    "\n",
    "def data_streamer(file_path, batch_size=10):\n",
    "    with open(file_path, 'r') as file:\n",
    "        batch = []\n",
    "        next(file) # this can be commented, the header will also be printed then.\n",
    "        for line in file:\n",
    "            batch.append(line.strip().split(','))\n",
    "            if len(batch) == batch_size:\n",
    "                yield batch\n",
    "                batch = []\n",
    "        if batch:\n",
    "            yield batch"
   ]
  },
  {
   "cell_type": "code",
   "execution_count": 24,
   "id": "5d83dba1-faa1-4f49-b9e5-97e53e741bc7",
   "metadata": {},
   "outputs": [],
   "source": [
    "stream = data_streamer(file_path)"
   ]
  },
  {
   "cell_type": "code",
   "execution_count": 25,
   "id": "a38364c7-e330-45a8-adf3-6fa86a56fb03",
   "metadata": {},
   "outputs": [
    {
     "name": "stdout",
     "output_type": "stream",
     "text": [
      "[['Name0', '18', '134355'], ['Name1', '21', '149938'], ['Name2', '21', '98682'], ['Name3', '57', '116509'], ['Name4', '27', '136384'], ['Name5', '37', '125751'], ['Name6', '39', '126693'], ['Name7', '54', '74777'], ['Name8', '41', '63824'], ['Name9', '24', '52418']]\n",
      "[['Name10', '42', '62843'], ['Name11', '42', '128778'], ['Name12', '30', '86223'], ['Name13', '19', '111570'], ['Name14', '56', '56521'], ['Name15', '57', '138162'], ['Name16', '41', '106894'], ['Name17', '42', '124659'], ['Name18', '35', '146990'], ['Name19', '55', '64254']]\n",
      "[['Name20', '43', '101939'], ['Name21', '31', '139236'], ['Name22', '26', '87073'], ['Name23', '27', '73310'], ['Name24', '38', '81785'], ['Name25', '34', '114570'], ['Name26', '23', '130577'], ['Name27', '33', '106356'], ['Name28', '18', '73306'], ['Name29', '36', '86950']]\n",
      "[['Name30', '53', '128696'], ['Name31', '42', '142171'], ['Name32', '47', '148611'], ['Name33', '37', '128928'], ['Name34', '37', '129904'], ['Name35', '32', '120838'], ['Name36', '57', '83920'], ['Name37', '50', '138870'], ['Name38', '19', '142648'], ['Name39', '27', '129128']]\n",
      "[['Name40', '50', '140749'], ['Name41', '49', '83538'], ['Name42', '28', '131411'], ['Name43', '41', '58286'], ['Name44', '53', '68728'], ['Name45', '29', '63640'], ['Name46', '46', '118627'], ['Name47', '52', '95663'], ['Name48', '18', '53912'], ['Name49', '18', '100586']]\n",
      "[['Name50', '54', '122130'], ['Name51', '23', '71752'], ['Name52', '56', '109715'], ['Name53', '58', '139068'], ['Name54', '35', '57997'], ['Name55', '33', '103006'], ['Name56', '22', '90800'], ['Name57', '59', '65620'], ['Name58', '49', '120381'], ['Name59', '19', '142299']]\n",
      "[['Name60', '19', '104268'], ['Name61', '57', '119069'], ['Name62', '59', '118473'], ['Name63', '53', '141757'], ['Name64', '56', '92512'], ['Name65', '29', '69608'], ['Name66', '36', '120557'], ['Name67', '45', '142309'], ['Name68', '18', '149438'], ['Name69', '32', '67340']]\n",
      "[['Name70', '53', '51913'], ['Name71', '30', '102086'], ['Name72', '38', '63429'], ['Name73', '29', '63907'], ['Name74', '22', '85489'], ['Name75', '24', '60088'], ['Name76', '22', '65588'], ['Name77', '21', '88395'], ['Name78', '30', '110155'], ['Name79', '54', '88214']]\n",
      "[['Name80', '58', '50469'], ['Name81', '32', '93295'], ['Name82', '33', '124253'], ['Name83', '38', '84488'], ['Name84', '53', '88040'], ['Name85', '41', '66975'], ['Name86', '33', '65912'], ['Name87', '31', '78086'], ['Name88', '39', '132127'], ['Name89', '23', '65115']]\n",
      "[['Name90', '59', '129983'], ['Name91', '53', '102573'], ['Name92', '18', '144201'], ['Name93', '49', '114223'], ['Name94', '23', '61052'], ['Name95', '48', '65741'], ['Name96', '18', '107368'], ['Name97', '54', '144275'], ['Name98', '52', '93986'], ['Name99', '47', '55103']]\n",
      "No more items in the generator.\n"
     ]
    }
   ],
   "source": [
    "try:\n",
    "    while True: # running till end\n",
    "        print(next(stream))\n",
    "except StopIteration:\n",
    "    print(\"No more items in the generator.\")"
   ]
  },
  {
   "cell_type": "markdown",
   "id": "306906a6-b161-44e7-8038-390c76c10fd0",
   "metadata": {},
   "source": [
    "-----\n",
    "# Script Complete"
   ]
  }
 ],
 "metadata": {
  "kernelspec": {
   "display_name": "Python 3 (ipykernel)",
   "language": "python",
   "name": "python3"
  },
  "language_info": {
   "codemirror_mode": {
    "name": "ipython",
    "version": 3
   },
   "file_extension": ".py",
   "mimetype": "text/x-python",
   "name": "python",
   "nbconvert_exporter": "python",
   "pygments_lexer": "ipython3",
   "version": "3.11.11"
  }
 },
 "nbformat": 4,
 "nbformat_minor": 5
}
