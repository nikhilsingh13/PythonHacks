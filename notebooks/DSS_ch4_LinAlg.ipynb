{
  "nbformat": 4,
  "nbformat_minor": 0,
  "metadata": {
    "colab": {
      "name": "DSS-ch4-LinAlg.ipynb",
      "provenance": [],
      "collapsed_sections": []
    },
    "kernelspec": {
      "name": "python3",
      "display_name": "Python 3"
    },
    "language_info": {
      "name": "python"
    }
  },
  "cells": [
    {
      "cell_type": "code",
      "execution_count": null,
      "metadata": {
        "id": "cEd1acePZaEy"
      },
      "outputs": [],
      "source": [
        "# Vector as a list of Floats\n",
        "\n",
        "from typing import List\n",
        "Vector = List[float]\n",
        "\n",
        "height_weight_age = [70,  # inches\n",
        "                     170, # pounds\n",
        "                     40]  # years\n",
        "\n",
        "grades = [95, # exam1\n",
        "          80, # exam2\n",
        "          75, # exam3\n",
        "          62] # exam4"
      ]
    },
    {
      "cell_type": "markdown",
      "source": [
        "- Vectors add `componentwise`"
      ],
      "metadata": {
        "id": "O9zNC9rteXJy"
      }
    },
    {
      "cell_type": "code",
      "source": [
        "def add(v: Vector, w: Vector) -> Vector:\n",
        "  \"\"\"Adds corresponding elements\"\"\"\n",
        "\n",
        "  assert len(v) == len(w), \"vectors must be of the same length\"\n",
        "\n",
        "  return [v_i + w_i for v_i, w_i in zip(v, w)]\n",
        "\n",
        "assert add([1, 2, 3], [4, 5, 6]) == [5, 7, 9]"
      ],
      "metadata": {
        "id": "h8IdUG_iabLa"
      },
      "execution_count": null,
      "outputs": []
    },
    {
      "cell_type": "code",
      "source": [
        "def subtract(v: Vector, w: Vector) -> Vector:\n",
        "  \"\"\"Subtracts corresonding elements\"\"\"\n",
        "\n",
        "  assert len(v) == len(w), \"vectors must be of the same length\"\n",
        "\n",
        "  return [v_i - w_i for v_i, w_i in zip(v,w)]\n",
        "\n",
        "assert subtract([5,7,9], [4,5,6]) == [1,2,3]"
      ],
      "metadata": {
        "id": "FNWOUABzfRvU"
      },
      "execution_count": null,
      "outputs": []
    },
    {
      "cell_type": "code",
      "source": [
        "# componentwise summation of list of vectors\n",
        "\n",
        "def vector_sum(vectors: List[Vector]) -> Vector:\n",
        "  \"\"\"Sums all corresponding elements\"\"\"\n",
        "\n",
        "  # check that vectors are not blank\n",
        "  assert vectors, \"no vectors provided!\"\n",
        "\n",
        "  # check the vectors are all the same size\n",
        "  num_elements = len(vectors[0])\n",
        "  assert all(len(v) == num_elements for v in vectors), \"different sizes\"\n",
        "\n",
        "  # the i-th element of the result is the sum of every vector[i]\n",
        "  return [sum(vector[i] for vector in vectors) for i in range(num_elements)]\n",
        "\n",
        "assert vector_sum([[1,2], [3,4], [5,6], [7,8]]) == [16, 20]"
      ],
      "metadata": {
        "id": "ZWM9EIa1gRBK"
      },
      "execution_count": null,
      "outputs": []
    },
    {
      "cell_type": "code",
      "source": [
        "# multiplying vector elements by a scalar\n",
        "\n",
        "def scalar_multiply(c: float, v: Vector) -> Vector:\n",
        "  \"\"\"Multiplies every element by c\"\"\"\n",
        "  return [c * v_i for v_i in v]\n",
        "\n",
        "assert scalar_multiply(2, [1,2,3]) == [2,4,6]"
      ],
      "metadata": {
        "id": "c_r5OMUKhH39"
      },
      "execution_count": null,
      "outputs": []
    },
    {
      "cell_type": "code",
      "source": [
        "# Componentwise means of list of vectors\n",
        "\n",
        "def vector_mean(vectors: List[Vector]) -> Vector:\n",
        "  \"\"\"Computes the element-wise average\"\"\"\n",
        "\n",
        "  n = len(vectors)\n",
        "  return scalar_multiply(1/n, vector_sum(vectors))\n",
        "\n",
        "assert vector_mean([[1,2], [3,4], [5,6]]) == [3,4]"
      ],
      "metadata": {
        "id": "_z9F23PqhoHT"
      },
      "execution_count": null,
      "outputs": []
    },
    {
      "cell_type": "markdown",
      "source": [
        "**Dot Product**\n",
        "> of 2 vectors is the sum of their componentwise products.\n",
        "\n"
      ],
      "metadata": {
        "id": "5yY44OUCiRkz"
      }
    },
    {
      "cell_type": "code",
      "source": [
        "def dot(v: Vector, w: Vector) -> float:\n",
        "  \"\"\"Computes v_1 * w_1 + ... + v_n * w_n\"\"\"\n",
        "\n",
        "  assert len(v) == len(w), \"vectors must be of the same length\"\n",
        "\n",
        "  return sum(v_i * w_i for v_i, w_i in zip(v, w))\n",
        "\n",
        "assert dot([1,2,3], [4,5,6]) == 32"
      ],
      "metadata": {
        "id": "bglCn3RtiG4j"
      },
      "execution_count": null,
      "outputs": []
    },
    {
      "cell_type": "markdown",
      "source": [
        "`dot(v,w)` - the length of the vector you'd get if v is _projected_ onto w."
      ],
      "metadata": {
        "id": "NBkib1DllCuv"
      }
    },
    {
      "cell_type": "code",
      "source": [
        "def sum_of_squares(v: Vector) -> float:\n",
        "  \"\"\"Returns v_1 * v_1 + ... + v_n * v_n\"\"\"\n",
        "  return dot(v,v)\n",
        "\n",
        "assert sum_of_squares([1,2,3]) == 14"
      ],
      "metadata": {
        "id": "uLxSBD3gjt2c"
      },
      "execution_count": null,
      "outputs": []
    },
    {
      "cell_type": "code",
      "source": [
        "# to get magnitude of a vector\n",
        "import math\n",
        "def magnitude(v: Vector)-> float:\n",
        "  \"\"\"Returns the magnitude (or length) of v\"\"\"\n",
        "  return math.sqrt(sum_of_squares(v))\n",
        "\n",
        "assert magnitude([3,4]) == 5"
      ],
      "metadata": {
        "id": "oEy8iaBqodYE"
      },
      "execution_count": null,
      "outputs": []
    },
    {
      "cell_type": "code",
      "source": [
        "def squared_distance(v: Vector, w: Vector) -> float:\n",
        "  \"\"\"Computes (v_1 - w_1) ** 2 + ... + (v_n - w_n) ** 2\"\"\"\n",
        "  return sum_of_squares(subtract(v, w))\n",
        "\n",
        "def distance_1(v: Vector, w: Vector) -> float:\n",
        "  \"\"\"Computes the distance between v and w\"\"\"\n",
        "  return math.sqrt(squared_distance(v, w))\n",
        "\n",
        "# OR we can only write (and both can equallty work)\n",
        "\n",
        "def distance_2(v: Vector, w: Vector) -> float:\n",
        "  return magnitude(subtract(v, w))"
      ],
      "metadata": {
        "id": "lp4O9cjnpSaP"
      },
      "execution_count": null,
      "outputs": []
    },
    {
      "cell_type": "markdown",
      "source": [
        "# Matrices"
      ],
      "metadata": {
        "id": "N5FNo0OvqN_S"
      }
    },
    {
      "cell_type": "code",
      "source": [
        "# Another type alias\n",
        "Matrix = List[List[float]]\n",
        "\n",
        "A = [[1,2,3], [4,5,6]] # A has 2 rows and 3 columns\n",
        "B = [[1,2], [3,4], [5,6]]"
      ],
      "metadata": {
        "id": "9As1PY8GqBMN"
      },
      "execution_count": null,
      "outputs": []
    },
    {
      "cell_type": "code",
      "source": [
        "# to get the shape (dimensions) of the matrix.\n",
        "\n",
        "from typing import Tuple\n",
        "\n",
        "def shape(A: Matrix) -> Tuple[int, int]:\n",
        "  \"\"\"Returns (# of rows of A, # of columns of A)\"\"\"\n",
        "\n",
        "  num_rows = len(A)\n",
        "  num_cols = len(A[0]) if A else 0 # number of elements in first row\n",
        "  return num_rows, num_cols\n",
        "\n",
        "assert shape([[1,2,3], [4,5,6]]) == (2,3) # 2 rows, 3 columns"
      ],
      "metadata": {
        "id": "eqtCMjioqmc9"
      },
      "execution_count": null,
      "outputs": []
    },
    {
      "cell_type": "code",
      "source": [
        "def get_row(A: Matrix, i: int) -> Vector:\n",
        "  \"\"\"Returns the i-th row of A (as a vector)\"\"\"\n",
        "  return A[i]\n",
        "\n",
        "def get_columns(A: Matrix, j: int) -> Vector:\n",
        "  \"\"\"Returns the j-th column of A (as a vector)\"\"\"\n",
        "  return [A_i[j] for A_i in A]"
      ],
      "metadata": {
        "id": "ViTcCesxrpVM"
      },
      "execution_count": null,
      "outputs": []
    },
    {
      "cell_type": "code",
      "source": [
        "from typing import Callable\n",
        "\n",
        "def make_matrix(num_rows: int, num_cols: int, entry_fn: Callable[[int, int], float]) -> Matrix:\n",
        "  \"\"\"Returns a num_rows X num_cols matrix whose (i, j)-th entry is entry_fn(i, j)\"\"\"\n",
        "  return [[entry_fn(i, j) for j in range(num_cols)] for i in range(num_rows)]"
      ],
      "metadata": {
        "id": "FHKvVDFYsPKd"
      },
      "execution_count": null,
      "outputs": []
    },
    {
      "cell_type": "code",
      "source": [
        "def identity_matrix(n: int) -> Matrix:\n",
        "  \"\"\"Returns the n X n identity matrix\"\"\"\n",
        "  return make_matrix(n, n, lambda i, j: 1 if i == j else 0)\n",
        "\n",
        "assert identity_matrix(5) == [[1, 0, 0, 0, 0],\n",
        " [0, 1, 0, 0, 0],\n",
        " [0, 0, 1, 0, 0],\n",
        " [0, 0, 0, 1, 0],\n",
        " [0, 0, 0, 0, 1]]"
      ],
      "metadata": {
        "id": "KjCJFPKHtobW"
      },
      "execution_count": null,
      "outputs": []
    },
    {
      "cell_type": "code",
      "source": [
        "friendships = [(0,1), (0,2), (1,2), (1,3), (2,3), (3,4), (4,5), (5,6), (5,7), (6,8), (7,8), (8,9)]\n",
        "\n",
        "# can be represented as \n",
        "\n",
        "friend_matrix = [[0, 1, 1, 0, 0, 0, 0, 0, 0, 0],  # user 0\n",
        "                 [1, 0, 1, 1, 0, 0, 0, 0, 0, 0],  # user 1\n",
        "                 [1, 1, 0, 1, 0, 0, 0, 0, 0, 0],  # user 2\n",
        "                 [0, 1, 1, 0, 1, 0, 0, 0, 0, 0],  # user 3\n",
        "                 [0, 0, 0, 1, 0, 1, 0, 0, 0, 0],  # user 4\n",
        "                 [0, 0, 0, 0, 1, 0, 1, 1, 0, 0],  # user 5\n",
        "                 [0, 0, 0, 0, 0, 1, 0, 0, 1, 0],  # user 6\n",
        "                 [0, 0, 0, 0, 0, 1, 0, 0, 1, 0],  # user 7\n",
        "                 [0, 0, 0, 0, 0, 0, 1, 1, 0, 1],  # user 8\n",
        "                 [0, 0, 0, 0, 0, 0, 0, 0, 1, 0]]  # user 9"
      ],
      "metadata": {
        "id": "2nkv9Srvt27c"
      },
      "execution_count": null,
      "outputs": []
    },
    {
      "cell_type": "code",
      "source": [
        "assert friend_matrix[0][2] == 1\n",
        "assert friend_matrix[0][8] == 0"
      ],
      "metadata": {
        "id": "R8teQ5UPt6hF"
      },
      "execution_count": null,
      "outputs": []
    },
    {
      "cell_type": "code",
      "source": [
        "friends_of_six = [i for i, is_friend in enumerate(friend_matrix[5]) if is_friend]\n",
        "friends_of_six"
      ],
      "metadata": {
        "colab": {
          "base_uri": "https://localhost:8080/"
        },
        "id": "4g8idKbKwydl",
        "outputId": "716e21b2-013d-4ccd-f282-cbf525a4e16a"
      },
      "execution_count": 29,
      "outputs": [
        {
          "output_type": "execute_result",
          "data": {
            "text/plain": [
              "[4, 6, 7]"
            ]
          },
          "metadata": {},
          "execution_count": 29
        }
      ]
    },
    {
      "cell_type": "markdown",
      "source": [
        "### Creating a Network graph for visualization"
      ],
      "metadata": {
        "id": "ZA1fF5Qfxmd3"
      }
    },
    {
      "cell_type": "code",
      "source": [
        "import matplotlib.pyplot as plt\n",
        "import networkx as nx\n",
        "import numpy as np\n",
        "\n",
        "def show_graph_with_labels(adjacency_matrix, mylabels):\n",
        "    rows, cols = np.where(adjacency_matrix == 1)\n",
        "    edges = zip(rows.tolist(), cols.tolist())\n",
        "    gr = nx.Graph()\n",
        "    gr.add_edges_from(edges)\n",
        "    nx.draw(gr, node_size=500, with_labels=True)\n",
        "    plt.show()"
      ],
      "metadata": {
        "id": "FNLuJTPDxCGe"
      },
      "execution_count": 47,
      "outputs": []
    },
    {
      "cell_type": "code",
      "source": [
        "show_graph_with_labels(adjacency_matrix=np.array(friend_matrix))"
      ],
      "metadata": {
        "id": "g3eHa21VxhhO",
        "colab": {
          "base_uri": "https://localhost:8080/",
          "height": 319
        },
        "outputId": "175c50ad-9d10-4d62-84b0-6c4d42454d3b"
      },
      "execution_count": 48,
      "outputs": [
        {
          "output_type": "display_data",
          "data": {
            "text/plain": [
              "<Figure size 432x288 with 1 Axes>"
            ],
            "image/png": "[encoded data removed]"
          },
          "metadata": {}
        }
      ]
    }
  ]
}