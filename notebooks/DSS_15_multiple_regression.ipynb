{
 "cells": [
  {
   "cell_type": "markdown",
   "id": "103a5d37-362d-4661-9e70-fc9ccce41748",
   "metadata": {},
   "source": [
    "# Multiple Regression\n",
    "\n",
    "## key concepts\n",
    "- For a slightly advanced model in the linear domain, we can add more variables (features) to our model.\n",
    "\n",
    "$$\n",
    "y_i = \\beta_1 x_{i1} + \\beta_2 x_{i2} + \\beta_3 x_{i3} + \\alpha + \\varepsilon_i\n",
    "$$\n",
    "\n",
    "Where:\n",
    "- $y_i$ = response (dependent) variable (response)\n",
    "- $x_{i1}, x_{i2}, x_{i3}$ = predictor variables\n",
    "- $\\beta_1$, $\\beta_2$, $\\beta_3$ = coefficients\n",
    "- $\\alpha$ = intercept\n",
    "- $\\varepsilon_i$ = error term (noise)\n",
    "\n",
    "> The $\\varepsilon_i$ can be understood in better detail as :\n",
    "> - Error term to represent that there are other factors not accounted for by this simple model.\n",
    "> - In 3b1b term, model is trying to do _book-keeping_. [Reference](https://youtu.be/9-Jl0dxWQs8?si=35nObUMC-FQVgPPh)\n",
    "\n",
    "-----------"
   ]
  },
  {
   "cell_type": "markdown",
   "id": "d4181436-f011-4660-9df4-66fd10e97d04",
   "metadata": {},
   "source": [
    "## Multiple Linear regression intuition\n",
    "\n",
    "- Model a response variable $y_i$ using multiple input features.\n",
    "\n",
    "### Model:\n",
    "$$\n",
    "y_i = \\beta_0 + \\beta_1 x_{i1} + ... + \\beta_k x_{ik} + \\varepsilon_i\n",
    "$$\n",
    "\n",
    "#### In vector notation:\n",
    "\n",
    "$$\n",
    "y_i = \\mathbf{x}_i \\cdot \\boldsymbol{\\beta}\n",
    "$$\n",
    "\n",
    "Where:\n",
    "- $\\mathbf{x}i = [1, x_{i1}, x_{i2}, x_{i3}, .... x_{ik}]$ → input vector with a leading 1 for the intercept\n",
    "- $\\boldsymbol{\\beta} = [\\beta_0, \\beta_1, \\beta_2, \\beta_3, ..., \\beta_k]$ → parameter vector (includes intercept)\n",
    "\n",
    "------------"
   ]
  },
  {
   "cell_type": "code",
   "execution_count": 1,
   "id": "b52d5dc0-fb21-4029-b203-e9a398ea8b23",
   "metadata": {},
   "outputs": [],
   "source": [
    "import os\n",
    "import tqdm\n",
    "\n",
    "import numpy as np\n",
    "os.chdir(\"..\")"
   ]
  },
  {
   "cell_type": "code",
   "execution_count": 2,
   "id": "9ed0b330-73a4-4994-a1d9-939956601fb3",
   "metadata": {},
   "outputs": [],
   "source": [
    "from support.linear_algebra import dot, Vector\n",
    "\n",
    "def predict(x, beta):\n",
    "    \"\"\"Predicts y given input vector x and coeffecients beta.\n",
    "    Assumes x[0] is 1 for the intercept term.\n",
    "    \"\"\"\n",
    "\n",
    "    return dot(x, beta)"
   ]
  },
  {
   "cell_type": "code",
   "execution_count": 3,
   "id": "fc8d4441-6219-4767-a11d-e5a7ab859c49",
   "metadata": {},
   "outputs": [
    {
     "data": {
      "text/plain": [
       "66.5"
      ]
     },
     "execution_count": 3,
     "metadata": {},
     "output_type": "execute_result"
    }
   ],
   "source": [
    "x_i = [1, 49, 4, 0] # [intercept, var-1, var-2, categorical variable 3]\n",
    "beta = [1.0, 1.5, -2.0, 3.0] # example weights\n",
    "\n",
    "predict(x_i, beta)"
   ]
  },
  {
   "cell_type": "markdown",
   "id": "a501b88e-9ef3-41f0-bbf5-b5d62faab4b7",
   "metadata": {},
   "source": [
    "# Assumptions Behind Multiple Linear Regression (Least Squares)\n",
    "\n",
    "### For multiple regression to work correctly and give reliable estimates, two key assumptions must hold:\n",
    "\n",
    "1. No Perfect Multicollinearity\n",
    "\n",
    "> No predictor `(e.g., var-2)` should be an exact linear combination of other predictors (e.g., var-1, var-3, etc.).\n",
    "\n",
    "**Why is this important?**\n",
    "\n",
    "> If one variable can be formed exactly by combining others, the model can’t determine how much weight to assign to each.\n",
    "> It becomes impossible to uniquely estimate the coefficients.\n",
    "\n",
    "------------------\n",
    "\n",
    "2. No Correlation should exist b/w `Predictors` and `Errors`.\n",
    "\n",
    "The model assumes that the input variables are ***not*** correlated with the error terms.\n",
    "\n",
    "**Why does this matter?**\n",
    "> If this assumption fails, the model can systematically mis-estimate the coefficients.\n",
    "> Even if the predictors (features) look good individually, they may be indirectly masking the effect of others, leading to biased results.\n",
    "\n",
    "------------------\n",
    "\n",
    "#### Summary\n",
    "- Predictors should be independent from each other.\n",
    "- Predictors should also be independent from the errors.\n",
    "\n",
    "If these assumptions are not met, the model might still work, but the results will be misleading. Coefficients will not reflect the correct underlying relationships.\n",
    "\n",
    "------------------"
   ]
  },
  {
   "cell_type": "markdown",
   "id": "f244d0ff-5c07-4c48-8e0f-ac987203a8c6",
   "metadata": {},
   "source": [
    "## Fitting the model\n",
    "\n",
    "> choosing the `beta` to minimise the sum of squared errors.\n",
    "> *gradient descent* will be used."
   ]
  },
  {
   "cell_type": "code",
   "execution_count": 4,
   "id": "c9435317-1495-4e0b-801b-72e2a3fe624e",
   "metadata": {},
   "outputs": [],
   "source": [
    "from typing import List, Tuple\n",
    "\n",
    "def error(x: Vector, y: float, beta: Vector) -> float:\n",
    "    return predict(x, beta) - y \n",
    "\n",
    "def squared_error(x: Vector, y: float, beta: Vector) -> float:\n",
    "    return error(x, y, beta) ** 2"
   ]
  },
  {
   "cell_type": "code",
   "execution_count": 5,
   "id": "ff199b89-f092-48ba-ab2d-a0323526c5d4",
   "metadata": {},
   "outputs": [],
   "source": [
    "x = [1,2,3]\n",
    "y = 30\n",
    "beta = [4,4,4] # so prediction = 4+8+12=24"
   ]
  },
  {
   "cell_type": "code",
   "execution_count": 6,
   "id": "5e3b9291-7828-42ff-9827-6a7e69db65e0",
   "metadata": {},
   "outputs": [],
   "source": [
    "assert error(x, y, beta) == -6\n",
    "assert squared_error(x, y, beta) == 36"
   ]
  },
  {
   "cell_type": "markdown",
   "id": "f5a16c67-3d03-45d8-95b0-cb9b06e05d62",
   "metadata": {},
   "source": [
    "### Formula Behind `sqerror_gradient`\n",
    "\n",
    "> The gradient of the squared error loss function wrt the parameter vector $\\boldsymbol{\\beta}$ is:\n",
    "\n",
    "$$\n",
    "\\nabla_{\\beta} \\text{SE} = \\frac{\\partial}{\\partial \\beta} (y - \\hat{y})^2 = -2 (y - \\hat{y}) \\cdot \\mathbf{x}\n",
    "$$\n",
    "\n",
    "Or rewritten (since $\\hat{y} = \\mathbf{x} \\cdot \\boldsymbol{\\beta}$):\n",
    "\n",
    "$$\n",
    "\\nabla_{\\beta} \\text{SE} = 2 \\cdot (\\hat{y} - y) \\cdot \\mathbf{x}\n",
    "$$"
   ]
  },
  {
   "cell_type": "code",
   "execution_count": 7,
   "id": "9e96b714-e1db-4719-883a-6e2c896ac790",
   "metadata": {},
   "outputs": [],
   "source": [
    "# using calculus\n",
    "\n",
    "def sqerror_gradient(x: Vector, y: float, beta: Vector) -> Vector:\n",
    "    err = error(x, y, beta)\n",
    "    return [2 * err * x_i for x_i in x]"
   ]
  },
  {
   "cell_type": "code",
   "execution_count": 8,
   "id": "9d4428ba-6fed-49f4-93fc-7fab00abbd79",
   "metadata": {},
   "outputs": [],
   "source": [
    "assert sqerror_gradient(x, y, beta) == [-12, -24, -36]"
   ]
  },
  {
   "cell_type": "code",
   "execution_count": 9,
   "id": "b94f6feb-b6c0-45d9-9d7e-6eb2d9a778be",
   "metadata": {},
   "outputs": [],
   "source": [
    "import random\n",
    "\n",
    "from support.linear_algebra import vector_mean\n",
    "from support.gradient_descent import gradient_step\n",
    "\n",
    "def least_squares_fit(xs: List[Vector], \n",
    "                     ys: List[float], \n",
    "                     learning_rate: float = 0.001, \n",
    "                     num_steps: int = 1000, \n",
    "                     batch_size: int = 1) -> Tuple[Vector, List[Vector], List[float]]:\n",
    "    \"\"\"\n",
    "    Find the beta that minimises the sum of squared errors \n",
    "    assuming the model y = dot(x, beta)\n",
    "\n",
    "    Also, history of beta, & loss values.\n",
    "    \"\"\"\n",
    "\n",
    "    # random initialisation\n",
    "    guess = [np.random.random() for _ in xs[0]]\n",
    "\n",
    "    beta_history = []\n",
    "    loss_history = []\n",
    "    \n",
    "    for _ in tqdm.trange(num_steps, desc=\"least square fit\"):\n",
    "        for start in range(0, len(xs), batch_size):\n",
    "            batch_xs = xs[start:start+batch_size]\n",
    "            batch_ys = ys[start:start+batch_size]\n",
    "\n",
    "            gradient = vector_mean([sqerror_gradient(x, y, guess) \n",
    "                                    for x, y in zip(batch_xs, batch_ys)])\n",
    "            guess = gradient_step(guess, gradient, -learning_rate)\n",
    "\n",
    "        beta_history.append(guess[:]) # copy\n",
    "        loss = sum((sum(x_i * b_i for x_i, b_i in zip(x, guess)) - y)**2 for x, y in zip(xs, ys))/len(xs)\n",
    "        loss_history.append(loss)\n",
    "        \n",
    "    return guess, beta_history, loss_history"
   ]
  },
  {
   "cell_type": "markdown",
   "id": "3e514188-8c20-4bbe-934c-443e15e6d3e3",
   "metadata": {},
   "source": [
    "### Intuitive Explanation of `least_squares_fit` Function\n",
    "\n",
    "This function tries to find the best line (or plane) that fits the given data. It does this by minimising the total error between the predicted and actual values. \n",
    "\n",
    "1. **Goal**: Find the best weights (`beta`) so that when we multiply them with input data (`x`), we get values close to the actual results (`y`). *This is called minimising squared error.*\n",
    "\n",
    "2. **Start with a random guess**: We begin with a random guess for the weights.\n",
    "\n",
    "3. **Iteratively improve the guess**:\n",
    "   - For a number of steps (e.g., 1000 or more), we keep adjusting our guess.\n",
    "   - In each step, we take a small batch of data points.\n",
    "   - For each point in the batch, we calculate the error and how to reduce it (the gradient).\n",
    "   - We average these gradients for the batch.\n",
    "   - Then we slightly move our guess in the direction that reduces the error (this is gradient descent).\n",
    "\n",
    "4. **Repeat until good enough**: By doing this many times, our guess (the weights) becomes better and better at predicting the right values.\n",
    "\n",
    "5. **Return final weights**: After all steps, we return the weights that give the smallest error.\n",
    "\n",
    "In short:  \n",
    "_We start with a bad guess, measure how wrong it is, and keep tweaking it step by step until it's good._\n",
    "\n",
    "--------------------"
   ]
  },
  {
   "cell_type": "code",
   "execution_count": 10,
   "id": "af445d21-8bd1-4e9a-be18-33eddad257b4",
   "metadata": {},
   "outputs": [],
   "source": [
    "import matplotlib.pyplot as plt\n",
    "\n",
    "def plot_predictions(xs, ys, beta):\n",
    "    \"\"\"\n",
    "    Plot actual vs predicted values for visual understanding.\n",
    "    Works well when input has one feature + intercept.\n",
    "    \"\"\"\n",
    "    # Assuming xs are [1, x1] (intercept + one feature)\n",
    "    xs_feature = [x[1] for x in xs]\n",
    "    preds = [sum(x_i * b_i for x_i, b_i in zip(x, beta)) for x in xs]\n",
    "\n",
    "    plt.scatter(xs_feature, ys, color='blue', label='Actual')\n",
    "    plt.plot(xs_feature, preds, color='red', label='Predicted')\n",
    "    plt.xlabel(\"Feature\")\n",
    "    plt.ylabel(\"Target\")\n",
    "    plt.title(\"Actual vs Predicted\")\n",
    "    plt.legend()\n",
    "    plt.grid(True)\n",
    "    plt.show()"
   ]
  },
  {
   "cell_type": "markdown",
   "id": "a8597672-6f63-4615-be99-b6df547fe5d7",
   "metadata": {},
   "source": [
    "### least_square_fit function\n",
    "> Generic function which will work with any dataset."
   ]
  },
  {
   "cell_type": "code",
   "execution_count": 11,
   "id": "89f2455a-9526-43e0-8400-83346202c2d0",
   "metadata": {},
   "outputs": [
    {
     "name": "stderr",
     "output_type": "stream",
     "text": [
      "least square fit: 100%|██████████████████████████████████████████████| 5000/5000 [00:01<00:00, 3398.84it/s]\n"
     ]
    }
   ],
   "source": [
    "from support.predefined_data import daily_minutes_good, inputs\n",
    "from support.gradient_descent import gradient_step\n",
    "\n",
    "np.random.seed(123)\n",
    "learning_rate=0.001\n",
    "\n",
    "beta, beta_h, loss_h = least_squares_fit(inputs, daily_minutes_good, learning_rate, 5000, 25)\n",
    "\n",
    "assert 24.60 < beta[0] < 24.62  # constant\n",
    "assert  0.84 < beta[1] < 0.85   # num_friends\n",
    "assert -0.25 < beta[2] < -0.23 # work hours per day\n",
    "assert  0.008 < beta[3] < 0.01 # has PhD"
   ]
  },
  {
   "cell_type": "code",
   "execution_count": 12,
   "id": "58ee33bc-20fd-4cf2-b5b1-98d0e0f6ef6b",
   "metadata": {},
   "outputs": [
    {
     "data": {
      "image/png": "[encoded data removed]",
      "text/plain": [
       "<Figure size 640x480 with 1 Axes>"
      ]
     },
     "metadata": {},
     "output_type": "display_data"
    }
   ],
   "source": [
    "plot_predictions(inputs, daily_minutes_good, beta)"
   ]
  },
  {
   "cell_type": "code",
   "execution_count": 13,
   "id": "dadf6494-3720-43a3-9ead-8148f6617a44",
   "metadata": {},
   "outputs": [],
   "source": [
    "def plot_loss_curve(loss_history):\n",
    "    plt.plot(loss_history)\n",
    "    plt.xlabel(\"Iteration\")\n",
    "    plt.ylabel(\"Loss (MSE)\")\n",
    "    plt.title(\"Loss Curve During Optimization\")\n",
    "    plt.grid(True)\n",
    "    plt.show()"
   ]
  },
  {
   "cell_type": "code",
   "execution_count": 14,
   "id": "fe2a5831-7f66-4cf6-9c9d-94bf4f6d895f",
   "metadata": {},
   "outputs": [
    {
     "data": {
      "image/png": "[encoded data removed]",
      "text/plain": [
       "<Figure size 640x480 with 1 Axes>"
      ]
     },
     "metadata": {},
     "output_type": "display_data"
    }
   ],
   "source": [
    "plot_loss_curve(loss_h)"
   ]
  },
  {
   "cell_type": "markdown",
   "id": "7e06c82c-5a55-43f6-9cd2-511d5eb9398e",
   "metadata": {},
   "source": [
    "### Goodness of fit"
   ]
  },
  {
   "cell_type": "code",
   "execution_count": 15,
   "id": "ecb08c6f-fd49-487a-bca5-99da1aa56f36",
   "metadata": {},
   "outputs": [],
   "source": [
    "from support.simple_linear_regression import total_sum_of_squares\n",
    "\n",
    "def multiple_r_squared(xs: List[Vector], ys: Vector, beta: Vector) -> float:\n",
    "    sum_of_squared_errors = sum(error(x, y, beta) ** 2 \n",
    "                                for x, y in zip(xs, ys))\n",
    "    return 1.0 - sum_of_squared_errors / total_sum_of_squares(ys)"
   ]
  },
  {
   "cell_type": "code",
   "execution_count": 16,
   "id": "4aa76961-9edb-4713-be35-b28e32fec870",
   "metadata": {},
   "outputs": [],
   "source": [
    "assert 0.32 < multiple_r_squared(inputs, daily_minutes_good, beta) < 0.33"
   ]
  },
  {
   "cell_type": "markdown",
   "id": "93e96369-4640-44e5-97a9-5cf08b85ffc4",
   "metadata": {},
   "source": [
    "## Intuition Behind Adding Variables in Regression and Coefficient Confidence\n",
    "\n",
    "### 1. **Adding More Variables Increases R-squared (But Be Careful)**\n",
    "When we add more input variables (features) to a regression model, the model will always fit the data *at least as well* as before, better even. Why?\n",
    "\n",
    "Because the simple regression (say, only using `num_friends`) is just a special case of a bigger model (say, using `num_friends`, `work_hours`, and `has_phd`) where the extra variables have zero effect (their coefficients are 0).\n",
    "\n",
    "**Key point**: R-squared will always go up or stay the same when you add more variables — even if those variables are useless. So we shouldn't rely on R-squared alone to decide if a model is better.\n",
    "\n",
    "---\n",
    "\n",
    "### 2. **Check Standard Errors to Trust Coefficients**\n",
    "Even if your model has a great R-squared, that doesn’t mean every coefficient (each β value) is meaningful.\n",
    "\n",
    "Because if your input variables are:\n",
    "- **Highly correlated** (e.g. work_hours and has_phd),\n",
    "- Or **not actually useful**,  \n",
    "\n",
    "Then the model might give random-ish β values for those inputs just to force a better fit.\n",
    "\n",
    "To judge how reliable each coefficient is, we look at its **standard error** — this tells us how confident the model is about that particular β.\n",
    "\n",
    "---\n",
    "\n",
    "### 3. **What Do Standard Errors Actually Assume?**\n",
    "We assume:\n",
    "- The model errors (ε) are **random**, **independent**, and **normally distributed** with mean 0.\n",
    "- All errors share a common standard deviation (σ).\n",
    "\n",
    "With this assumption, we can calculate how “noisy” or “reliable” each β is using standard errors.\n",
    "\n",
    "---\n",
    "\n",
    "### TL;DR\n",
    "- **More features ≠ better model** — they just fit the data better on paper.\n",
    "- Always check **standard errors** to know which features really matter.\n",
    "- Leave the math to the libraries, and focus on interpreting the outputs wisely."
   ]
  },
  {
   "cell_type": "markdown",
   "id": "c00242ff-91ce-4d29-8f04-0899d4d85741",
   "metadata": {},
   "source": [
    "## Bootstrap"
   ]
  },
  {
   "cell_type": "code",
   "execution_count": 17,
   "id": "04164f1e-2e65-4537-9dbf-60d6b38feba8",
   "metadata": {},
   "outputs": [],
   "source": [
    "from typing import TypeVar, Callable\n",
    "\n",
    "X = TypeVar('X') # generic type for data\n",
    "Stat = TypeVar('Stat') # generic type for 'statistic'\n",
    "\n",
    "def bootstrap_sample(data: List[X]) -> List[X]:\n",
    "    \"\"\"randomly samples len(data) elements with replacement\"\"\"\n",
    "    return [random.choice(data) for _ in data]\n",
    "\n",
    "def bootstrap_statistic(data: List[X], \n",
    "                        stats_fn: Callable[[List[X]], Stat], \n",
    "                        num_samples: int) -> List[Stat]:\n",
    "    \"\"\"evaluates stats_fn on num_samples boostrap samples from data\"\"\"\n",
    "    return [stats_fn(bootstrap_sample(data)) for _ in range(num_samples)]"
   ]
  },
  {
   "cell_type": "code",
   "execution_count": 18,
   "id": "3e409ed2-56a7-4a21-979e-368e18ca2463",
   "metadata": {},
   "outputs": [],
   "source": [
    "# 101 points close to 100\n",
    "close_to_100 = [99.5 + np.random.random() for _ in range(101)]\n",
    "\n",
    "# 101 points, 50 of them near 0, 50 of them near 200\n",
    "far_from_100 = ([99.5 + np.random.random()] +\n",
    "                [np.random.random() for _ in range(50)] +\n",
    "                [200 + np.random.random() for _ in range(50)])"
   ]
  },
  {
   "cell_type": "code",
   "execution_count": 19,
   "id": "02bc854e-659d-40c8-8899-08a4e5060768",
   "metadata": {},
   "outputs": [],
   "source": [
    "from support.statistics import median, stddev\n",
    "\n",
    "medians_close = bootstrap_statistic(close_to_100, median, 100)"
   ]
  },
  {
   "cell_type": "code",
   "execution_count": 20,
   "id": "efbaa6a7-4b30-4406-8ac3-fc05fbb5c345",
   "metadata": {},
   "outputs": [],
   "source": [
    "medians_far = bootstrap_statistic(far_from_100, median, 100)"
   ]
  },
  {
   "cell_type": "code",
   "execution_count": 21,
   "id": "cc84a6c1-cc0d-42fa-ac1e-1e650a028898",
   "metadata": {},
   "outputs": [],
   "source": [
    "assert stddev(medians_close) < 1\n",
    "assert stddev(medians_far) > 90"
   ]
  },
  {
   "cell_type": "markdown",
   "id": "132c6e9b-da4b-43f8-a5c4-8ad7d5d5b0fc",
   "metadata": {},
   "source": [
    "### Standard errors of regression coefficients\n",
    "\n",
    "> I didn't find the writings in the book intuitive, so **here is my version**\n",
    "--------"
   ]
  },
  {
   "cell_type": "markdown",
   "id": "390c3069-2a19-4ef3-9063-4eb4dd05d555",
   "metadata": {},
   "source": [
    "## What Are Standard Errors of Regression Coefficients?\n",
    "\n",
    "When you run a regression, your model gives you numbers (called **coefficients**) for each feature. Like:\n",
    "\n",
    "- β₀ = constant\n",
    "- β₁ = effect of number of friends\n",
    "- β₂ = effect of work hours\n",
    "- β₃ = effect of PhD\n",
    "\n",
    "### But how reliable are those numbers?\n",
    "\n",
    "They come from your **sample** of data, if you used a different sample, you'd probably get slightly different results.\n",
    "\n",
    "So let's ask: **How much would each β value change if we repeat the regression with different data samples?**\n",
    "\n",
    "---\n",
    "\n",
    "## Bootstrapping: The Simple Idea\n",
    "\n",
    "1. Take a random sample *with replacement* from your data.\n",
    "2. Run the regression on that sample → get a new β.\n",
    "3. Repeat this 100+ times → you get 100+ sets of βs.\n",
    "4. **Look at how much each coefficient varies across samples.**\n",
    "\n",
    "If a coefficient (say, for `num_friends`) stays almost the same every time, that means it’s **stable and reliable**.\n",
    "\n",
    "If it jumps all over the place? That means it’s **noisy and untrustworthy**.\n",
    "\n",
    "---\n",
    "\n",
    "## How We Measure This: Standard Error\n",
    "\n",
    "Just take the **standard deviation** of all the bootstrapped βs for each feature. This is a measure of **how uncertain** it is about each β.\n",
    "\n",
    "What are we trying to do with this?\n",
    "\n",
    "We test: “Could this coefficient actually be zero?”\n",
    "\n",
    "> Example: if β = 0.972 and its standard error = 0.103 : that’s a tight estimate. It’s very unlikely to be zero. That variable (like `num_friends`) is useful.\n",
    "\n",
    "> But if β = 0.923 and std error = 1.249 : that’s messy. Could easily be just random noise. Maybe `has_phd` doesn’t really affect the outcome.\n",
    "\n",
    "------\n",
    "\n",
    "## TL;DR\n",
    "* Bootstrapping = repeat regression on different samples to see how stable each β is.\n",
    "* Standard error = how much each β varies.\n",
    "* Big standard error = we’re not confident about that feature’s effect.\n",
    "* Use this to tell which variables matter and which are probably noise.\n",
    "-----"
   ]
  },
  {
   "cell_type": "code",
   "execution_count": 22,
   "id": "eeb0d911-6635-4490-a5b9-6b0d61e07679",
   "metadata": {},
   "outputs": [],
   "source": [
    "def estimate_sample_beta(pairs: List[Tuple[Vector, float]], print_flag=False):\n",
    "    x_sample = [x for x, _ in pairs]\n",
    "    y_sample = [y for _, y in pairs]\n",
    "\n",
    "    beta, _, _ = least_squares_fit(x_sample, y_sample, learning_rate, 5000, 25)\n",
    "    if print_flag:\n",
    "        print(\"bootstrap_sample\", beta)\n",
    "    return beta"
   ]
  },
  {
   "cell_type": "code",
   "execution_count": 23,
   "id": "a1a7f4af-b137-4f35-bcca-6b0ab37dce8a",
   "metadata": {},
   "outputs": [],
   "source": [
    "np.random.seed(123)"
   ]
  },
  {
   "cell_type": "code",
   "execution_count": 24,
   "id": "4593d8ea-f4fc-432e-97da-adaa1dddd12a",
   "metadata": {},
   "outputs": [
    {
     "name": "stderr",
     "output_type": "stream",
     "text": [
      "least square fit: 100%|██████████████████████████████████████████████| 5000/5000 [00:01<00:00, 3376.66it/s]\n",
      "least square fit: 100%|██████████████████████████████████████████████| 5000/5000 [00:01<00:00, 3387.63it/s]\n",
      "least square fit: 100%|██████████████████████████████████████████████| 5000/5000 [00:01<00:00, 3379.95it/s]\n",
      "least square fit: 100%|██████████████████████████████████████████████| 5000/5000 [00:01<00:00, 3400.59it/s]\n",
      "least square fit: 100%|██████████████████████████████████████████████| 5000/5000 [00:01<00:00, 3297.71it/s]\n",
      "least square fit: 100%|██████████████████████████████████████████████| 5000/5000 [00:01<00:00, 3371.74it/s]\n",
      "least square fit: 100%|██████████████████████████████████████████████| 5000/5000 [00:01<00:00, 3334.41it/s]\n",
      "least square fit: 100%|██████████████████████████████████████████████| 5000/5000 [00:01<00:00, 3371.88it/s]\n",
      "least square fit: 100%|██████████████████████████████████████████████| 5000/5000 [00:01<00:00, 3376.15it/s]\n",
      "least square fit: 100%|██████████████████████████████████████████████| 5000/5000 [00:01<00:00, 3360.59it/s]\n"
     ]
    }
   ],
   "source": [
    "bootstrap_betas = bootstrap_statistic(list(zip(inputs, daily_minutes_good)), estimate_sample_beta, 10)"
   ]
  },
  {
   "cell_type": "code",
   "execution_count": 25,
   "id": "522240e3-7883-42bd-8b5e-033220b57bc1",
   "metadata": {},
   "outputs": [],
   "source": [
    "# standard deviation of each coeffecient\n",
    "\n",
    "bootstrap_standard_errors = [stddev([beta[i] for beta in bootstrap_betas]) \n",
    "                             for i in range(4)]"
   ]
  },
  {
   "cell_type": "code",
   "execution_count": 26,
   "id": "49093c4c-a336-47c6-8a8f-278ddb9d32b5",
   "metadata": {},
   "outputs": [
    {
     "name": "stdout",
     "output_type": "stream",
     "text": [
      "[3.0524640365766813, 0.3842709178677799, 0.7947308724101233, 3.8443670797786926]\n"
     ]
    }
   ],
   "source": [
    "print(bootstrap_standard_errors)"
   ]
  },
  {
   "cell_type": "code",
   "execution_count": 27,
   "id": "03fd1888-7287-4e6f-94e1-d05f33773eaa",
   "metadata": {},
   "outputs": [],
   "source": [
    "from support.probability import normal_cdf\n",
    "def p_value(beta_hat_j: float, sigma_hat_j: float) -> float:\n",
    "    if beta_hat_j > 0:\n",
    "        # if the coefficient is positive, we need to compute twice the\n",
    "        # probability of seeing an even *larger* value\n",
    "        return 2 * (1 - normal_cdf(beta_hat_j / sigma_hat_j))\n",
    "    else:\n",
    "        # otherwise twice the probability of seeing a *smaller* value\n",
    "        return 2 * normal_cdf(beta_hat_j / sigma_hat_j)"
   ]
  },
  {
   "cell_type": "code",
   "execution_count": 28,
   "id": "0d4f738b-31e3-4334-8f72-22f2f1a4e9dd",
   "metadata": {},
   "outputs": [],
   "source": [
    "assert p_value(30.58, 1.27) < 0.001 # constant term\n",
    "assert p_value(0.972, 0.103) < 0.001 # num_friends\n",
    "assert p_value(-1.865, 0.155) < 0.001 # work_hours\n",
    "assert p_value(0.923, 1.249) > 0.4 # phd"
   ]
  },
  {
   "cell_type": "markdown",
   "id": "2216c52a-4ff3-4cda-9bf2-6d8c18fe7353",
   "metadata": {},
   "source": [
    "## What Is the `p-value` Telling Us in Regression?\n",
    "\n",
    "The **p-value** tells you how likely it is that a given regression coefficient (β) is actually **just noise** — i.e., **not really important**.\n",
    "\n",
    "---\n",
    "\n",
    "### Imagine This:\n",
    "\n",
    "Let’s say the coefficient for `num_friends` is 0.972, with a standard error of 0.103.\n",
    "\n",
    "Now we ask:\n",
    "> “What if the true value of this coefficient is actually 0 (meaning `num_friends` doesn’t matter)?”\n",
    "\n",
    "The **p-value** answers:\n",
    "> “If `num_friends` had no real effect, what are the chances we’d see a coefficient this large just by random chance?”\n",
    "\n",
    "---\n",
    "\n",
    "### Low p-value (e.g., < 0.05):\n",
    "- It’s **unlikely** that we’d see such a big effect by chance.\n",
    "- So we say: _“This feature probably matters.”_\n",
    "\n",
    "### High p-value (e.g., > 0.4):\n",
    "- It’s **totally possible** that we got this value by luck.\n",
    "- So we say: _“This feature might just be noise.”_\n",
    "\n",
    "---\n",
    "\n",
    "### In Your Example:\n",
    "\n",
    "| Feature      | Coefficient | Std. Error | p-value | Interpretation                          |\n",
    "|--------------|-------------|------------|---------|------------------------------------------|\n",
    "| Constant     | 30.58       | 1.27       | < 0.001 | Very significant                         |\n",
    "| Num Friends  | 0.972       | 0.103      | < 0.001 | Definitely meaningful                    |\n",
    "| Work Hours   | -1.865      | 0.155      | < 0.001 | Definitely meaningful                    |\n",
    "| Has PhD      | 0.923       | 1.249      | > 0.4   | Probably **not** meaningful (just noise) |\n",
    "\n",
    "---\n",
    "\n",
    "### TL;DR\n",
    "\n",
    "- **p-value = evidence strength**\n",
    "- Small p-value → strong evidence that the variable matters\n",
    "- Big p-value → might be noise, ignore cautiously"
   ]
  },
  {
   "cell_type": "markdown",
   "id": "dbb508d6-ae6d-457d-b688-77abb05cf853",
   "metadata": {},
   "source": [
    "## Regularisation"
   ]
  },
  {
   "cell_type": "markdown",
   "id": "719f4ee9-bd25-4b43-b5ca-1104140dfb60",
   "metadata": {},
   "source": [
    "## Intuition: What Is Regularization in Regression?\n",
    "\n",
    "When you have **many input features**, your model can easily **overfit** the training data — meaning it learns noise rather than signal.\n",
    "\n",
    "Also, if your goal is **interpretability**, a model with just a few meaningful coefficients is easier to understand than one with dozens.\n",
    "\n",
    "### Regularization helps solve both problems:\n",
    "1. It prevents **overfitting**.\n",
    "2. It encourages **simpler, cleaner models** (fewer or smaller coefficients).\n",
    "\n",
    "---\n",
    "\n",
    "## How It Works\n",
    "\n",
    "Normally, regression minimizes this:\n",
    "\n",
    "$$Total Error = \\sum (actual - predicted)²$$\n",
    "\n",
    "With **regularization**, we add a penalty for big coefficients:\n",
    "\n",
    "$$Total Error = \\sum (actual - predicted)² + penalty(beta)$$\n",
    "\n",
    "----\n",
    "\n",
    "Now, even if your model could improve accuracy by giving huge weight to a variable, the penalty discourages it.\n",
    "\n",
    "---\n",
    "\n",
    "### Two Common Types of Regularization\n",
    "\n",
    "#### 1. **Ridge Regression** (L2 penalty)\n",
    "- Penalizes large coefficients.\n",
    "- Keeps all features, but shrinks their values.\n",
    "- Penalty: **sum of squares of coefficients**\n"
   ]
  },
  {
   "cell_type": "code",
   "execution_count": 29,
   "id": "98e4fd7a-e833-461d-bd01-2bdb41a4296c",
   "metadata": {},
   "outputs": [],
   "source": [
    "def ridge_penalty(beta: Vector, alpha: float) -> float:\n",
    "    return alpha * dot(beta[1:], beta[1:])  # skip beta[0]"
   ]
  },
  {
   "cell_type": "code",
   "execution_count": 30,
   "id": "090bc2ab-1f76-4c4b-bc07-02ebcd28282d",
   "metadata": {},
   "outputs": [],
   "source": [
    "## Loss Function with Ridge\n",
    "def squared_error_ridge(x: Vector, y: float, beta: Vector, alpha: float) -> float:\n",
    "    return error(x, y, beta) ** 2 + ridge_penalty(beta, alpha)"
   ]
  },
  {
   "cell_type": "code",
   "execution_count": 31,
   "id": "e566f418-bd0b-4fbe-b985-3991b0041ee8",
   "metadata": {},
   "outputs": [],
   "source": [
    "## Gradient for Ridge\n",
    "\n",
    "from support.linear_algebra import add\n",
    "def ridge_penalty_gradient(beta: Vector, alpha: float) -> Vector:\n",
    "    return [0.] + [2 * alpha * b for b in beta[1:]]  # beta[0] is untouched\n",
    "\n",
    "def sqerror_ridge_gradient(x: Vector, y: float, beta: Vector, alpha: float) -> Vector:\n",
    "    return add(sqerror_gradient(x, y, beta), ridge_penalty_gradient(beta, alpha))"
   ]
  },
  {
   "cell_type": "markdown",
   "id": "40a7cbae-e7a1-480a-af21-11f77e56fa20",
   "metadata": {},
   "source": [
    "#### 2. Lasso Regression (L1 penalty)\n",
    "- Pushes many coefficients to zero, making the model sparse.\n",
    "- Great for feature selection.\n",
    "- Penalty: sum of absolute values of coefficients"
   ]
  },
  {
   "cell_type": "code",
   "execution_count": 32,
   "id": "f8167219-9615-4431-b5a2-cb8a7fbefa56",
   "metadata": {},
   "outputs": [],
   "source": [
    "def lasso_penalty(beta: Vector, alpha: float) -> float:\n",
    "    return alpha * sum(abs(b) for b in beta[1:])"
   ]
  },
  {
   "cell_type": "markdown",
   "id": "7fd1035e-c146-41a2-a6ca-4d63564956e0",
   "metadata": {},
   "source": [
    "Lasso doesn’t work well with gradient descent due to sharp corners in the absolute value function, so we typically use special solvers like coordinate descent for it.\n",
    "\n",
    "⸻\n",
    "\n",
    "**Practical Effect of Increasing Alpha**\n",
    "\n",
    "| Alpha (Penalty Strength) | Coefficients Shrink | Fit Gets Worse | Interpretation       |\n",
    "|--------------------------|---------------------|----------------|----------------------|\n",
    "| 0                        | No penalty          | Best fit       | Can overfit          |\n",
    "| 0.1 – 1.0                | Mild penalty        | Still good fit | Safer model          |\n",
    "| 10+                      | Strong penalty      | Fit drops      | Simpler model        |\n",
    "\n",
    "E.g., in Ridge:\n",
    "* beta_PHD drops from 0.91 → 0.54 → 0.10 → ~0\n",
    "* Model gets simpler, but might lose a bit of accuracy\n",
    "\n",
    "⸻\n",
    "\n",
    "### One Important Note\n",
    "\n",
    "Always rescale (normalize) your data before applying regularization!\n",
    "\n",
    "Otherwise, variables with big units (like “years” vs “age in decades”) will get penalized unfairly just because of their scale.\n",
    "\n",
    "⸻\n",
    "\n",
    "TL;DR\n",
    "* Regularization = shrink or eliminate coefficients to prevent overfitting\n",
    "* Ridge (L2): shrinks coefficients → good when all features matter\n",
    "* Lasso (L1): kills unimportant ones → good for sparse, interpretable models\n",
    "* Higher alpha = simpler, but possibly less accurate model"
   ]
  },
  {
   "cell_type": "code",
   "execution_count": 33,
   "id": "2fe5e604-c3c7-4a31-8ad9-08673fd6d72a",
   "metadata": {},
   "outputs": [],
   "source": [
    "def least_squares_fit_ridge(xs: List[Vector],\n",
    "                            ys: List[float],\n",
    "                            alpha: float,\n",
    "                            learning_rate: float = 0.001,\n",
    "                            num_steps: int = 1000,\n",
    "                            batch_size: int = 1) -> Vector:\n",
    "    guess = [np.random.random() for _ in xs[0]]\n",
    "\n",
    "    for _ in tqdm.trange(num_steps, desc=\"ridge fit\"):\n",
    "        for start in range(0, len(xs), batch_size):\n",
    "            batch_xs = xs[start:start+batch_size]\n",
    "            batch_ys = ys[start:start+batch_size]\n",
    "\n",
    "            gradient = vector_mean([\n",
    "                sqerror_ridge_gradient(x, y, guess, alpha)\n",
    "                for x, y in zip(batch_xs, batch_ys)\n",
    "            ])\n",
    "            guess = gradient_step(guess, gradient, -learning_rate)\n",
    "\n",
    "    return guess"
   ]
  },
  {
   "cell_type": "code",
   "execution_count": 34,
   "id": "a62640b8-f4c3-4cfa-8d7a-81c4a711dfa4",
   "metadata": {},
   "outputs": [],
   "source": [
    "import matplotlib.pyplot as plt\n",
    "import numpy as np\n",
    "\n",
    "def plot_ridge_effect(alphas: List[float], betas: List[Vector], r_squareds: List[float]):\n",
    "    betas = np.array(betas)  # shape: (len(alphas), num_features)\n",
    "    \n",
    "    fig, axs = plt.subplots(1, 2, figsize=(14, 5))\n",
    "\n",
    "    # 1. Coefficients vs Alpha\n",
    "    for i in range(1, betas.shape[1]):  # skip beta[0]\n",
    "        axs[0].plot(alphas, betas[:, i], label=f'beta_{i}')\n",
    "    axs[0].set_title(\"Ridge Coefficients vs Alpha\")\n",
    "    axs[0].set_xlabel(\"Alpha (Penalty Strength)\")\n",
    "    axs[0].set_ylabel(\"Coefficient Value\")\n",
    "    axs[0].legend()\n",
    "    axs[0].grid(True)\n",
    "\n",
    "    # 2. R^2 vs Alpha\n",
    "    axs[1].plot(alphas, r_squareds, marker='o', color='red')\n",
    "    axs[1].set_title(\"Model Fit (R²) vs Alpha\")\n",
    "    axs[1].set_xlabel(\"Alpha\")\n",
    "    axs[1].set_ylabel(\"R² Score\")\n",
    "    axs[1].grid(True)\n",
    "\n",
    "    plt.tight_layout()\n",
    "    plt.show()"
   ]
  },
  {
   "cell_type": "code",
   "execution_count": 35,
   "id": "dcbf7fbe-47e4-4652-b2b7-fc376816ade2",
   "metadata": {},
   "outputs": [
    {
     "name": "stderr",
     "output_type": "stream",
     "text": [
      "ridge fit: 100%|█████████████████████████████████████████████████████| 5000/5000 [00:01<00:00, 2928.75it/s]\n",
      "ridge fit: 100%|█████████████████████████████████████████████████████| 5000/5000 [00:01<00:00, 3013.95it/s]\n",
      "ridge fit: 100%|█████████████████████████████████████████████████████| 5000/5000 [00:01<00:00, 2995.14it/s]\n",
      "ridge fit: 100%|█████████████████████████████████████████████████████| 5000/5000 [00:01<00:00, 2987.05it/s]\n"
     ]
    },
    {
     "data": {
      "image/png": "[encoded data removed]",
      "text/plain": [
       "<Figure size 1400x500 with 2 Axes>"
      ]
     },
     "metadata": {},
     "output_type": "display_data"
    }
   ],
   "source": [
    "alphas = [0.0, 0.1, 1, 10]\n",
    "betas = []\n",
    "r2_scores = []\n",
    "\n",
    "for alpha in alphas:\n",
    "    beta = least_squares_fit_ridge(inputs, daily_minutes_good, alpha, learning_rate, 5000, 25)\n",
    "    betas.append(beta)\n",
    "    r2_scores.append(multiple_r_squared(inputs, daily_minutes_good, beta))\n",
    "\n",
    "plot_ridge_effect(alphas, betas, r2_scores)"
   ]
  },
  {
   "cell_type": "markdown",
   "id": "f77f7336-8618-45ca-86ef-8f249128e5d3",
   "metadata": {},
   "source": [
    "-----\n",
    "# Script Complete"
   ]
  }
 ],
 "metadata": {
  "kernelspec": {
   "display_name": "Python 3 (ipykernel)",
   "language": "python",
   "name": "python3"
  },
  "language_info": {
   "codemirror_mode": {
    "name": "ipython",
    "version": 3
   },
   "file_extension": ".py",
   "mimetype": "text/x-python",
   "name": "python",
   "nbconvert_exporter": "python",
   "pygments_lexer": "ipython3",
   "version": "3.11.11"
  }
 },
 "nbformat": 4,
 "nbformat_minor": 5
}
