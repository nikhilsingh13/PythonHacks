{
 "cells": [
  {
   "cell_type": "markdown",
   "id": "a3196040-648f-4a94-a16b-31de082c5c3d",
   "metadata": {},
   "source": [
    "# Naive Bayes\n",
    "\n",
    "- Spam or no Spam"
   ]
  },
  {
   "cell_type": "markdown",
   "id": "3008a403-bcfd-4400-8608-30ef17c197a7",
   "metadata": {},
   "source": [
    "> The code below can be found in the book as well with minor changes...."
   ]
  },
  {
   "cell_type": "markdown",
   "id": "b4f3804e-be73-40aa-a211-cb4bd280f953",
   "metadata": {},
   "source": [
    "**The reason this technique is considered `naive` (or simplistic) is that it makes some simple yet extreme assumptions.**  \n",
    "- In probability terms, we say the events are mutually exclusive.\n",
    "\n",
    "**What are the events?**  \n",
    "- The occurrence of one word in the `email` (or any text) is assumed to have no connection with another word.\n",
    "\n",
    "Nowadays, this assumption can be outright rejected, but the point is: it's a simple yet powerful technique that utilises one of the key concepts of probability to make wise predictions.\n",
    "\n",
    "The formula representing the above assumption is:\n",
    "\n",
    "S - event: \"message is spam\".\n",
    "&\n",
    "contain the words like `bitcoin` & `rolex`..\n",
    "\n",
    "$$\n",
    "P(X_1 = x_1, \\ldots, X_n = x_n \\mid S) = P(X_1 = x_1 \\mid S) \\times \\cdots \\times P(X_n = x_n \\mid S)\n",
    "$$"
   ]
  },
  {
   "cell_type": "markdown",
   "id": "4982d33b-a63a-4a66-8918-b2fc87d6b543",
   "metadata": {},
   "source": [
    "> This model was quite popularly used as a Spam filter."
   ]
  },
  {
   "cell_type": "markdown",
   "id": "5192f70b-693a-44b8-b211-29282f760e01",
   "metadata": {},
   "source": [
    "Using the same Bayes’ theorem logic as in the `bitcoin-only` spam filter, we can calculate the probability that a message is spam with this formula:\n",
    "\n",
    "$$\n",
    "P(S \\mid X = x) = \\frac{P(X = x \\mid S)}{P(X = x \\mid S) + P(X = x \\mid \\neg S)}\n",
    "$$"
   ]
  },
  {
   "cell_type": "markdown",
   "id": "dd93744e-e87e-477d-87cd-fa40fe456a39",
   "metadata": {},
   "source": [
    "-------\n",
    "Before we jump on to create our `spam filter`:\n",
    "\n",
    "Few more things to take care of:\n",
    "1. As there can be a lot of words in an email, to calculate probability for every vocabulary word and then multiplying them together can result into **underflow** problem.\n",
    "   > - Floating point numbers too close to 0.\n",
    "   > - Easier way to deal with them is to use `log`\n",
    "2. Calculate estimate for $P(Xi|S)$ and $P(Xi|¬S)$\n",
    "   > - probabilities that a spam message / non-spam message contains the word $w_i$.\n",
    "   > - To estimate probabilities like $P(X_i|S)$ and $P(X_i|\\neg S)$, we use the fraction of spam / nonspam messages containing the word $w_i$.\n",
    "However, if a word appears only in nonspam messages, we might estimate $P(w_i|S) = 0$, which causes issues for classification.\n",
    "\n"
   ]
  },
  {
   "cell_type": "markdown",
   "id": "8082386d-1ab9-4259-8d2f-277b8b15ae0a",
   "metadata": {},
   "source": [
    "To fix this, we apply **smoothing** using a pseudocount $k$. \n",
    "\n",
    "The smoothed estimate becomes:\n",
    "\n",
    "$$P(X_i|S) =\\frac{k + ws}{2k+ ms}$$\n",
    "\n",
    "- $ws$ = number of spams containing word $w_i$\n",
    "- $ms$ = number of spam messages\n",
    "\n",
    "This prevents zero probabilities and ensures the classifier can handle rare words.\n",
    "\n",
    "Similarly for $P(X_i | \\neg S)$"
   ]
  },
  {
   "cell_type": "markdown",
   "id": "a233ee81-d4af-449f-9dbd-a554fa633c22",
   "metadata": {},
   "source": [
    "------------------------------------\n",
    "## Implementation\n",
    "\n",
    "### Tokenising messages into simple words"
   ]
  },
  {
   "cell_type": "code",
   "execution_count": 1,
   "id": "21932ff7-611b-4a5c-abf6-702faa4b4566",
   "metadata": {},
   "outputs": [],
   "source": [
    "import os\n",
    "os.chdir(\"..\")"
   ]
  },
  {
   "cell_type": "code",
   "execution_count": 2,
   "id": "0438d6c5-caea-4616-bbe2-9979f82ea35b",
   "metadata": {},
   "outputs": [],
   "source": [
    "# libraries\n",
    "import math\n",
    "import re\n",
    "\n",
    "from collections import defaultdict\n",
    "from typing import Set, NamedTuple, List, Tuple, Dict, Iterable"
   ]
  },
  {
   "cell_type": "code",
   "execution_count": 31,
   "id": "f0212af2-c264-4186-82ae-85f71caf3f52",
   "metadata": {},
   "outputs": [],
   "source": [
    "import matplotlib.pyplot as plt\n",
    "from sklearn.metrics import confusion_matrix, ConfusionMatrixDisplay, recall_score, precision_score, f1_score\n",
    "\n",
    "%matplotlib inline"
   ]
  },
  {
   "cell_type": "code",
   "execution_count": 4,
   "id": "c5a069f8-1653-4b8c-bf3f-93c6a81f160a",
   "metadata": {},
   "outputs": [],
   "source": [
    "def tokenise(text: str) -> Set[str]:\n",
    "    text = text.lower()\n",
    "    all_words = re.findall(\"[a-z0-9']+\", text) # word extraction\n",
    "    return set(all_words)"
   ]
  },
  {
   "cell_type": "code",
   "execution_count": 5,
   "id": "80beb613-142e-4d7e-8c66-801cdfba423b",
   "metadata": {},
   "outputs": [],
   "source": [
    "assert tokenise(\"Machine learning is about making a machine learn\") == {'a', 'about', 'is', 'learn', 'learning', 'machine', 'making'}"
   ]
  },
  {
   "cell_type": "code",
   "execution_count": 6,
   "id": "568100ca-1992-4f36-ba84-0685b895ec4b",
   "metadata": {},
   "outputs": [],
   "source": [
    "class Message(NamedTuple):\n",
    "    text: str\n",
    "    is_spam: bool"
   ]
  },
  {
   "cell_type": "markdown",
   "id": "a4b92b55-ba03-4318-9b9b-32de0c239346",
   "metadata": {},
   "source": [
    "- it is a `class` to keep track of `tokens`, `counts` and `labels` from the training data.\n",
    "- non-spam emails will be categorised as `okay`\n",
    "--------------------\n",
    "\n",
    "- The constructor takes one parameter: a pseudocount to use when computing probabilities.\n",
    "- There are few other params like:\n",
    "    - Empty set of tokens.\n",
    "    - Counters to track how often each token appears in spam and okay messages.\n",
    "    - Counts of how many spam and okay messages it was trained on."
   ]
  },
  {
   "cell_type": "code",
   "execution_count": 7,
   "id": "1f8fe64b-80df-482f-b5f9-7b65afee58f3",
   "metadata": {},
   "outputs": [],
   "source": [
    "class NaiveBayesClassifier:\n",
    "    def __init__(self, k: float = 0.5) -> None:\n",
    "        # smoothing factor\n",
    "        self.k = k\n",
    "\n",
    "        self.tokens: Set[str] = set()\n",
    "        self.token_spam_counts: Dict[str, int] = defaultdict(int)\n",
    "        self.token_okay_counts: Dict[str, int] = defaultdict(int)\n",
    "        self.spam_messages = self.okay_messages = 0\n",
    "        \n",
    "    def train(self, messages: Iterable[Message]) -> None:\n",
    "        for message in messages:\n",
    "            # incrementing message counts\n",
    "            if message.is_spam:\n",
    "                self.spam_messages += 1\n",
    "            else:\n",
    "                self.okay_messages +=1\n",
    "\n",
    "            # incrementing word counts\n",
    "            for token in tokenise(message.text):\n",
    "                self.tokens.add(token)\n",
    "                if message.is_spam:\n",
    "                    self.token_spam_counts[token] += 1\n",
    "                else:\n",
    "                    self.token_okay_counts[token] += 1\n",
    "    def _probabilities(self, token: str) -> Tuple[float, float]:\n",
    "        \"\"\" P(token|spam) and P(token|okay) for\n",
    "        each token in the vocabulary.\"\"\"\n",
    "\n",
    "        spam = self.token_spam_counts[token]\n",
    "        okay = self.token_okay_counts[token]\n",
    "\n",
    "        p_token_spam = (spam + self.k) / (self.spam_messages + 2 * self.k)\n",
    "        p_token_okay = (okay + self.k) / (self.okay_messages + 2 * self.k)\n",
    "\n",
    "        return p_token_spam, p_token_okay\n",
    "\n",
    "    def predict(self, text:str) -> float:\n",
    "        text_tokens = tokenise(text)\n",
    "        log_prob_if_spam = log_prob_if_okay = 0.0\n",
    "\n",
    "        # iterating through each word in our vocabulary\n",
    "        for token in self.tokens:\n",
    "            prob_if_spam, prob_if_okay = self._probabilities(token)\n",
    "\n",
    "            # in case `token` exist in the message,\n",
    "            # add the log prob of its existence.\n",
    "\n",
    "            if token in text_tokens:\n",
    "                log_prob_if_spam += math.log(prob_if_spam)\n",
    "                log_prob_if_okay += math.log(prob_if_okay)\n",
    "\n",
    "            # OR add the log probability of not finding it.\n",
    "            # = log(1-probability of finding it)\n",
    "\n",
    "            else:\n",
    "                log_prob_if_spam += math.log(1.0 - prob_if_spam)\n",
    "                log_prob_if_okay += math.log(1.0 - prob_if_okay)\n",
    "        \n",
    "        prob_if_spam = math.exp(log_prob_if_spam)\n",
    "        prob_if_okay = math.exp(log_prob_if_okay)\n",
    "\n",
    "        return prob_if_spam / (prob_if_spam + prob_if_okay)"
   ]
  },
  {
   "cell_type": "markdown",
   "id": "800ae522-8ebd-42ef-91e0-bd0128379a10",
   "metadata": {},
   "source": [
    "## Testing the code\n",
    "> Some unit tests"
   ]
  },
  {
   "cell_type": "code",
   "execution_count": 8,
   "id": "dd7d87e2-505a-4026-b595-00cd69e351d8",
   "metadata": {},
   "outputs": [],
   "source": [
    "messages = [Message('spam rules', is_spam = True), \n",
    "            Message('okay rules', is_spam = False),\n",
    "            Message('hello okay', is_spam = False)]"
   ]
  },
  {
   "cell_type": "code",
   "execution_count": 9,
   "id": "23753183-e32f-4c70-81a9-3c0a69256889",
   "metadata": {},
   "outputs": [],
   "source": [
    "model = NaiveBayesClassifier(k=0.5)\n",
    "model.train(messages)"
   ]
  },
  {
   "cell_type": "markdown",
   "id": "28f82a59-b587-47ed-9eb0-06f4861f6306",
   "metadata": {},
   "source": [
    "#### checking whether the count is right?"
   ]
  },
  {
   "cell_type": "code",
   "execution_count": 10,
   "id": "a2a730cc-bf8d-42dd-a2a2-00180614112a",
   "metadata": {},
   "outputs": [],
   "source": [
    "assert model.tokens == {\"spam\", \"okay\", \"rules\", \"hello\"}\n",
    "assert model.spam_messages == 1\n",
    "assert model.okay_messages == 2"
   ]
  },
  {
   "cell_type": "code",
   "execution_count": 11,
   "id": "0e2dd8cc-d273-46b6-ac51-1be211847c64",
   "metadata": {},
   "outputs": [],
   "source": [
    "assert model.token_spam_counts == {\"spam\": 1, \"rules\": 1}\n",
    "assert model.token_okay_counts == {\"okay\": 2, \"rules\": 1, \"hello\": 1}"
   ]
  },
  {
   "cell_type": "markdown",
   "id": "be670702-79d8-49e0-91bf-3dd534b0ddb8",
   "metadata": {},
   "source": [
    "#### making a prediction"
   ]
  },
  {
   "cell_type": "code",
   "execution_count": 12,
   "id": "44ece1c7-2662-4cd1-a33e-9ea595663b0b",
   "metadata": {},
   "outputs": [],
   "source": [
    "text = \"hello spam\""
   ]
  },
  {
   "cell_type": "code",
   "execution_count": 13,
   "id": "89b276bf-14e3-44c2-a222-14bc079a1727",
   "metadata": {},
   "outputs": [],
   "source": [
    "probs_if_spam = [\n",
    "    (1+0.5) / (1+2 * 0.5),        # \"spam\" (present)\n",
    "    1 - (0 + 0.5) / (1 + 2 * 0.5), # \"okay\" (not present)\n",
    "    1 - (1 + 0.5) / (1 + 2 * 0.5), # \"rules\" (not present)\n",
    "    (0 + 0.5) / (1+2 * 0.5)        # \"hello\" (present)\n",
    "    ]"
   ]
  },
  {
   "cell_type": "code",
   "execution_count": 14,
   "id": "9d3b0d56-e182-4ddb-bbc5-e341557f6761",
   "metadata": {},
   "outputs": [],
   "source": [
    "probs_if_okay = [\n",
    "    (0+0.5) / (2 + 2 * 0.5),        # \"spam\" (present)\n",
    "    1 - (2 + 0.5) / (2 + 2 * 0.5), # \"okay\" (not present)\n",
    "    1 - (1 + 0.5) / (2 + 2 * 0.5), # \"rules\" (not present)\n",
    "    (1 + 0.5) / (2 + 2 * 0.5)        # \"hello\" (present)\n",
    "    ]"
   ]
  },
  {
   "cell_type": "code",
   "execution_count": 15,
   "id": "59061ba5-6407-4e59-a565-392c4dd79ed3",
   "metadata": {},
   "outputs": [],
   "source": [
    "p_if_spam = math.exp(sum(math.log(p) for p in probs_if_spam))\n",
    "p_if_okay = math.exp(sum(math.log(p) for p in probs_if_okay))"
   ]
  },
  {
   "cell_type": "code",
   "execution_count": 16,
   "id": "0dc25a6f-fd95-4097-afc5-55f3c08c5b40",
   "metadata": {},
   "outputs": [
    {
     "data": {
      "text/plain": [
       "(0.03515625, 0.006944444444444444)"
      ]
     },
     "execution_count": 16,
     "metadata": {},
     "output_type": "execute_result"
    }
   ],
   "source": [
    "p_if_spam, p_if_okay"
   ]
  },
  {
   "cell_type": "code",
   "execution_count": 17,
   "id": "c72b74f3-f158-4819-9d10-3704b5f684ec",
   "metadata": {},
   "outputs": [],
   "source": [
    "assert model.predict(text) == p_if_spam / (p_if_spam+p_if_okay)"
   ]
  },
  {
   "cell_type": "markdown",
   "id": "cedd1650-ca6b-4c75-b182-0c6ce73e07e3",
   "metadata": {},
   "source": [
    "## Using model\n",
    "### on real data\n",
    "\n",
    "> SpamAssassin public corpus(files prefixed with 20021010)"
   ]
  },
  {
   "cell_type": "code",
   "execution_count": 18,
   "id": "2496d376-4193-4e97-b8a3-1f724456b84e",
   "metadata": {},
   "outputs": [],
   "source": [
    "# script to download and unpack\n",
    "## here, the okay mails will be called 'ham'\n",
    "\n",
    "from io import BytesIO\n",
    "import requests\n",
    "import tarfile\n",
    "\n",
    "BASE_URL = \"https://spamassassin.apache.org/old/publiccorpus\"\n",
    "FILES = [\"20021010_easy_ham.tar.bz2\", \"20021010_hard_ham.tar.bz2\", \"20021010_spam.tar.bz2\"]\n",
    "OUTPUT_DIR = './data/spam_data'"
   ]
  },
  {
   "cell_type": "code",
   "execution_count": 19,
   "id": "79538636-85c8-4b8c-a3b5-2fd0a69cc313",
   "metadata": {},
   "outputs": [],
   "source": [
    "for filename in FILES:\n",
    "    # Use requests to get the file contents at each URL.\n",
    "    content = requests.get(f\"{BASE_URL}/{filename}\").content\n",
    "\n",
    "    # wrapping the in-memory bytes so we can use them as a \"file.\"\n",
    "    fin = BytesIO(content)\n",
    "\n",
    "    # and extract all the files to the specified output dir.\n",
    "    with tarfile.open(fileobj=fin, mode='r:bz2') as tf:\n",
    "        tf.extractall(OUTPUT_DIR)"
   ]
  },
  {
   "cell_type": "markdown",
   "id": "97993032-b4d1-437f-8cb0-02c43a5c9eac",
   "metadata": {},
   "source": [
    "> The code in the book has focused on only the subject lines, so keeping it that way."
   ]
  },
  {
   "cell_type": "code",
   "execution_count": 20,
   "id": "81dd27b3-0c6a-481a-b95f-53c7f54a71e2",
   "metadata": {},
   "outputs": [],
   "source": [
    "import glob, re\n",
    "\n",
    "path = \"./data/spam_data/*/*\"\n",
    "\n",
    "data: List[Message] = []\n",
    "\n",
    "for filename in glob.glob(path):\n",
    "    is_spam = \"ham\" not in filename\n",
    "\n",
    "    with open(filename, errors = \"ignore\") as email_file:\n",
    "        for line in email_file:\n",
    "            if line.startswith(\"Subject:\"):\n",
    "                subject = line.lstrip(\"Subject: \")\n",
    "                data.append(Message(subject, is_spam))\n",
    "                break"
   ]
  },
  {
   "cell_type": "markdown",
   "id": "9b5527e6-4f52-4089-bd5a-6f4e7f7a419a",
   "metadata": {},
   "source": [
    "### splitting data into training and test set\n",
    "> Then, building classifier"
   ]
  },
  {
   "cell_type": "code",
   "execution_count": 21,
   "id": "067b2a0e-bb2d-4770-9887-7ee36520c045",
   "metadata": {},
   "outputs": [],
   "source": [
    "import random\n",
    "from support.machine_learning import split_data\n",
    "\n",
    "random.seed(123)\n",
    "\n",
    "train_messages, test_messages = split_data(data, 0.75)\n",
    "\n",
    "model = NaiveBayesClassifier()\n",
    "model.train(train_messages)"
   ]
  },
  {
   "cell_type": "code",
   "execution_count": 22,
   "id": "1d0e088c-b8d1-4b4b-a2e7-775a6896bee1",
   "metadata": {},
   "outputs": [],
   "source": [
    "from collections import Counter\n",
    "\n",
    "predictions = [(message, model.predict(message.text)) \n",
    "               for message in test_messages]"
   ]
  },
  {
   "cell_type": "code",
   "execution_count": 23,
   "id": "d3e8ef52-821b-431a-883c-de130bfe0f36",
   "metadata": {},
   "outputs": [],
   "source": [
    "confusion_mat = Counter((message.is_spam, spam_probability > 0.5) \n",
    "                           for message, spam_probability in predictions)"
   ]
  },
  {
   "cell_type": "code",
   "execution_count": 24,
   "id": "3a60211a-92eb-414a-8b3a-fec261cdf57a",
   "metadata": {},
   "outputs": [
    {
     "data": {
      "text/plain": [
       "Counter({(False, False): 659,\n",
       "         (True, True): 93,\n",
       "         (True, False): 45,\n",
       "         (False, True): 28})"
      ]
     },
     "execution_count": 24,
     "metadata": {},
     "output_type": "execute_result"
    }
   ],
   "source": [
    "confusion_mat"
   ]
  },
  {
   "cell_type": "markdown",
   "id": "077bcd2c-c21f-4028-a9e7-0937f62b6125",
   "metadata": {},
   "source": [
    "> This looks fine, but it can certainly be made easy to read."
   ]
  },
  {
   "cell_type": "code",
   "execution_count": 25,
   "id": "38311213-f29f-4cf8-afc0-8f4c545e36e0",
   "metadata": {},
   "outputs": [],
   "source": [
    "y_true = []\n",
    "y_pred = []\n",
    "\n",
    "for (actual, predicted), count in confusion_mat.items():\n",
    "    y_true.extend([actual] * count)\n",
    "    y_pred.extend([predicted] * count)"
   ]
  },
  {
   "cell_type": "code",
   "execution_count": 26,
   "id": "e5900593-fe89-4789-8c30-65baff60300d",
   "metadata": {},
   "outputs": [],
   "source": [
    "cm = confusion_matrix(y_true, y_pred)"
   ]
  },
  {
   "cell_type": "code",
   "execution_count": 27,
   "id": "f04ab564-fa55-4408-8a8f-3eb8c18f4e30",
   "metadata": {},
   "outputs": [
    {
     "data": {
      "image/png": "[encoded data removed]",
      "text/plain": [
       "<Figure size 640x480 with 2 Axes>"
      ]
     },
     "metadata": {},
     "output_type": "display_data"
    }
   ],
   "source": [
    "disp = ConfusionMatrixDisplay(confusion_matrix=cm, display_labels=['Ham', 'Spam'])\n",
    "disp.plot(cmap='Blues', values_format='d')\n",
    "plt.title('Spam classification confusion matrix')\n",
    "plt.show()"
   ]
  },
  {
   "cell_type": "code",
   "execution_count": 32,
   "id": "ee24a4ac-3812-4964-8265-b12cbbaab982",
   "metadata": {},
   "outputs": [
    {
     "data": {
      "text/plain": [
       "(0.6739130434782609, 0.768595041322314, 0.7181467181467182)"
      ]
     },
     "execution_count": 32,
     "metadata": {},
     "output_type": "execute_result"
    }
   ],
   "source": [
    "recall_score(y_true, y_pred), precision_score(y_true, y_pred), f1_score(y_true, y_pred)"
   ]
  },
  {
   "cell_type": "markdown",
   "id": "a5fdd359-20a4-4f75-b79f-f61e725ba164",
   "metadata": {},
   "source": [
    "### which words are more towards `spam` and which are more `okay` to be in emails?\n",
    "> book also address this and I also share the same that it is never advisable to call private methods."
   ]
  },
  {
   "cell_type": "code",
   "execution_count": 35,
   "id": "86da004e-5931-4b75-ac6d-efc9ed69318d",
   "metadata": {},
   "outputs": [],
   "source": [
    "def p_spam_given_token(token: str, model: NaiveBayesClassifier) -> float:\n",
    "    prob_if_spam, prob_if_okay = model._probabilities(token)\n",
    "\n",
    "    return prob_if_spam/(prob_if_spam + prob_if_okay)"
   ]
  },
  {
   "cell_type": "code",
   "execution_count": 36,
   "id": "2eb719db-795f-489a-9287-669b0c6ec920",
   "metadata": {},
   "outputs": [],
   "source": [
    "words = sorted(model.tokens, key=lambda t: p_spam_given_token(t, model))"
   ]
  },
  {
   "cell_type": "code",
   "execution_count": 37,
   "id": "5cedaf64-429a-4ed5-aae6-ddb4b1285744",
   "metadata": {},
   "outputs": [
    {
     "data": {
      "text/plain": [
       "['investment',\n",
       " 'zzzz',\n",
       " 'sale',\n",
       " 'mortgage',\n",
       " '500',\n",
       " 'account',\n",
       " 'systemworks',\n",
       " 'money',\n",
       " 'rates',\n",
       " 'adv']"
      ]
     },
     "execution_count": 37,
     "metadata": {},
     "output_type": "execute_result"
    }
   ],
   "source": [
    "# spam\n",
    "words[-10:]"
   ]
  },
  {
   "cell_type": "code",
   "execution_count": 38,
   "id": "2bf3a8be-72f0-4e25-be82-450442501ad3",
   "metadata": {},
   "outputs": [
    {
     "data": {
      "text/plain": [
       "['spambayes',\n",
       " 'users',\n",
       " 'razor',\n",
       " 'zzzzteana',\n",
       " 'sadev',\n",
       " 'apt',\n",
       " 'perl',\n",
       " 'ouch',\n",
       " 'spamassassin',\n",
       " 'alsa']"
      ]
     },
     "execution_count": 38,
     "metadata": {},
     "output_type": "execute_result"
    }
   ],
   "source": [
    "# okay words\n",
    "words[:10]"
   ]
  },
  {
   "cell_type": "markdown",
   "id": "c3362ea5-093e-40be-9df2-b24dfb89916d",
   "metadata": {},
   "source": [
    "# Script Complete"
   ]
  }
 ],
 "metadata": {
  "kernelspec": {
   "display_name": "Python 3 (ipykernel)",
   "language": "python",
   "name": "python3"
  },
  "language_info": {
   "codemirror_mode": {
    "name": "ipython",
    "version": 3
   },
   "file_extension": ".py",
   "mimetype": "text/x-python",
   "name": "python",
   "nbconvert_exporter": "python",
   "pygments_lexer": "ipython3",
   "version": "3.11.11"
  }
 },
 "nbformat": 4,
 "nbformat_minor": 5
}
