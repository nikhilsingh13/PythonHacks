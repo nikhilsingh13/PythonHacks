{
  "nbformat": 4,
  "nbformat_minor": 0,
  "metadata": {
    "colab": {
      "provenance": []
    },
    "kernelspec": {
      "name": "python3",
      "display_name": "Python 3"
    },
    "language_info": {
      "name": "python"
    }
  },
  "cells": [
    {
      "cell_type": "code",
      "source": [
        "import numpy as np\n",
        "import matplotlib.pyplot as plt\n",
        "\n",
        "from typing import Callable, List\n",
        "\n",
        "%matplotlib inline"
      ],
      "metadata": {
        "id": "zvKjOqnDd0kM"
      },
      "execution_count": 10,
      "outputs": []
    },
    {
      "cell_type": "markdown",
      "source": [
        "## Estimating the gradient"
      ],
      "metadata": {
        "id": "pBIj3b9MZ3u7"
      }
    },
    {
      "cell_type": "code",
      "execution_count": 1,
      "metadata": {
        "id": "igIRxQTGZfER"
      },
      "outputs": [],
      "source": [
        "def difference_quotient(f: Callable[[float], float], x: float, h:float) -> float:\n",
        "  return (f(x+h)-f(x))/h"
      ]
    },
    {
      "cell_type": "code",
      "source": [
        "def square(x:float) -> float:\n",
        "  return x*x"
      ],
      "metadata": {
        "id": "odFTQAiJbDFn"
      },
      "execution_count": 2,
      "outputs": []
    },
    {
      "cell_type": "code",
      "source": [
        "def derivative(x: float) -> float:\n",
        "  return 2*x"
      ],
      "metadata": {
        "id": "qnhN5nybbI1Y"
      },
      "execution_count": 3,
      "outputs": []
    },
    {
      "cell_type": "code",
      "source": [
        "# estimating derivatives by evaluating the difference quotient for a very small e\n",
        "# one such estimation\n",
        "\n",
        "xs = range(-10, 11)\n",
        "actuals = [derivative(x) for x in xs]\n",
        "estimates = [difference_quotient(square, x, h=0.001) for x in xs]"
      ],
      "metadata": {
        "id": "sHnLFPO1bOxy"
      },
      "execution_count": 5,
      "outputs": []
    },
    {
      "cell_type": "code",
      "source": [
        "# plot - actual derivatives and estimates(difference quotient) are same\n",
        "plt.title('Actual Derivatives vs. Estimates')\n",
        "plt.plot(xs, actuals, 'rx', label='Actual derivative')\n",
        "plt.plot(xs, estimates, 'b+', label='Estimate (difference quotient)')\n",
        "plt.legend(loc=9)\n",
        "plt.show()"
      ],
      "metadata": {
        "colab": {
          "base_uri": "https://localhost:8080/",
          "height": 452
        },
        "id": "BFE9wBCudDhY",
        "outputId": "0b1d9b22-10f0-416b-b0e4-6337a7c01888"
      },
      "execution_count": 8,
      "outputs": [
        {
          "output_type": "display_data",
          "data": {
            "text/plain": [
              "<Figure size 640x480 with 1 Axes>"
            ],
            "image/png": "[encoded data removed]"
          },
          "metadata": {}
        }
      ]
    },
    {
      "cell_type": "markdown",
      "source": [
        "# so this is intresting to know\n",
        "> This basically means that if there is no way to calculate a gradient, `difference quotient` can be utilised."
      ],
      "metadata": {
        "id": "V9vYLHTSgOLU"
      }
    },
    {
      "cell_type": "markdown",
      "source": [
        "-----------------\n",
        "when `f` is a function of many variables."
      ],
      "metadata": {
        "id": "RxbClWyo_jUP"
      }
    },
    {
      "cell_type": "code",
      "source": [
        "Vector=List[float]\n",
        "def partial_difference_quotient(f: Callable[[Vector], float], v:Vector, i: int, h:float)->float:\n",
        "  \"\"\"Returns the i-th partial difference quotient of f at v\"\"\"\n",
        "\n",
        "  w = [v_j + (h if j == i else 0) for j, v_j in enumerate(v)] # add h to just the ith element of v\n",
        "  return (f(w)-f(v))/h"
      ],
      "metadata": {
        "id": "_3a3-LlUegMV"
      },
      "execution_count": 5,
      "outputs": []
    },
    {
      "cell_type": "code",
      "source": [
        "def estimate_gradient(f: Callable[[Vector], float], v: Vector, h: float = 0.0001):\n",
        "  return [partial_difference_quotient(f,v,i,h) for i in range(len(v))]"
      ],
      "metadata": {
        "id": "SCbO0cTfBBtA"
      },
      "execution_count": 6,
      "outputs": []
    },
    {
      "cell_type": "markdown",
      "source": [
        "> `estimate using difference quotients` - computationally expensive\n",
        "\n",
        "## Using gradient-descent to fit models"
      ],
      "metadata": {
        "id": "dzDfxXexBtdM"
      }
    },
    {
      "cell_type": "code",
      "source": [
        "# x ranges from -50 to 49, y is always 20*x+5\n",
        "inputs = [(x, 20*x+5) for x in range(-50, 50)]\n",
        "\n",
        "# although the relationship is known, gradient-descent will be used to find the\n",
        "# slope and intercept that minimise the average squared error."
      ],
      "metadata": {
        "id": "NHYwBlIiBsdJ"
      },
      "execution_count": 8,
      "outputs": []
    },
    {
      "cell_type": "code",
      "source": [
        "def linear_gradient(x: float, y: float, theta: Vector) -> Vector:\n",
        "  slope, intercept = theta\n",
        "  predicted = slope * x + intercept   # prediction of the model.\n",
        "  error = (predicted - y)             # error is (predicted - actual)\n",
        "  squared_error = error ** 2          # we'll minimise the squared error\n",
        "  grad = [2 * error * x, 2 * error]\n",
        "  return grad"
      ],
      "metadata": {
        "id": "tjMcFWogLgUz"
      },
      "execution_count": 9,
      "outputs": []
    },
    {
      "cell_type": "markdown",
      "source": [
        "This code is an implementation of a common method for optimizing simple linear regression models using gradient descent. Linear regression tries to find a linear relationship between an independent variable (x) and a dependent variable (y) in the form of `y = mx + c` where `m` is the slope and `c` is the y-intercept.\n",
        "\n",
        "Here, the purpose of the `linear_gradient` function is to calculate the gradient of the error (loss) function with respect to the parameters `theta` which includes `m` (slope) and `c` (intercept). These gradients are used in the gradient descent optimization algorithm which is used to find the best parameters (`m` and `c`) that minimize the error function.\n",
        "\n",
        "The gradient is calculated by taking the partial derivative of the squared error function (which is chosen as the loss function here) with respect to each parameter.\n",
        "\n",
        "1. The `predicted` is what our model predicts as the output using the current parameters (slope and intercept).\n",
        "2. We then calculate the `error` which is the difference between the predicted y-value and the actual y-value.\n",
        "3. The `squared_error` = `error^2` is the loss function used in this case. The aim is to minimize this error.\n",
        "4. The `grad` vector will hold the partial derivatives. It is calculated by applying the chain rule of derivatives. The 2 * error term comes from differentiating the `squared_error` (which gives `2*error`), and the `x` and 1 (for intercept term) comes from differentiating `slope * x + intercept`(predict function) w.r.t slope and intercept respectively.\n",
        "\n",
        "Our goal here is to minimize the average squared error of the predictions which is essentially trying to make our predicted line as close as possible to the actual data points. This is done by iteratively adjusting the slope and intercept in the direction that reduces the error. Gradient descent is the algorithm used for these adjustments - it uses these gradients to decide how much to adjust the slope and intercept in each iteration."
      ],
      "metadata": {
        "id": "11li1BVBNV7v"
      }
    },
    {
      "cell_type": "code",
      "source": [
        "def vector_mean(vectors: List[Vector]) -> Vector:\n",
        "    \"\"\"Computes the element-wise mean\"\"\"\n",
        "    num_of_vectors = len(vectors)\n",
        "    return [sum(vector[i] for vector in vectors) / num_of_vectors\n",
        "            for i in range(len(vectors[0]))]"
      ],
      "metadata": {
        "id": "SylgdLT2PKOa"
      },
      "execution_count": 12,
      "outputs": []
    },
    {
      "cell_type": "code",
      "source": [
        "def scalar_multiply(c: float, v: Vector) -> Vector:\n",
        "    \"\"\"Multiplies every element by c\"\"\"\n",
        "    return [c * v_i for v_i in v]"
      ],
      "metadata": {
        "id": "5tNdq6r0PY2j"
      },
      "execution_count": 15,
      "outputs": []
    },
    {
      "cell_type": "code",
      "source": [
        "def gradient_step(v: Vector, gradient: Vector, step_size: float) -> Vector:\n",
        "    \"\"\"Moves `step_size` in the `gradient` direction from `v`\"\"\"\n",
        "    assert len(v) == len(gradient)\n",
        "    step = scalar_multiply(step_size, gradient)\n",
        "    return add(v, step)"
      ],
      "metadata": {
        "id": "klbEzLHkPMBw"
      },
      "execution_count": 16,
      "outputs": []
    },
    {
      "cell_type": "code",
      "source": [
        "def add(v: Vector, w: Vector) -> Vector:\n",
        "    \"\"\"Adds corresponding elements\"\"\"\n",
        "    assert len(v) == len(w), \"vectors must be the same length\"\n",
        "    return [v_i + w_i for v_i, w_i in zip(v, w)]"
      ],
      "metadata": {
        "id": "EZKQjXOhPYX_"
      },
      "execution_count": 18,
      "outputs": []
    },
    {
      "cell_type": "code",
      "source": [
        "# starting with random values for slope and intercept\n",
        "theta = [np.random.uniform(-1, 1), np.random.uniform(-1, 1)]\n",
        "\n",
        "learning_rate = 0.001\n",
        "\n",
        "for epoch in range(5000):\n",
        "  # mean of the gradients\n",
        "  grad = vector_mean([linear_gradient(x, y, theta) for x,y in inputs])\n",
        "  # step in the direction of minima\n",
        "  theta = gradient_step(theta, grad, -learning_rate)\n",
        "  # print(epoch, theta)"
      ],
      "metadata": {
        "id": "c1pFk9fGMp34"
      },
      "execution_count": 21,
      "outputs": []
    },
    {
      "cell_type": "code",
      "source": [
        "slope, intercept=theta\n",
        "assert 19.9 < slope < 20.1, \"slope should be above 20\"\n",
        "assert 4.9 < intercept < 5.1, \"intercept should be about 5\""
      ],
      "metadata": {
        "id": "Kczd49ycO_Ni"
      },
      "execution_count": 22,
      "outputs": []
    },
    {
      "cell_type": "markdown",
      "source": [
        "> we can implement Minibatch & Stochastic gradient descent as well which is widely used for large datasets and expensive gradients."
      ],
      "metadata": {
        "id": "7wcJTTzQQbDi"
      }
    },
    {
      "cell_type": "markdown",
      "source": [
        "# Script complete"
      ],
      "metadata": {
        "id": "Ps4qw5WWQm5o"
      }
    }
  ]
}