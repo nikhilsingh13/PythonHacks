{
  "nbformat": 4,
  "nbformat_minor": 0,
  "metadata": {
    "colab": {
      "name": "DSS_ch2.ipynb",
      "provenance": []
    },
    "kernelspec": {
      "name": "python3",
      "display_name": "Python 3"
    },
    "language_info": {
      "name": "python"
    }
  },
  "cells": [
    {
      "cell_type": "markdown",
      "metadata": {
        "id": "u3Si2kGtrb34"
      },
      "source": [
        "# Chapter-2: A crash course in Python"
      ]
    },
    {
      "cell_type": "markdown",
      "metadata": {
        "id": "mkKrA7obrWb7"
      },
      "source": [
        "## Dictionaries"
      ]
    },
    {
      "cell_type": "code",
      "metadata": {
        "id": "gq1uVP49q2_M"
      },
      "source": [
        "empty_dict = {}                         # Pythonic\n",
        "empty_dict2 = dict()                    # less Pythonic\n",
        "grades = {\"Joel\": 80, \"Tim\": 95}        # dictionary literal"
      ],
      "execution_count": null,
      "outputs": []
    },
    {
      "cell_type": "code",
      "metadata": {
        "colab": {
          "base_uri": "https://localhost:8080/"
        },
        "id": "em5dcv64rywW",
        "outputId": "ae8c761f-85c2-43c5-c9dd-21369c9a4340"
      },
      "source": [
        "joels_grade = grades[\"Joel\"]\n",
        "joels_grade"
      ],
      "execution_count": null,
      "outputs": [
        {
          "output_type": "execute_result",
          "data": {
            "text/plain": [
              "80"
            ]
          },
          "metadata": {},
          "execution_count": 2
        }
      ]
    },
    {
      "cell_type": "code",
      "metadata": {
        "colab": {
          "base_uri": "https://localhost:8080/"
        },
        "id": "XS4XFpWar3ZP",
        "outputId": "e120a625-068f-4ccd-f1b8-2a8028b96d5a"
      },
      "source": [
        "# getting a key error\n",
        "try:\n",
        "  kates_grade = grades[\"Kate\"]\n",
        "except KeyError:\n",
        "  print(\"no grades for Kate!\")"
      ],
      "execution_count": null,
      "outputs": [
        {
          "output_type": "stream",
          "name": "stdout",
          "text": [
            "no grades for Kate!\n"
          ]
        }
      ]
    },
    {
      "cell_type": "code",
      "metadata": {
        "colab": {
          "base_uri": "https://localhost:8080/"
        },
        "id": "jZ1ZnxMosJ8-",
        "outputId": "7fbbb582-98eb-44ce-d32d-a94a16e443b9"
      },
      "source": [
        "# It is fast for large dictionaries also\n",
        "joel_has_grade = \"Joel\" in grades\n",
        "kate_has_grade = \"Kate\" in grades\n",
        "\n",
        "joel_has_grade, kate_has_grade"
      ],
      "execution_count": null,
      "outputs": [
        {
          "output_type": "execute_result",
          "data": {
            "text/plain": [
              "(True, False)"
            ]
          },
          "metadata": {},
          "execution_count": 4
        }
      ]
    },
    {
      "cell_type": "code",
      "metadata": {
        "colab": {
          "base_uri": "https://localhost:8080/"
        },
        "id": "YCWxfT14sRXW",
        "outputId": "570c715b-901e-45cb-e008-49caaae691de"
      },
      "source": [
        "joels_grade = grades.get(\"Joel\", 0)\n",
        "kates_grade = grades.get(\"Kate\", 0)\n",
        "no_ones_grade = grades.get(\"No One\")      # default is None\n",
        "\n",
        "joels_grade, kates_grade, no_ones_grade"
      ],
      "execution_count": null,
      "outputs": [
        {
          "output_type": "execute_result",
          "data": {
            "text/plain": [
              "(80, 0, None)"
            ]
          },
          "metadata": {},
          "execution_count": 5
        }
      ]
    },
    {
      "cell_type": "code",
      "metadata": {
        "colab": {
          "base_uri": "https://localhost:8080/"
        },
        "id": "D-wuOIsetB1W",
        "outputId": "39d9cca3-49fd-4a09-96bf-1a1cc39a2545"
      },
      "source": [
        "grades[\"Tim\"] = 99\n",
        "grades[\"Kate\"] = 100\n",
        "\n",
        "num_students = len(grades)\n",
        "num_students"
      ],
      "execution_count": null,
      "outputs": [
        {
          "output_type": "execute_result",
          "data": {
            "text/plain": [
              "3"
            ]
          },
          "metadata": {},
          "execution_count": 6
        }
      ]
    },
    {
      "cell_type": "code",
      "metadata": {
        "colab": {
          "base_uri": "https://localhost:8080/"
        },
        "id": "jZPYM7Y7tSV3",
        "outputId": "5b96ba52-fdbd-4918-f5a1-c384317ebd56"
      },
      "source": [
        "# example of structured data\n",
        "## not a great approach though\n",
        "tweet = {\n",
        "    \"user\": \"nikhilsingh\",\n",
        "    \"text\": \"GoogleColab is awesome\",\n",
        "    \"retweet_count\": 100,\n",
        "    \"hashtags\": [\"#data\", \"#science\", \"#datascience\", \"#awesome\", \"#yolo\"]\n",
        "}\n",
        "\n",
        "tweet_keys = tweet.keys()                  # iterable for the keys\n",
        "tweet_values = tweet.values()              # iterable for the values\n",
        "tweet_items = tweet.items()                # iterable for the items\n",
        "\n",
        "tweet_keys, tweet_values, tweet_items"
      ],
      "execution_count": null,
      "outputs": [
        {
          "output_type": "execute_result",
          "data": {
            "text/plain": [
              "(dict_keys(['user', 'text', 'retweet_count', 'hashtags']),\n",
              " dict_values(['nikhilsingh', 'GoogleColab is awesome', 100, ['#data', '#science', '#datascience', '#awesome', '#yolo']]),\n",
              " dict_items([('user', 'nikhilsingh'), ('text', 'GoogleColab is awesome'), ('retweet_count', 100), ('hashtags', ['#data', '#science', '#datascience', '#awesome', '#yolo'])]))"
            ]
          },
          "metadata": {},
          "execution_count": 7
        }
      ]
    },
    {
      "cell_type": "code",
      "metadata": {
        "colab": {
          "base_uri": "https://localhost:8080/"
        },
        "id": "raA0WTaAuM1H",
        "outputId": "bc079585-4430-4ff0-b297-351ee677738d"
      },
      "source": [
        "\"user\" in tweet_keys                          # not pythonic"
      ],
      "execution_count": null,
      "outputs": [
        {
          "output_type": "execute_result",
          "data": {
            "text/plain": [
              "True"
            ]
          },
          "metadata": {},
          "execution_count": 8
        }
      ]
    },
    {
      "cell_type": "code",
      "metadata": {
        "colab": {
          "base_uri": "https://localhost:8080/"
        },
        "id": "PfJbnArtvD13",
        "outputId": "b1475eac-7bbc-4b4b-aa50-a3f4b1ed6e91"
      },
      "source": [
        "\"user\" in tweet                               # pythonic"
      ],
      "execution_count": null,
      "outputs": [
        {
          "output_type": "execute_result",
          "data": {
            "text/plain": [
              "True"
            ]
          },
          "metadata": {},
          "execution_count": 9
        }
      ]
    },
    {
      "cell_type": "code",
      "metadata": {
        "colab": {
          "base_uri": "https://localhost:8080/"
        },
        "id": "TAVEYig6vHpX",
        "outputId": "2e481fbf-6a9e-4092-e434-1571fd747264"
      },
      "source": [
        "\"nikhilsingh\" in tweet_values                 # slow but only way to check"
      ],
      "execution_count": null,
      "outputs": [
        {
          "output_type": "execute_result",
          "data": {
            "text/plain": [
              "True"
            ]
          },
          "metadata": {},
          "execution_count": 10
        }
      ]
    },
    {
      "cell_type": "markdown",
      "metadata": {
        "id": "twQEkDf3vlOe"
      },
      "source": [
        "> Dictionary keys are hashable. List cannot be used as keys.    \n",
        "> For multipart key, use tuple or convert key to a string."
      ]
    },
    {
      "cell_type": "markdown",
      "source": [
        "## defaultdict"
      ],
      "metadata": {
        "id": "5JKo8wZY68O0"
      }
    },
    {
      "cell_type": "code",
      "source": [
        "document = ['Google', 'colab', 'is', 'good', 'for', 'creating', 'models', 'and', 'coding', '.']"
      ],
      "metadata": {
        "id": "QuJNTiHX7r7o"
      },
      "execution_count": null,
      "outputs": []
    },
    {
      "cell_type": "code",
      "metadata": {
        "id": "iRl_U7oIvN5v"
      },
      "source": [
        "word_counts = {}\n",
        "for word in document:\n",
        "  if word in word_counts:\n",
        "    word_counts[word] += 1\n",
        "  else:\n",
        "    word_counts[word] = 1"
      ],
      "execution_count": null,
      "outputs": []
    },
    {
      "cell_type": "code",
      "source": [
        "word_counts = {}\n",
        "for word in document:\n",
        "  try:\n",
        "    word_counts[word] += 1\n",
        "  except KeyError:\n",
        "    word_counts[word] = 1"
      ],
      "metadata": {
        "id": "mAsfu_Fg7oUp"
      },
      "execution_count": null,
      "outputs": []
    },
    {
      "cell_type": "code",
      "source": [
        "word_counts={}\n",
        "for word in document:\n",
        "  previous_count = word_counts.get(word, 0)\n",
        "  word_counts[word] = previous_count + 1"
      ],
      "metadata": {
        "id": "p4CuY4wE8ONo"
      },
      "execution_count": null,
      "outputs": []
    },
    {
      "cell_type": "markdown",
      "source": [
        "A `defaultdict` is like a regular dictionary, if any key is not there, it will use a `zero-argument-function` to add `0` value."
      ],
      "metadata": {
        "id": "tfJqbsI49o6S"
      }
    },
    {
      "cell_type": "code",
      "source": [
        "from collections import defaultdict\n",
        "\n",
        "word_counts = defaultdict(int)\n",
        "for word in word_counts:\n",
        "  word_counts[word] +=1"
      ],
      "metadata": {
        "id": "jPgO_qNK8d3o"
      },
      "execution_count": null,
      "outputs": []
    },
    {
      "cell_type": "code",
      "source": [
        "dd_list = defaultdict(list)\n",
        "dd_list[2].append(1)\n",
        "dd_list"
      ],
      "metadata": {
        "colab": {
          "base_uri": "https://localhost:8080/"
        },
        "id": "ZvHUkSu3-oYP",
        "outputId": "60b30c73-9413-4c30-bb9e-f00850b43d93"
      },
      "execution_count": null,
      "outputs": [
        {
          "output_type": "execute_result",
          "data": {
            "text/plain": [
              "defaultdict(list, {2: [1]})"
            ]
          },
          "metadata": {},
          "execution_count": 16
        }
      ]
    },
    {
      "cell_type": "code",
      "source": [
        "dd_dict = defaultdict(dict)\n",
        "dd_dict[\"Joel\"][\"City\"] = \"Seattle\"\n",
        "dd_dict"
      ],
      "metadata": {
        "colab": {
          "base_uri": "https://localhost:8080/"
        },
        "id": "C8knv5gH-xZI",
        "outputId": "42acfc34-28d4-4365-eacb-3a32513e58e8"
      },
      "execution_count": null,
      "outputs": [
        {
          "output_type": "execute_result",
          "data": {
            "text/plain": [
              "defaultdict(dict, {'Joel': {'City': 'Seattle'}})"
            ]
          },
          "metadata": {},
          "execution_count": 17
        }
      ]
    },
    {
      "cell_type": "code",
      "source": [
        "dd_pair = defaultdict(lambda: [0, 0])\n",
        "dd_pair[2][1] = 1\n",
        "dd_pair"
      ],
      "metadata": {
        "colab": {
          "base_uri": "https://localhost:8080/"
        },
        "id": "ymLSbrje_BdY",
        "outputId": "3f5d51cc-3954-4630-a01e-1dc2a12ecde4"
      },
      "execution_count": null,
      "outputs": [
        {
          "output_type": "execute_result",
          "data": {
            "text/plain": [
              "defaultdict(<function __main__.<lambda>>, {2: [0, 1]})"
            ]
          },
          "metadata": {},
          "execution_count": 18
        }
      ]
    },
    {
      "cell_type": "markdown",
      "source": [
        "## Counter\n",
        "\n",
        "> Count hashable objects"
      ],
      "metadata": {
        "id": "qSGMqjiZ_Nq1"
      }
    },
    {
      "cell_type": "code",
      "source": [
        "from collections import Counter\n",
        "\n",
        "c = Counter([0,1,2,0])\n",
        "c"
      ],
      "metadata": {
        "colab": {
          "base_uri": "https://localhost:8080/"
        },
        "id": "bdTWNfut_Iye",
        "outputId": "a04eab11-8fbf-492d-90f8-2267b6220148"
      },
      "execution_count": null,
      "outputs": [
        {
          "output_type": "execute_result",
          "data": {
            "text/plain": [
              "Counter({0: 2, 1: 1, 2: 1})"
            ]
          },
          "metadata": {},
          "execution_count": 19
        }
      ]
    },
    {
      "cell_type": "code",
      "source": [
        "c = Counter()                           # a new, empty counter\n",
        "print(c)\n",
        "c = Counter('gallahad')                 # a new counter from an iterable\n",
        "print(c)\n",
        "c = Counter({'red': 4, 'blue': 2})      # a new counter from a mapping\n",
        "print(c)\n",
        "c = Counter(cats=4, dogs=8)             # a new counter from keyword args\n",
        "c"
      ],
      "metadata": {
        "colab": {
          "base_uri": "https://localhost:8080/"
        },
        "id": "lWMgINiqtb8H",
        "outputId": "4135b8f5-10ec-462e-ed3a-feb09f78867c"
      },
      "execution_count": null,
      "outputs": [
        {
          "output_type": "stream",
          "name": "stdout",
          "text": [
            "Counter()\n",
            "Counter({'a': 3, 'l': 2, 'g': 1, 'h': 1, 'd': 1})\n",
            "Counter({'red': 4, 'blue': 2})\n"
          ]
        },
        {
          "output_type": "execute_result",
          "data": {
            "text/plain": [
              "Counter({'cats': 4, 'dogs': 8})"
            ]
          },
          "metadata": {},
          "execution_count": 20
        }
      ]
    },
    {
      "cell_type": "code",
      "source": [
        "word_counts = Counter(document)\n",
        "word_counts"
      ],
      "metadata": {
        "colab": {
          "base_uri": "https://localhost:8080/"
        },
        "id": "ugey0mP4t1jf",
        "outputId": "942489bb-e6ed-4673-b5c8-39640b2e1338"
      },
      "execution_count": null,
      "outputs": [
        {
          "output_type": "execute_result",
          "data": {
            "text/plain": [
              "Counter({'.': 1,\n",
              "         'Google': 1,\n",
              "         'and': 1,\n",
              "         'coding': 1,\n",
              "         'colab': 1,\n",
              "         'creating': 1,\n",
              "         'for': 1,\n",
              "         'good': 1,\n",
              "         'is': 1,\n",
              "         'models': 1})"
            ]
          },
          "metadata": {},
          "execution_count": 21
        }
      ]
    },
    {
      "cell_type": "code",
      "source": [
        "document = \"My name is Nikhil and I am learning Python data structures.\"\n",
        "word_counts = Counter(document)\n",
        "word_counts"
      ],
      "metadata": {
        "colab": {
          "base_uri": "https://localhost:8080/"
        },
        "id": "RMlaQqq3uDP-",
        "outputId": "99d21430-34ab-4e2e-d530-7fb0a4db7b4e"
      },
      "execution_count": null,
      "outputs": [
        {
          "output_type": "execute_result",
          "data": {
            "text/plain": [
              "Counter({' ': 10,\n",
              "         '.': 1,\n",
              "         'I': 1,\n",
              "         'M': 1,\n",
              "         'N': 1,\n",
              "         'P': 1,\n",
              "         'a': 6,\n",
              "         'c': 1,\n",
              "         'd': 2,\n",
              "         'e': 3,\n",
              "         'g': 1,\n",
              "         'h': 2,\n",
              "         'i': 4,\n",
              "         'k': 1,\n",
              "         'l': 2,\n",
              "         'm': 2,\n",
              "         'n': 5,\n",
              "         'o': 1,\n",
              "         'r': 3,\n",
              "         's': 3,\n",
              "         't': 4,\n",
              "         'u': 2,\n",
              "         'y': 2})"
            ]
          },
          "metadata": {},
          "execution_count": 22
        }
      ]
    },
    {
      "cell_type": "markdown",
      "source": [
        "so here, I am trying to split words in a sentence and trying to get only those words with count more than one."
      ],
      "metadata": {
        "id": "N-dRxnvWvHtM"
      }
    },
    {
      "cell_type": "code",
      "source": [
        "gen_str = \"This this is is data data science science; learn using using Python.\"\n",
        "myDict = Counter(gen_str.split())\n",
        "print(myDict)\n",
        "myList = [k for k, v in myDict.items() if v > 1]\n",
        "myList"
      ],
      "metadata": {
        "colab": {
          "base_uri": "https://localhost:8080/"
        },
        "id": "uzzkLGimuOf-",
        "outputId": "92698ec2-fdaa-4811-c1f9-0a82cc52488d"
      },
      "execution_count": null,
      "outputs": [
        {
          "output_type": "stream",
          "name": "stdout",
          "text": [
            "Counter({'is': 2, 'data': 2, 'using': 2, 'This': 1, 'this': 1, 'science': 1, 'science;': 1, 'learn': 1, 'Python.': 1})\n"
          ]
        },
        {
          "output_type": "execute_result",
          "data": {
            "text/plain": [
              "['is', 'data', 'using']"
            ]
          },
          "metadata": {},
          "execution_count": 23
        }
      ]
    },
    {
      "cell_type": "markdown",
      "source": [
        "get the elements from the counter directly using `elements`"
      ],
      "metadata": {
        "id": "F9szGjlqvYhu"
      }
    },
    {
      "cell_type": "code",
      "source": [
        "c = Counter(a=4, b=2, c=0, d=-2)\n",
        "print(f\"these are sorted: {sorted(c.elements())}\")\n",
        "\n",
        "print(f\"you'll get the object: {c.elements()}\")\n",
        "\n",
        "# to print\n",
        "[i for i in c.elements()]"
      ],
      "metadata": {
        "colab": {
          "base_uri": "https://localhost:8080/"
        },
        "id": "ZmwUvkdOu_3V",
        "outputId": "54be805e-0f3f-4b62-fec8-ab89ab2943b3"
      },
      "execution_count": null,
      "outputs": [
        {
          "output_type": "stream",
          "name": "stdout",
          "text": [
            "these are sorted: ['a', 'a', 'a', 'a', 'b', 'b']\n",
            "you'll get the object: <itertools.chain object at 0x7f4e07da0990>\n"
          ]
        },
        {
          "output_type": "execute_result",
          "data": {
            "text/plain": [
              "['a', 'a', 'a', 'a', 'b', 'b']"
            ]
          },
          "metadata": {},
          "execution_count": 24
        }
      ]
    },
    {
      "cell_type": "markdown",
      "source": [
        "another great method in `Counter` instance which is worth knowing is `most_common`."
      ],
      "metadata": {
        "id": "fnjZJEPKwkWY"
      }
    },
    {
      "cell_type": "code",
      "source": [
        "word_counts.most_common(10) # it will print the 10 most common words and their counts"
      ],
      "metadata": {
        "colab": {
          "base_uri": "https://localhost:8080/"
        },
        "id": "kT-CnjWHvitH",
        "outputId": "6c7b9723-d11d-4245-f1cf-da58b30c7675"
      },
      "execution_count": null,
      "outputs": [
        {
          "output_type": "execute_result",
          "data": {
            "text/plain": [
              "[(' ', 10),\n",
              " ('a', 6),\n",
              " ('n', 5),\n",
              " ('i', 4),\n",
              " ('t', 4),\n",
              " ('e', 3),\n",
              " ('s', 3),\n",
              " ('r', 3),\n",
              " ('y', 2),\n",
              " ('m', 2)]"
            ]
          },
          "metadata": {},
          "execution_count": 25
        }
      ]
    },
    {
      "cell_type": "code",
      "source": [
        "# to print in a proper order\n",
        "for word, count in word_counts.most_common(10):\n",
        "  print(word, count)"
      ],
      "metadata": {
        "colab": {
          "base_uri": "https://localhost:8080/"
        },
        "id": "syEFW70KwuRu",
        "outputId": "0870fa46-041e-4780-9b5a-4f52e7c484b0"
      },
      "execution_count": null,
      "outputs": [
        {
          "output_type": "stream",
          "name": "stdout",
          "text": [
            "  10\n",
            "a 6\n",
            "n 5\n",
            "i 4\n",
            "t 4\n",
            "e 3\n",
            "s 3\n",
            "r 3\n",
            "y 2\n",
            "m 2\n"
          ]
        }
      ]
    },
    {
      "cell_type": "markdown",
      "source": [
        "## Sets\n",
        "> collection of _distinct_ elements\n",
        "-----"
      ],
      "metadata": {
        "id": "u24tHjeQw_nU"
      }
    },
    {
      "cell_type": "code",
      "source": [
        "primes_below_10 = {2, 3, 5, 7} # not a dict\n",
        "print(type(primes_below_10))\n",
        "\n",
        "empty_dict = {}\n",
        "type(empty_dict) # not a set"
      ],
      "metadata": {
        "colab": {
          "base_uri": "https://localhost:8080/"
        },
        "id": "nRSi9YwSw6LO",
        "outputId": "5061974a-0663-428f-90d1-fdddd84879b2"
      },
      "execution_count": null,
      "outputs": [
        {
          "output_type": "stream",
          "name": "stdout",
          "text": [
            "<class 'set'>\n"
          ]
        },
        {
          "output_type": "execute_result",
          "data": {
            "text/plain": [
              "dict"
            ]
          },
          "metadata": {},
          "execution_count": 27
        }
      ]
    },
    {
      "cell_type": "code",
      "source": [
        "s = set()\n",
        "s.add(1)\n",
        "s.add(2)\n",
        "s.add(2)\n",
        "\n",
        "print(s)\n",
        "\n",
        "x = len(s)\n",
        "y = 2 in s\n",
        "z = 3 in s\n",
        "\n",
        "x, y, z"
      ],
      "metadata": {
        "colab": {
          "base_uri": "https://localhost:8080/"
        },
        "id": "ewKSCJB67NyU",
        "outputId": "4d4a07ab-e63e-4bf6-cd24-b48eb9b1a8a4"
      },
      "execution_count": null,
      "outputs": [
        {
          "output_type": "stream",
          "name": "stdout",
          "text": [
            "{1, 2}\n"
          ]
        },
        {
          "output_type": "execute_result",
          "data": {
            "text/plain": [
              "(2, True, False)"
            ]
          },
          "metadata": {},
          "execution_count": 28
        }
      ]
    },
    {
      "cell_type": "code",
      "source": [
        "list_of_words = \"a heartening tale of small victories and endu no sophomore \\\n",
        "slump for director sam mendes w if you are an actor who can \\\n",
        "relate to the sea it's this memory-as-identity obviation \\\n",
        "that g boyd's screenplay ( co-written with guardian\"\n",
        "\n",
        "stopwords_list = [\"a\", \"an\", \"at\"] + list_of_words.split() + [\"yet\", \"you\"]\n",
        "stopwords_set = set(stopwords_list)"
      ],
      "metadata": {
        "id": "ajmFvwMT9t3l"
      },
      "execution_count": null,
      "outputs": []
    },
    {
      "cell_type": "code",
      "source": [
        "%time\n",
        "\"zip\" in stopwords_list"
      ],
      "metadata": {
        "colab": {
          "base_uri": "https://localhost:8080/"
        },
        "id": "3u18Qf6Q70kN",
        "outputId": "4b577040-a6ed-4789-e5a2-0868007a3609"
      },
      "execution_count": null,
      "outputs": [
        {
          "output_type": "stream",
          "name": "stdout",
          "text": [
            "CPU times: user 4 µs, sys: 0 ns, total: 4 µs\n",
            "Wall time: 8.82 µs\n"
          ]
        },
        {
          "output_type": "execute_result",
          "data": {
            "text/plain": [
              "False"
            ]
          },
          "metadata": {},
          "execution_count": 30
        }
      ]
    },
    {
      "cell_type": "code",
      "source": [
        "%time\n",
        "\"zip\" in stopwords_set # this is very fast"
      ],
      "metadata": {
        "colab": {
          "base_uri": "https://localhost:8080/"
        },
        "id": "PlFB43lE8468",
        "outputId": "c0bda8a6-a189-4b64-cf6a-6842671137aa"
      },
      "execution_count": null,
      "outputs": [
        {
          "output_type": "stream",
          "name": "stdout",
          "text": [
            "CPU times: user 3 µs, sys: 0 ns, total: 3 µs\n",
            "Wall time: 7.15 µs\n"
          ]
        },
        {
          "output_type": "execute_result",
          "data": {
            "text/plain": [
              "False"
            ]
          },
          "metadata": {},
          "execution_count": 31
        }
      ]
    },
    {
      "cell_type": "code",
      "source": [
        "item_list = [1,2,3,1,2,3]\n",
        "num_items = len(item_list); print(num_items)\n",
        "item_set = set(item_list); print(item_set)\n",
        "num_distinct_items = len(item_set); print(num_distinct_items)\n",
        "distinct_item_list = list(item_set); print(distinct_item_list)"
      ],
      "metadata": {
        "colab": {
          "base_uri": "https://localhost:8080/"
        },
        "id": "lsJGfGYc9pTu",
        "outputId": "8affae09-5749-47f8-af33-288f98da477f"
      },
      "execution_count": null,
      "outputs": [
        {
          "output_type": "stream",
          "name": "stdout",
          "text": [
            "6\n",
            "{1, 2, 3}\n",
            "3\n",
            "[1, 2, 3]\n"
          ]
        }
      ]
    },
    {
      "cell_type": "markdown",
      "source": [
        "## Control flow\n",
        "\n",
        "> _ternary_ if-then-else"
      ],
      "metadata": {
        "id": "dap9W-wq-W4H"
      }
    },
    {
      "cell_type": "code",
      "source": [
        "parity = \"even\" if x%2 == 0 else \"odd\"\n",
        "parity"
      ],
      "metadata": {
        "colab": {
          "base_uri": "https://localhost:8080/",
          "height": 35
        },
        "id": "kC9NdP5T-Ba8",
        "outputId": "ad0739e8-6a2e-4f0e-8afe-d52594e41c6a"
      },
      "execution_count": null,
      "outputs": [
        {
          "output_type": "execute_result",
          "data": {
            "text/plain": [
              "'even'"
            ],
            "application/vnd.google.colaboratory.intrinsic+json": {
              "type": "string"
            }
          },
          "metadata": {},
          "execution_count": 33
        }
      ]
    },
    {
      "cell_type": "markdown",
      "source": [
        "> `while` loop"
      ],
      "metadata": {
        "id": "tO9Axw7b-u8y"
      }
    },
    {
      "cell_type": "code",
      "source": [
        "x = 0\n",
        "while x < 10:\n",
        "  print(f\"{x} is less than 10\")\n",
        "  x += 1"
      ],
      "metadata": {
        "colab": {
          "base_uri": "https://localhost:8080/"
        },
        "id": "Ytj_-98n-iBN",
        "outputId": "9832f06c-bb99-40db-c0a1-503796290b6d"
      },
      "execution_count": null,
      "outputs": [
        {
          "output_type": "stream",
          "name": "stdout",
          "text": [
            "0 is less than 10\n",
            "1 is less than 10\n",
            "2 is less than 10\n",
            "3 is less than 10\n",
            "4 is less than 10\n",
            "5 is less than 10\n",
            "6 is less than 10\n",
            "7 is less than 10\n",
            "8 is less than 10\n",
            "9 is less than 10\n"
          ]
        }
      ]
    },
    {
      "cell_type": "code",
      "source": [
        "for x in range(10):\n",
        "  print(f\"{x} is less than 10\")"
      ],
      "metadata": {
        "id": "8CA43zyl-24F",
        "colab": {
          "base_uri": "https://localhost:8080/"
        },
        "outputId": "1b884f22-e310-4d21-e8d7-7eec57d89613"
      },
      "execution_count": null,
      "outputs": [
        {
          "output_type": "stream",
          "name": "stdout",
          "text": [
            "0 is less than 10\n",
            "1 is less than 10\n",
            "2 is less than 10\n",
            "3 is less than 10\n",
            "4 is less than 10\n",
            "5 is less than 10\n",
            "6 is less than 10\n",
            "7 is less than 10\n",
            "8 is less than 10\n",
            "9 is less than 10\n"
          ]
        }
      ]
    },
    {
      "cell_type": "markdown",
      "source": [
        "with `continue` and `break`"
      ],
      "metadata": {
        "id": "MzdY27IHBJL2"
      }
    },
    {
      "cell_type": "code",
      "source": [
        "for x in range(10):\n",
        "  if x==3:\n",
        "    continue # immediately to the next iteration\n",
        "  if x==5:\n",
        "    break # quite loop completely\n",
        "  print(x)"
      ],
      "metadata": {
        "colab": {
          "base_uri": "https://localhost:8080/"
        },
        "id": "HZT-q79QBHu8",
        "outputId": "10309a2c-f85b-4e4f-a5e6-d3c2f848cc4c"
      },
      "execution_count": null,
      "outputs": [
        {
          "output_type": "stream",
          "name": "stdout",
          "text": [
            "0\n",
            "1\n",
            "2\n",
            "4\n"
          ]
        }
      ]
    },
    {
      "cell_type": "markdown",
      "source": [
        "## Truthiness"
      ],
      "metadata": {
        "id": "TIqcEMLXByMr"
      }
    },
    {
      "cell_type": "code",
      "source": [
        "print(1<2); True == False"
      ],
      "metadata": {
        "colab": {
          "base_uri": "https://localhost:8080/"
        },
        "id": "lqpUc6YYA83s",
        "outputId": "dc80ffaf-8112-4730-ff4f-e18f4d3168b5"
      },
      "execution_count": null,
      "outputs": [
        {
          "output_type": "stream",
          "name": "stdout",
          "text": [
            "True\n"
          ]
        },
        {
          "output_type": "execute_result",
          "data": {
            "text/plain": [
              "False"
            ]
          },
          "metadata": {},
          "execution_count": 37
        }
      ]
    },
    {
      "cell_type": "markdown",
      "source": [
        "> _booleans are capitalized in Python_"
      ],
      "metadata": {
        "id": "zAeNnV5qB-KM"
      }
    },
    {
      "cell_type": "code",
      "source": [
        "x = None\n",
        "assert x == None # non pythonic\n",
        "assert x is None # pythonic"
      ],
      "metadata": {
        "id": "oAX4808uB3Kk"
      },
      "execution_count": null,
      "outputs": []
    },
    {
      "cell_type": "markdown",
      "source": [
        "> `all` and `any`"
      ],
      "metadata": {
        "id": "9BK7E2ohPMS_"
      }
    },
    {
      "cell_type": "code",
      "source": [
        "print(all([True,1,{3}]))\n",
        "print(all([True,1,{}]))\n",
        "print(any([True,1,{3}]))\n",
        "print(all([]))\n",
        "print(any([]))"
      ],
      "metadata": {
        "id": "6sVCS52TCHDT",
        "colab": {
          "base_uri": "https://localhost:8080/"
        },
        "outputId": "a882fcdb-04b3-4d57-e28f-8df00103575f"
      },
      "execution_count": null,
      "outputs": [
        {
          "output_type": "stream",
          "name": "stdout",
          "text": [
            "True\n",
            "False\n",
            "True\n",
            "True\n",
            "False\n"
          ]
        }
      ]
    },
    {
      "cell_type": "markdown",
      "source": [
        "## Sorting"
      ],
      "metadata": {
        "id": "hblO-aXfTvEZ"
      }
    },
    {
      "cell_type": "code",
      "source": [
        "x = sorted([-10,1,2,3,-8,-9,-4,-5,6,7,], reverse=True, key=abs)\n",
        "\n",
        "x"
      ],
      "metadata": {
        "id": "qoBR5RVkCI4M",
        "colab": {
          "base_uri": "https://localhost:8080/"
        },
        "outputId": "3cfb4796-ed7f-490b-d943-16cd67275eb1"
      },
      "execution_count": null,
      "outputs": [
        {
          "output_type": "execute_result",
          "data": {
            "text/plain": [
              "[-10, -9, -8, 7, 6, -5, -4, 3, 2, 1]"
            ]
          },
          "metadata": {},
          "execution_count": 40
        }
      ]
    },
    {
      "cell_type": "code",
      "source": [
        "document = \"This principle creates a powerful inductive bias that we leverage with neural \\\n",
        "architectures that are defined recursively and dynamically, by learning two scaleinvariant \\\n",
        "atomic operations: how to split a given input into smaller sets, and how \\\n",
        "to merge two partially solved tasks into a larger partial solution. Our model can be \\\n",
        "trained in weakly supervised environments, namely by just observing input-output \\\n",
        "pairs, and in even weaker environments, using a non-differentiable reward signal. \\\n",
        "Moreover, thanks to the dynamic aspect of our architecture, we can incorporate \\\n",
        "the computational complexity as a regularization term that can be optimized by \\\n",
        "backpropagation.\""
      ],
      "metadata": {
        "id": "8uJYxHMmFzrn"
      },
      "execution_count": null,
      "outputs": []
    },
    {
      "cell_type": "code",
      "source": [
        "from collections import Counter\n",
        "\n",
        "word_counts = Counter(document.split())"
      ],
      "metadata": {
        "id": "Lr5wxESoFOtM"
      },
      "execution_count": null,
      "outputs": []
    },
    {
      "cell_type": "code",
      "source": [
        "wc = sorted(word_counts.items(), key=lambda word_and_count: word_and_count[1], reverse=True)"
      ],
      "metadata": {
        "id": "qS_GfjzTFUCU"
      },
      "execution_count": null,
      "outputs": []
    },
    {
      "cell_type": "code",
      "source": [
        "# wc"
      ],
      "metadata": {
        "id": "o4wCui1sG84R"
      },
      "execution_count": null,
      "outputs": []
    },
    {
      "cell_type": "code",
      "source": [
        "doc = \"here is an an extra example example document extra\"\n",
        "\n",
        "word_counts = Counter(doc.split())\n",
        "wc = sorted(word_counts.items(), key=lambda word_and_count: word_and_count[1])#, reverse=True)"
      ],
      "metadata": {
        "id": "zlJattZOG9YB"
      },
      "execution_count": null,
      "outputs": []
    },
    {
      "cell_type": "code",
      "source": [
        "wc"
      ],
      "metadata": {
        "colab": {
          "base_uri": "https://localhost:8080/"
        },
        "id": "OHoMfxApINZn",
        "outputId": "e0f0b1f5-efda-4e1f-8df8-0ab7eae56c39"
      },
      "execution_count": null,
      "outputs": [
        {
          "output_type": "execute_result",
          "data": {
            "text/plain": [
              "[('here', 1),\n",
              " ('is', 1),\n",
              " ('document', 1),\n",
              " ('an', 2),\n",
              " ('extra', 2),\n",
              " ('example', 2)]"
            ]
          },
          "metadata": {},
          "execution_count": 46
        }
      ]
    },
    {
      "cell_type": "markdown",
      "source": [
        "## List comprehensions"
      ],
      "metadata": {
        "id": "ERFj_-1zK6w7"
      }
    },
    {
      "cell_type": "code",
      "source": [
        "even_numbers = [x for x in range(5) if x%2==0]\n",
        "even_numbers"
      ],
      "metadata": {
        "colab": {
          "base_uri": "https://localhost:8080/"
        },
        "id": "6bfkrcOvINxW",
        "outputId": "c86712f5-f745-4c01-a253-589d2c92ccb6"
      },
      "execution_count": null,
      "outputs": [
        {
          "output_type": "execute_result",
          "data": {
            "text/plain": [
              "[0, 2, 4]"
            ]
          },
          "metadata": {},
          "execution_count": 47
        }
      ]
    },
    {
      "cell_type": "code",
      "source": [
        "squares = [x*x for x in range(5)]\n",
        "squares"
      ],
      "metadata": {
        "colab": {
          "base_uri": "https://localhost:8080/"
        },
        "id": "TIhiUam6LLFD",
        "outputId": "a41b65fc-64b8-46a1-82c8-138552feddcb"
      },
      "execution_count": null,
      "outputs": [
        {
          "output_type": "execute_result",
          "data": {
            "text/plain": [
              "[0, 1, 4, 9, 16]"
            ]
          },
          "metadata": {},
          "execution_count": 48
        }
      ]
    },
    {
      "cell_type": "code",
      "source": [
        "square_dict = {x:x * x for x in range(5)}\n",
        "square_dict"
      ],
      "metadata": {
        "colab": {
          "base_uri": "https://localhost:8080/"
        },
        "id": "gfWkAuHXLXxk",
        "outputId": "b2ec3423-5d6b-4425-a5f1-f82eac6deaa8"
      },
      "execution_count": null,
      "outputs": [
        {
          "output_type": "execute_result",
          "data": {
            "text/plain": [
              "{0: 0, 1: 1, 2: 4, 3: 9, 4: 16}"
            ]
          },
          "metadata": {},
          "execution_count": 49
        }
      ]
    },
    {
      "cell_type": "code",
      "source": [
        "square_set = {x*x for x in [1, -1]}\n",
        "square_set"
      ],
      "metadata": {
        "colab": {
          "base_uri": "https://localhost:8080/"
        },
        "id": "4PCApYrVLjXt",
        "outputId": "4cca967f-a6cc-4627-ee16-86e92dddb084"
      },
      "execution_count": null,
      "outputs": [
        {
          "output_type": "execute_result",
          "data": {
            "text/plain": [
              "{1}"
            ]
          },
          "metadata": {},
          "execution_count": 50
        }
      ]
    },
    {
      "cell_type": "code",
      "source": [
        "zeros = [0 for _ in range(5)]\n",
        "zeros"
      ],
      "metadata": {
        "colab": {
          "base_uri": "https://localhost:8080/"
        },
        "id": "LGl_mTHPLr-H",
        "outputId": "a6b227b3-771b-4638-c058-9b185da0b616"
      },
      "execution_count": null,
      "outputs": [
        {
          "output_type": "execute_result",
          "data": {
            "text/plain": [
              "[0, 0, 0, 0, 0]"
            ]
          },
          "metadata": {},
          "execution_count": 51
        }
      ]
    },
    {
      "cell_type": "code",
      "source": [
        "pairs = [(x,y) \n",
        "          for x in range(3) \n",
        "          for y in range(3)]\n",
        "pairs"
      ],
      "metadata": {
        "colab": {
          "base_uri": "https://localhost:8080/"
        },
        "id": "lxwJQnRodt7a",
        "outputId": "b556c678-d731-45c2-a578-b81525b7d97e"
      },
      "execution_count": null,
      "outputs": [
        {
          "output_type": "execute_result",
          "data": {
            "text/plain": [
              "[(0, 0), (0, 1), (0, 2), (1, 0), (1, 1), (1, 2), (2, 0), (2, 1), (2, 2)]"
            ]
          },
          "metadata": {},
          "execution_count": 54
        }
      ]
    },
    {
      "cell_type": "code",
      "source": [
        "increasing_pairs = [(x,y) for x in range(3) for y in range(x+1, 3)]\n",
        "increasing_pairs"
      ],
      "metadata": {
        "colab": {
          "base_uri": "https://localhost:8080/"
        },
        "id": "BtC3FEA3d4uZ",
        "outputId": "7b7c8a1b-afeb-418d-d738-b0671d58e6d1"
      },
      "execution_count": null,
      "outputs": [
        {
          "output_type": "execute_result",
          "data": {
            "text/plain": [
              "[(0, 1), (0, 2), (1, 2)]"
            ]
          },
          "metadata": {},
          "execution_count": 56
        }
      ]
    },
    {
      "cell_type": "markdown",
      "source": [
        "## Automated testing and `assert`"
      ],
      "metadata": {
        "id": "GwDhJn7ffijm"
      }
    },
    {
      "cell_type": "code",
      "source": [
        "def smallest_item(xs):\n",
        "   return min(xs)\n",
        "\n",
        "assert smallest_item([10, 20, 5, 40]) == 5 # no error"
      ],
      "metadata": {
        "id": "xYBqlJIDeokb"
      },
      "execution_count": null,
      "outputs": []
    },
    {
      "cell_type": "code",
      "source": [
        "assert smallest_item([1, 0, -2, 2]) == -1, \"Smallest number is not equal to -1\" # will generate an error with the message"
      ],
      "metadata": {
        "colab": {
          "base_uri": "https://localhost:8080/",
          "height": 165
        },
        "id": "RM8GlsR_gUFj",
        "outputId": "c92f2907-d1b4-4a70-e9d8-33860cf69f18"
      },
      "execution_count": null,
      "outputs": [
        {
          "output_type": "error",
          "ename": "AssertionError",
          "evalue": "ignored",
          "traceback": [
            "\u001b[0;31m---------------------------------------------------------------------------\u001b[0m",
            "\u001b[0;31mAssertionError\u001b[0m                            Traceback (most recent call last)",
            "\u001b[0;32m<ipython-input-62-e196fee1a709>\u001b[0m in \u001b[0;36m<module>\u001b[0;34m()\u001b[0m\n\u001b[0;32m----> 1\u001b[0;31m \u001b[0;32massert\u001b[0m \u001b[0msmallest_item\u001b[0m\u001b[0;34m(\u001b[0m\u001b[0;34m[\u001b[0m\u001b[0;36m1\u001b[0m\u001b[0;34m,\u001b[0m \u001b[0;36m0\u001b[0m\u001b[0;34m,\u001b[0m \u001b[0;34m-\u001b[0m\u001b[0;36m2\u001b[0m\u001b[0;34m,\u001b[0m \u001b[0;36m2\u001b[0m\u001b[0;34m]\u001b[0m\u001b[0;34m)\u001b[0m \u001b[0;34m==\u001b[0m \u001b[0;34m-\u001b[0m\u001b[0;36m1\u001b[0m\u001b[0;34m,\u001b[0m \u001b[0;34m\"Smallest number is not equal to -1\"\u001b[0m\u001b[0;34m\u001b[0m\u001b[0;34m\u001b[0m\u001b[0m\n\u001b[0m",
            "\u001b[0;31mAssertionError\u001b[0m: Smallest number is not equal to -1"
          ]
        }
      ]
    },
    {
      "cell_type": "code",
      "source": [
        "def smallest_item_in_assert(xs):\n",
        "  assert xs, \"empty list has no smallest item\"\n",
        "  return min(xs)"
      ],
      "metadata": {
        "id": "5U-0qSx8gbwC"
      },
      "execution_count": null,
      "outputs": []
    },
    {
      "cell_type": "code",
      "source": [
        "smallest_item_in_assert([]) # will throw an insertion error"
      ],
      "metadata": {
        "colab": {
          "base_uri": "https://localhost:8080/",
          "height": 252
        },
        "id": "teHNsh3Jg04z",
        "outputId": "6e0cea2c-adb3-46cb-a375-2c31ee0d3550"
      },
      "execution_count": null,
      "outputs": [
        {
          "output_type": "error",
          "ename": "AssertionError",
          "evalue": "ignored",
          "traceback": [
            "\u001b[0;31m---------------------------------------------------------------------------\u001b[0m",
            "\u001b[0;31mAssertionError\u001b[0m                            Traceback (most recent call last)",
            "\u001b[0;32m<ipython-input-64-e49b791e78d2>\u001b[0m in \u001b[0;36m<module>\u001b[0;34m()\u001b[0m\n\u001b[0;32m----> 1\u001b[0;31m \u001b[0msmallest_item_in_assert\u001b[0m\u001b[0;34m(\u001b[0m\u001b[0;34m[\u001b[0m\u001b[0;34m]\u001b[0m\u001b[0;34m)\u001b[0m\u001b[0;34m\u001b[0m\u001b[0;34m\u001b[0m\u001b[0m\n\u001b[0m",
            "\u001b[0;32m<ipython-input-63-9d1e6834d50e>\u001b[0m in \u001b[0;36msmallest_item_in_assert\u001b[0;34m(xs)\u001b[0m\n\u001b[1;32m      1\u001b[0m \u001b[0;32mdef\u001b[0m \u001b[0msmallest_item_in_assert\u001b[0m\u001b[0;34m(\u001b[0m\u001b[0mxs\u001b[0m\u001b[0;34m)\u001b[0m\u001b[0;34m:\u001b[0m\u001b[0;34m\u001b[0m\u001b[0;34m\u001b[0m\u001b[0m\n\u001b[0;32m----> 2\u001b[0;31m   \u001b[0;32massert\u001b[0m \u001b[0mxs\u001b[0m\u001b[0;34m,\u001b[0m \u001b[0;34m\"empty list has no smallest item\"\u001b[0m\u001b[0;34m\u001b[0m\u001b[0;34m\u001b[0m\u001b[0m\n\u001b[0m\u001b[1;32m      3\u001b[0m   \u001b[0;32mreturn\u001b[0m \u001b[0mmin\u001b[0m\u001b[0;34m(\u001b[0m\u001b[0mxs\u001b[0m\u001b[0;34m)\u001b[0m\u001b[0;34m\u001b[0m\u001b[0;34m\u001b[0m\u001b[0m\n",
            "\u001b[0;31mAssertionError\u001b[0m: empty list has no smallest item"
          ]
        }
      ]
    },
    {
      "cell_type": "markdown",
      "source": [
        "## Object oriented programming"
      ],
      "metadata": {
        "id": "N4NnHXIag-vd"
      }
    },
    {
      "cell_type": "code",
      "source": [
        "class CountingClicker:\n",
        "  \"\"\"maintains count, increment count, read count, etc.\"\"\"\n",
        "\n",
        "  def __init__(self, count=0):\n",
        "    self.count=count\n",
        "\n",
        "  def __repr__(self):\n",
        "    return f\"CountingClicker(count={self.count})\"\n",
        "\n",
        "  def click(self, num_times=1):\n",
        "    \"\"\"Click the clicker some number of times.\"\"\"\n",
        "    self.count += num_times\n",
        "  \n",
        "  def read(self):\n",
        "    return self.count\n",
        "\n",
        "  def reset(self):\n",
        "    self.count = 0"
      ],
      "metadata": {
        "id": "U8S_FiZ2g2qq"
      },
      "execution_count": null,
      "outputs": []
    },
    {
      "cell_type": "code",
      "source": [
        "clicker1 = CountingClicker()\n",
        "clicker2 = CountingClicker(100)\n",
        "clicker3 = CountingClicker(count=100)"
      ],
      "metadata": {
        "id": "eVwUrZrDhWsM"
      },
      "execution_count": null,
      "outputs": []
    },
    {
      "cell_type": "code",
      "source": [
        "clicker = CountingClicker()\n",
        "assert clicker.read()==0, \"clicker should start with count 0\"\n",
        "clicker.click()\n",
        "clicker.click()\n",
        "assert clicker.read()==2, \"after two clicks, clicker should have count 2\"\n",
        "clicker.reset()\n",
        "assert clicker.read()==0, \"after reset, clicker should be back to 0\""
      ],
      "metadata": {
        "id": "ELVD_MR1iSQM"
      },
      "execution_count": null,
      "outputs": []
    },
    {
      "cell_type": "code",
      "source": [
        "# a subclass inherits all the behaviour of its parent class.\n",
        "class NoResetClicker(CountingClicker):\n",
        "  # This class has all the same methods as CountingClicker\n",
        "  # Except that it has a reset method that does nothing.\n",
        "\n",
        "  def reset(self):\n",
        "    pass"
      ],
      "metadata": {
        "id": "vYeHuLk-iZd9"
      },
      "execution_count": null,
      "outputs": []
    },
    {
      "cell_type": "code",
      "source": [
        "clicker2 = NoResetClicker()\n",
        "clicker2"
      ],
      "metadata": {
        "colab": {
          "base_uri": "https://localhost:8080/"
        },
        "id": "gcs7UXcTj6Ea",
        "outputId": "226cbfd6-7e5e-427b-c781-c0f2be798e97"
      },
      "execution_count": null,
      "outputs": [
        {
          "output_type": "execute_result",
          "data": {
            "text/plain": [
              "CountingClicker(count=0)"
            ]
          },
          "metadata": {},
          "execution_count": 85
        }
      ]
    },
    {
      "cell_type": "code",
      "source": [
        "assert clicker2.read()==0 # no error\n",
        "\n"
      ],
      "metadata": {
        "id": "qAPO08KUj8Ab"
      },
      "execution_count": null,
      "outputs": []
    },
    {
      "cell_type": "code",
      "source": [
        "clicker2.click()\n",
        "clicker2.read()"
      ],
      "metadata": {
        "colab": {
          "base_uri": "https://localhost:8080/"
        },
        "id": "GCqD5FoWj_jr",
        "outputId": "3de2bf69-0851-479a-e21c-39dce1f43ed9"
      },
      "execution_count": null,
      "outputs": [
        {
          "output_type": "execute_result",
          "data": {
            "text/plain": [
              "1"
            ]
          },
          "metadata": {},
          "execution_count": 87
        }
      ]
    },
    {
      "cell_type": "code",
      "source": [
        "clicker2.reset()\n",
        "assert clicker2.read()==1, \"reset shouldn't do anything\""
      ],
      "metadata": {
        "id": "FzxycBVqkI4q"
      },
      "execution_count": null,
      "outputs": []
    },
    {
      "cell_type": "markdown",
      "source": [
        "## Iterables and generators"
      ],
      "metadata": {
        "id": "HDs4jVxq1Jhh"
      }
    },
    {
      "cell_type": "code",
      "source": [
        "def generate_range(n):\n",
        "  i=0\n",
        "  while i<n:\n",
        "    yield i # every call to yield produces a value of the generator\n",
        "    i+=1"
      ],
      "metadata": {
        "id": "Zf5gRgHAkSOM"
      },
      "execution_count": null,
      "outputs": []
    },
    {
      "cell_type": "code",
      "source": [
        "for i in generate_range(10):\n",
        "  print(f\"i: {i}\")"
      ],
      "metadata": {
        "colab": {
          "base_uri": "https://localhost:8080/"
        },
        "id": "-Bp1gvTa1lrJ",
        "outputId": "97248152-cead-4f16-d511-403508caca4a"
      },
      "execution_count": null,
      "outputs": [
        {
          "output_type": "stream",
          "name": "stdout",
          "text": [
            "i: 0\n",
            "i: 1\n",
            "i: 2\n",
            "i: 3\n",
            "i: 4\n",
            "i: 5\n",
            "i: 6\n",
            "i: 7\n",
            "i: 8\n",
            "i: 9\n"
          ]
        }
      ]
    },
    {
      "cell_type": "code",
      "source": [
        "def natural_numbers():\n",
        "  \"\"\"returns 1,2,3,...\"\"\"\n",
        "  n = 1\n",
        "  while True:\n",
        "    yield n\n",
        "    n += 1"
      ],
      "metadata": {
        "id": "HjAIXeJl1q0X"
      },
      "execution_count": null,
      "outputs": []
    },
    {
      "cell_type": "code",
      "source": [
        "evens_below_20 = (i for i in generate_range(20) if i%2==0)"
      ],
      "metadata": {
        "id": "P_O4aOL51zmT"
      },
      "execution_count": null,
      "outputs": []
    },
    {
      "cell_type": "code",
      "source": [
        "[i for i in evens_below_20]"
      ],
      "metadata": {
        "colab": {
          "base_uri": "https://localhost:8080/"
        },
        "id": "1ePE0k4a2d9r",
        "outputId": "7bd3f933-2c91-49fa-8db8-9e48820a72f1"
      },
      "execution_count": null,
      "outputs": [
        {
          "output_type": "execute_result",
          "data": {
            "text/plain": [
              "[0, 2, 4, 6, 8, 10, 12, 14, 16, 18]"
            ]
          },
          "metadata": {},
          "execution_count": 9
        }
      ]
    },
    {
      "cell_type": "code",
      "source": [
        "# playing with enumerate\n",
        "\n",
        "names = [\"A\", \"B\", \"C\", \"D\"]\n",
        "\n",
        "for i, name in enumerate(names):\n",
        "  print(f\"name {i+1} is {name}\")"
      ],
      "metadata": {
        "colab": {
          "base_uri": "https://localhost:8080/"
        },
        "id": "CqVklE5c2eIf",
        "outputId": "c39fb4a9-986f-4047-cab3-c5ff411ccb8e"
      },
      "execution_count": null,
      "outputs": [
        {
          "output_type": "stream",
          "name": "stdout",
          "text": [
            "name 1 is A\n",
            "name 2 is B\n",
            "name 3 is C\n",
            "name 4 is D\n"
          ]
        }
      ]
    },
    {
      "cell_type": "markdown",
      "source": [
        "## Randomness"
      ],
      "metadata": {
        "id": "k3cSHztj5fN2"
      }
    },
    {
      "cell_type": "code",
      "source": [
        "import random\n",
        "random.seed(10)"
      ],
      "metadata": {
        "id": "Yw7nwZq53yng"
      },
      "execution_count": null,
      "outputs": []
    },
    {
      "cell_type": "code",
      "source": [
        "four_uniform_randoms = [random.random() for _ in range(4)]\n",
        "four_uniform_randoms"
      ],
      "metadata": {
        "colab": {
          "base_uri": "https://localhost:8080/"
        },
        "id": "LBQGUhEk5miw",
        "outputId": "48f50f94-396d-43e7-b40d-3b7aa1058b95"
      },
      "execution_count": null,
      "outputs": [
        {
          "output_type": "execute_result",
          "data": {
            "text/plain": [
              "[0.5714025946899135,\n",
              " 0.4288890546751146,\n",
              " 0.5780913011344704,\n",
              " 0.20609823213950174]"
            ]
          },
          "metadata": {},
          "execution_count": 2
        }
      ]
    },
    {
      "cell_type": "code",
      "source": [
        "random.seed(10)\n",
        "print(random.random())\n",
        "random.seed(10)\n",
        "print(random.random())"
      ],
      "metadata": {
        "colab": {
          "base_uri": "https://localhost:8080/"
        },
        "id": "QgiKyxGJ5r_v",
        "outputId": "e0726464-d329-4293-ba3b-2e03b127707a"
      },
      "execution_count": null,
      "outputs": [
        {
          "output_type": "stream",
          "name": "stdout",
          "text": [
            "0.5714025946899135\n",
            "0.5714025946899135\n"
          ]
        }
      ]
    },
    {
      "cell_type": "code",
      "source": [
        "random.randrange(10)"
      ],
      "metadata": {
        "colab": {
          "base_uri": "https://localhost:8080/"
        },
        "id": "letlmlbP6PVP",
        "outputId": "0b868e0a-bd9b-4f43-fd75-698b0bfee613"
      },
      "execution_count": null,
      "outputs": [
        {
          "output_type": "execute_result",
          "data": {
            "text/plain": [
              "6"
            ]
          },
          "metadata": {},
          "execution_count": 4
        }
      ]
    },
    {
      "cell_type": "code",
      "source": [
        "random.randrange(3,6)"
      ],
      "metadata": {
        "colab": {
          "base_uri": "https://localhost:8080/"
        },
        "id": "oYtaStrG6yho",
        "outputId": "32a728cd-69c9-4dc5-d906-3ecf14c31ebe"
      },
      "execution_count": null,
      "outputs": [
        {
          "output_type": "execute_result",
          "data": {
            "text/plain": [
              "4"
            ]
          },
          "metadata": {},
          "execution_count": 5
        }
      ]
    },
    {
      "cell_type": "code",
      "source": [
        "up_to_ten = [1,2,3,4,5,6,7,8,9,10]\n",
        "random.shuffle(up_to_ten)\n",
        "up_to_ten"
      ],
      "metadata": {
        "colab": {
          "base_uri": "https://localhost:8080/"
        },
        "id": "NZw9VFee62Dm",
        "outputId": "986bcf97-16e4-42e9-cb26-20dde65132a2"
      },
      "execution_count": null,
      "outputs": [
        {
          "output_type": "execute_result",
          "data": {
            "text/plain": [
              "[5, 6, 9, 2, 3, 7, 8, 4, 1, 10]"
            ]
          },
          "metadata": {},
          "execution_count": 6
        }
      ]
    },
    {
      "cell_type": "code",
      "source": [
        "character_vars = ['a','b','c','d']\n",
        "random.shuffle(character_vars)\n",
        "character_vars"
      ],
      "metadata": {
        "colab": {
          "base_uri": "https://localhost:8080/"
        },
        "id": "hjL4DeZO6_DS",
        "outputId": "5ac00596-c568-4bb7-fe69-a9a5834e80f6"
      },
      "execution_count": null,
      "outputs": [
        {
          "output_type": "execute_result",
          "data": {
            "text/plain": [
              "['b', 'd', 'a', 'c']"
            ]
          },
          "metadata": {},
          "execution_count": 7
        }
      ]
    },
    {
      "cell_type": "code",
      "source": [
        "choose_randomly = random.choice([\"A\", \"B\", \"C\", \"D\"])\n",
        "choose_randomly"
      ],
      "metadata": {
        "colab": {
          "base_uri": "https://localhost:8080/",
          "height": 35
        },
        "id": "dTONeV-a7JOY",
        "outputId": "78642949-d1b4-42bb-c9df-e6ad34f271fd"
      },
      "execution_count": null,
      "outputs": [
        {
          "output_type": "execute_result",
          "data": {
            "text/plain": [
              "'C'"
            ],
            "application/vnd.google.colaboratory.intrinsic+json": {
              "type": "string"
            }
          },
          "metadata": {},
          "execution_count": 8
        }
      ]
    },
    {
      "cell_type": "code",
      "source": [
        "lottery_numbers = range(60)\n",
        "winning_numbers = random.sample(lottery_numbers, 6) # without replacement\n",
        "winning_numbers"
      ],
      "metadata": {
        "colab": {
          "base_uri": "https://localhost:8080/"
        },
        "id": "dkYlEE7t7qdY",
        "outputId": "81248801-00e0-43cd-eb5f-e31733cb97c3"
      },
      "execution_count": null,
      "outputs": [
        {
          "output_type": "execute_result",
          "data": {
            "text/plain": [
              "[2, 26, 55, 8, 38, 22]"
            ]
          },
          "metadata": {},
          "execution_count": 9
        }
      ]
    },
    {
      "cell_type": "code",
      "source": [
        "num_replacements = [random.choice(range(10)) for _ in range(4)] # with replacement\n",
        "num_replacements # several calls to choice"
      ],
      "metadata": {
        "colab": {
          "base_uri": "https://localhost:8080/"
        },
        "id": "dOQUYket8CWA",
        "outputId": "e162e311-71ab-42ba-99ac-447ddd92cd5f"
      },
      "execution_count": null,
      "outputs": [
        {
          "output_type": "execute_result",
          "data": {
            "text/plain": [
              "[6, 6, 4, 4]"
            ]
          },
          "metadata": {},
          "execution_count": 10
        }
      ]
    },
    {
      "cell_type": "markdown",
      "source": [
        "## Regular Expressions"
      ],
      "metadata": {
        "id": "CjiQD58NoyH1"
      }
    },
    {
      "cell_type": "code",
      "source": [
        "import re"
      ],
      "metadata": {
        "id": "kSrQG7gK8zAa"
      },
      "execution_count": null,
      "outputs": []
    },
    {
      "cell_type": "code",
      "source": [
        "not re.match(\"a\", \"cat\"), re.search(\"a\", \"cat\"), not re.search(\"c\", \"dog\"), 3==len(re.split(\"[ab]\", \"carbs\")), \"R-D-\"==re.sub(\"[0-9]\", \"-\", \"R2D2\")"
      ],
      "metadata": {
        "colab": {
          "base_uri": "https://localhost:8080/"
        },
        "id": "ubet1OKJpF23",
        "outputId": "2a58ca40-7ab3-4ac6-f571-46c7d40ed9e5"
      },
      "execution_count": null,
      "outputs": [
        {
          "output_type": "execute_result",
          "data": {
            "text/plain": [
              "(True, <re.Match object; span=(1, 2), match='a'>, True, True, True)"
            ]
          },
          "metadata": {},
          "execution_count": 22
        }
      ]
    },
    {
      "cell_type": "markdown",
      "source": [
        "> `re.match` beginning of the string\n",
        "\n",
        "> `re.serch` any part of a string"
      ],
      "metadata": {
        "id": "HGFOlh3RqLi1"
      }
    },
    {
      "cell_type": "markdown",
      "source": [
        "## `zip` and Argument Unpacking"
      ],
      "metadata": {
        "id": "bOg7Bjl3qaIb"
      }
    },
    {
      "cell_type": "code",
      "source": [
        "list1 = ['a', 'b', 'c']\n",
        "list2 = [1,2,3]"
      ],
      "metadata": {
        "id": "bxBZV2gPpIcW"
      },
      "execution_count": null,
      "outputs": []
    },
    {
      "cell_type": "code",
      "source": [
        "[pair for pair in zip(list1, list2)]"
      ],
      "metadata": {
        "id": "tWyZwrseq_0M",
        "outputId": "6050f9c5-2967-4bea-8aef-e11bf9fa8860",
        "colab": {
          "base_uri": "https://localhost:8080/"
        }
      },
      "execution_count": null,
      "outputs": [
        {
          "output_type": "execute_result",
          "data": {
            "text/plain": [
              "[('a', 1), ('b', 2), ('c', 3)]"
            ]
          },
          "metadata": {},
          "execution_count": 24
        }
      ]
    }
  ]
}