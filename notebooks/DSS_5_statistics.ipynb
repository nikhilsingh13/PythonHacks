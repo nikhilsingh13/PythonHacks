{
  "nbformat": 4,
  "nbformat_minor": 0,
  "metadata": {
    "colab": {
      "provenance": [],
      "collapsed_sections": []
    },
    "kernelspec": {
      "name": "python3",
      "display_name": "Python 3"
    },
    "language_info": {
      "name": "python"
    }
  },
  "cells": [
    {
      "cell_type": "code",
      "execution_count": 4,
      "metadata": {
        "id": "1CkCzz4NcNfA"
      },
      "outputs": [],
      "source": [
        "import numpy as np\n",
        "from collections import Counter\n",
        "import matplotlib.pyplot as plt\n",
        "\n",
        "from typing import List\n",
        "\n",
        "%matplotlib inline"
      ]
    },
    {
      "cell_type": "code",
      "source": [
        "# setting a seed, to avoid any assertion-errors\n",
        "np.random.seed(145)"
      ],
      "metadata": {
        "id": "zw3uwbLTX9E_"
      },
      "execution_count": 59,
      "outputs": []
    },
    {
      "cell_type": "code",
      "source": [
        "num_friends = np.random.randint(low=1, high=100, size=100)\n",
        "another_vec_of_numbers = np.random.randint(low=1, high=100, size=100)"
      ],
      "metadata": {
        "id": "roLU3Rm6VxgG"
      },
      "execution_count": 5,
      "outputs": []
    },
    {
      "cell_type": "code",
      "source": [
        "friend_counts = Counter(num_friends)\n",
        "xs = range(101)\n",
        "ys = [friend_counts[x] for x in xs]\n",
        "\n",
        "plt.bar(xs, ys)\n",
        "plt.axis([0, 101, 0, 25])\n",
        "plt.title(\"Histogram of Friend Counts\")\n",
        "plt.xlabel('# of friends')\n",
        "plt.ylabel('# of people')\n",
        "plt.show()"
      ],
      "metadata": {
        "colab": {
          "base_uri": "https://localhost:8080/",
          "height": 295
        },
        "id": "khFCXjARWWO5",
        "outputId": "f626533b-7725-4ad2-e00b-3529e6e8a90e"
      },
      "execution_count": 6,
      "outputs": [
        {
          "output_type": "display_data",
          "data": {
            "text/plain": [
              "<Figure size 432x288 with 1 Axes>"
            ],
            "image/png": "[encoded data removed]"
          },
          "metadata": {
            "needs_background": "light"
          }
        }
      ]
    },
    {
      "cell_type": "code",
      "source": [
        "# some generic statistic\n",
        "len(num_friends), max(num_friends), min(num_friends)"
      ],
      "metadata": {
        "colab": {
          "base_uri": "https://localhost:8080/"
        },
        "id": "j29t2mstWXFc",
        "outputId": "86efa577-0013-4773-d332-2889b448225a"
      },
      "execution_count": 7,
      "outputs": [
        {
          "output_type": "execute_result",
          "data": {
            "text/plain": [
              "(100, 99, 2)"
            ]
          },
          "metadata": {},
          "execution_count": 7
        }
      ]
    },
    {
      "cell_type": "code",
      "source": [
        "sorted_values = sorted(num_friends)\n",
        "smallest_value = sorted_values[0]\n",
        "second_smallest_value = sorted_values[1]\n",
        "second_largest_value = sorted_values[-2]\n",
        "smallest_value, second_smallest_value, second_largest_value"
      ],
      "metadata": {
        "colab": {
          "base_uri": "https://localhost:8080/"
        },
        "id": "gNuVy_ZGW3La",
        "outputId": "ab358c27-9e17-4369-bdf3-254a5be69c70"
      },
      "execution_count": 8,
      "outputs": [
        {
          "output_type": "execute_result",
          "data": {
            "text/plain": [
              "(2, 2, 98)"
            ]
          },
          "metadata": {},
          "execution_count": 8
        }
      ]
    },
    {
      "cell_type": "markdown",
      "source": [
        "## Central Tendencies"
      ],
      "metadata": {
        "id": "7mGiZ7_7oIbT"
      }
    },
    {
      "cell_type": "code",
      "source": [
        "def mean(xs: List[float]) -> float:\n",
        "  return sum(xs)/len(xs)"
      ],
      "metadata": {
        "id": "_afybypqnzUi"
      },
      "execution_count": 9,
      "outputs": []
    },
    {
      "cell_type": "code",
      "source": [
        "mean(num_friends)"
      ],
      "metadata": {
        "colab": {
          "base_uri": "https://localhost:8080/"
        },
        "id": "tPXUhhhdoRuJ",
        "outputId": "02e75d46-2021-48af-ed75-a904a846b4b4"
      },
      "execution_count": 10,
      "outputs": [
        {
          "output_type": "execute_result",
          "data": {
            "text/plain": [
              "52.86"
            ]
          },
          "metadata": {},
          "execution_count": 10
        }
      ]
    },
    {
      "cell_type": "markdown",
      "source": [
        "### Median"
      ],
      "metadata": {
        "id": "h1m5xHQYp1Fg"
      }
    },
    {
      "cell_type": "code",
      "source": [
        "def _median_odd(xs: List[float]) -> float:\n",
        "  \"\"\"If len(xs) is odd, the median is the middle element\"\"\"\n",
        "  return sorted(xs)[len(xs)//2]\n",
        "\n",
        "def _median_even(xs: List[float]) -> float:\n",
        "  \"\"\"If len(xs) is even, the median is the average of the middle two elements.\"\"\"\n",
        "  sorted_xs = sorted(xs)\n",
        "  hi_midpoint = len(xs)//2\n",
        "  return (sorted_xs[hi_midpoint - 1] + sorted_xs[hi_midpoint]) / 2\n",
        "\n",
        "def median(v: List[float]) -> float:\n",
        "  \"\"\"Find the median value in a vector\"\"\"\n",
        "  return _median_even(v) if len(v) % 2 == 0 else _median_odd(v)"
      ],
      "metadata": {
        "id": "vzEMoKqXoY0y"
      },
      "execution_count": 11,
      "outputs": []
    },
    {
      "cell_type": "code",
      "source": [
        "assert median([1, 10, 2, 9, 5]) == 5\n",
        "assert median([1, 19, 2, 10]) == (2+10)/2"
      ],
      "metadata": {
        "id": "i_Qh4LXdUfSY"
      },
      "execution_count": 12,
      "outputs": []
    },
    {
      "cell_type": "code",
      "source": [
        "median(num_friends)"
      ],
      "metadata": {
        "colab": {
          "base_uri": "https://localhost:8080/"
        },
        "id": "3KN0RDVinRnk",
        "outputId": "c8834001-d281-4459-c763-dc32716568a9"
      },
      "execution_count": 13,
      "outputs": [
        {
          "output_type": "execute_result",
          "data": {
            "text/plain": [
              "59.5"
            ]
          },
          "metadata": {},
          "execution_count": 13
        }
      ]
    },
    {
      "cell_type": "markdown",
      "source": [
        "### for fast sorting - `Quickselect` algorithm can be used."
      ],
      "metadata": {
        "id": "6wGYjbTan3Yw"
      }
    },
    {
      "cell_type": "code",
      "source": [
        "def quantiles(xs: List[float], p:float) -> float:\n",
        "  \"\"\"Returns the pth-percentile value in x\"\"\"\n",
        "  p_index = int(p*len(xs))\n",
        "  return sorted(xs)[p_index]"
      ],
      "metadata": {
        "id": "A3acoF4CnYHA"
      },
      "execution_count": 14,
      "outputs": []
    },
    {
      "cell_type": "code",
      "source": [
        "assert quantiles(num_friends, 0.10) == 16\n",
        "assert quantiles(num_friends, 0.25) == 27\n",
        "assert quantiles(num_friends, 0.75) == 74\n",
        "assert quantiles(num_friends, 0.90) == 92"
      ],
      "metadata": {
        "id": "ZeXUtKJdqVYy"
      },
      "execution_count": 21,
      "outputs": []
    },
    {
      "cell_type": "code",
      "source": [
        "def mode(x: List[float]) -> List[float]:\n",
        "  \"\"\"Returns a list, since there might be more than one mode\"\"\"\n",
        "  counts = Counter(x)\n",
        "  max_count = max(counts.values())\n",
        "  return [x_i for x_i, count in counts.items() if count==max_count]"
      ],
      "metadata": {
        "id": "VDJZJhp-qgVl"
      },
      "execution_count": 22,
      "outputs": []
    },
    {
      "cell_type": "code",
      "source": [
        "assert set(mode(num_friends))=={37}"
      ],
      "metadata": {
        "id": "orswaVK2q5zm"
      },
      "execution_count": 26,
      "outputs": []
    },
    {
      "cell_type": "code",
      "source": [
        "[x_i for x_i, count in Counter(num_friends).items() if count==6]"
      ],
      "metadata": {
        "colab": {
          "base_uri": "https://localhost:8080/"
        },
        "id": "48TrcRoRrA_Q",
        "outputId": "1083b5c9-d8aa-4223-c29d-f0c4d4fea7a1"
      },
      "execution_count": 29,
      "outputs": [
        {
          "output_type": "execute_result",
          "data": {
            "text/plain": [
              "[37]"
            ]
          },
          "metadata": {},
          "execution_count": 29
        }
      ]
    },
    {
      "cell_type": "markdown",
      "source": [
        "### Dispersion\n",
        "> how much spread out the data is."
      ],
      "metadata": {
        "id": "3dtgptKgPHOl"
      }
    },
    {
      "cell_type": "code",
      "source": [
        "def data_range(xs: List[float]) -> float:\n",
        "  return max(xs)-min(xs)"
      ],
      "metadata": {
        "id": "cHGV2b9RrV4j"
      },
      "execution_count": 30,
      "outputs": []
    },
    {
      "cell_type": "code",
      "source": [
        "assert data_range(num_friends)== 97"
      ],
      "metadata": {
        "id": "5x7Q_1Sorfp5"
      },
      "execution_count": 32,
      "outputs": []
    },
    {
      "cell_type": "markdown",
      "source": [
        "**A good measure of data dispersion can be `Variance`.**"
      ],
      "metadata": {
        "id": "H-mv43R0Qauj"
      }
    },
    {
      "cell_type": "code",
      "source": [
        "Vector = List[float]\n",
        "def dot(v: Vector, w: Vector) -> float:\n",
        "    \"\"\"Computes v_1 * w_1 + ... + v_n * w_n\"\"\"\n",
        "    assert len(v) == len(w), \"vectors must be same length\"\n",
        "\n",
        "    return sum(v_i * w_i for v_i, w_i in zip(v, w))\n",
        "\n",
        "def sum_of_squares(v: Vector) -> float:\n",
        "    \"\"\"Returns v_1 * v_1 + ... + v_n * v_n\"\"\"\n",
        "    return dot(v, v)"
      ],
      "metadata": {
        "id": "Rq87HKWcPtj3"
      },
      "execution_count": 35,
      "outputs": []
    },
    {
      "cell_type": "code",
      "source": [
        "def de_mean(xs: List[float]) -> List[float]:\n",
        "  \"\"\"Translate a list by subtracting its mean.\"\"\"\n",
        "  x_bar = mean(xs)\n",
        "  return [x-x_bar for x in xs]"
      ],
      "metadata": {
        "id": "h8XNJrRdQsPx"
      },
      "execution_count": 36,
      "outputs": []
    },
    {
      "cell_type": "code",
      "source": [
        "def variance(xs: List[float]) -> float:\n",
        "  \"\"\"Almost the average squared deviation from the mean.\"\"\"\n",
        "  n = len(xs)\n",
        "  assert n >= 2, \"length of list must be greater than 1 to compute variance.\"\n",
        "  deviations = de_mean(xs)\n",
        "  return sum_of_squares(deviations)/(n-1)"
      ],
      "metadata": {
        "id": "cfGT6FvSRl-v"
      },
      "execution_count": 39,
      "outputs": []
    },
    {
      "cell_type": "code",
      "source": [
        "assert 789< variance(num_friends)< 790"
      ],
      "metadata": {
        "id": "MZ0cdscvSLxw"
      },
      "execution_count": 47,
      "outputs": []
    },
    {
      "cell_type": "markdown",
      "source": [
        "**Reason behind dividing by `n-1`**\n",
        "> - In a real scenario, we might have a sample from a population, `x_bar` is only an estimate of the actual mean.\n",
        "- Therefore, `(x_i - x_bar)^2` is an underestimate of `x_i` squared deviation from the mean.\n",
        "- Thus, we divide by `n-1` and not `n`."
      ],
      "metadata": {
        "id": "vrxhpL2eTi9X"
      }
    },
    {
      "cell_type": "code",
      "source": [
        "# To make sense of variance (as it is unit squared)\n",
        "import math\n",
        "def standard_deviation(xs: List[float]) -> float:\n",
        "  \"\"\"sqrt of variance\"\"\"\n",
        "  return math.sqrt(variance(xs))"
      ],
      "metadata": {
        "id": "xlXxD2CuSlKv"
      },
      "execution_count": 48,
      "outputs": []
    },
    {
      "cell_type": "code",
      "source": [
        "assert 28 < standard_deviation(num_friends) < 28.5"
      ],
      "metadata": {
        "id": "HHsQShUqUqf3"
      },
      "execution_count": 50,
      "outputs": []
    },
    {
      "cell_type": "markdown",
      "source": [
        "- `standard-deviation` is also affected by the `outlier problem`.\n",
        "- An alternative can be `interquartile range`"
      ],
      "metadata": {
        "id": "wOKRHLpBU9tQ"
      }
    },
    {
      "cell_type": "code",
      "source": [
        "def interquartile_range(xs: List[float]) -> float:\n",
        "  \"\"\"difference b/w 75 percentile & 25 percentile.\"\"\"\n",
        "  return quantiles(xs, 0.75) - quantiles(xs, 0.25)"
      ],
      "metadata": {
        "id": "rvifW19dUtvX"
      },
      "execution_count": 51,
      "outputs": []
    },
    {
      "cell_type": "code",
      "source": [
        "# not affected that much by small number of outliers.\n",
        "assert interquartile_range(num_friends)==47"
      ],
      "metadata": {
        "id": "YAwQRX1dVfVX"
      },
      "execution_count": 54,
      "outputs": []
    },
    {
      "cell_type": "markdown",
      "source": [
        "### Correlation & Covariance\n",
        "> **Covariance :** analogous to `variance`\n",
        "- `Variance` is about how a single variable deviates around the mean.\n",
        "- `Covariance` is about how two variables together deviates around their means."
      ],
      "metadata": {
        "id": "SdObT1vVWBtW"
      }
    },
    {
      "cell_type": "code",
      "source": [
        "def covariance(xs: List[float], ys: List[float]) -> float:\n",
        "  assert (len(xs)==len(ys)), \"both vectors must be of same length.\"\n",
        "\n",
        "  return dot(de_mean(xs), de_mean(ys))/(len(xs)-1)"
      ],
      "metadata": {
        "id": "f0BffVzvViIP"
      },
      "execution_count": 55,
      "outputs": []
    },
    {
      "cell_type": "code",
      "source": [
        "assert 8.5<covariance(num_friends, another_vec_of_numbers)<9"
      ],
      "metadata": {
        "id": "EnrSndTKXaQ_"
      },
      "execution_count": 60,
      "outputs": []
    },
    {
      "cell_type": "markdown",
      "source": [
        "- Covariance can be hard to interpret, and that give rise to `Correlation`.\n",
        "- `Correlation` is unitless.\n",
        "- Always lies b/w -1 & 1.\n",
        "- Value around zero signify weak correlation (negative or positive)\n",
        "- **Can be very sensitive to outliers.**"
      ],
      "metadata": {
        "id": "TVvv3LpNbp56"
      }
    },
    {
      "cell_type": "code",
      "source": [
        "def correlation(xs: List[float], ys: List[float]) -> float:\n",
        "  \"\"\"how much two vectors vary together around their means.\"\"\"\n",
        "\n",
        "  stdev_x = standard_deviation(xs)\n",
        "  stdev_y = standard_deviation(ys)\n",
        "\n",
        "  if stdev_x > 0 and stdev_y > 0:\n",
        "    return covariance(xs, ys) / stdev_x / stdev_y\n",
        "  else:\n",
        "    return 0 # if no std-variation, correlation is anyway zero."
      ],
      "metadata": {
        "id": "nhCDIkVXVkUP"
      },
      "execution_count": 62,
      "outputs": []
    },
    {
      "cell_type": "code",
      "source": [
        "assert 0.01<correlation(num_friends, another_vec_of_numbers)<0.012"
      ],
      "metadata": {
        "id": "hYllZsIOX24w"
      },
      "execution_count": 66,
      "outputs": []
    },
    {
      "cell_type": "code",
      "source": [
        "outlier = num_friends.tolist().index(99)"
      ],
      "metadata": {
        "id": "stjY3KJTcenP"
      },
      "execution_count": 83,
      "outputs": []
    },
    {
      "cell_type": "code",
      "source": [
        "num_friends_good = [x for i, x in enumerate(num_friends) if i!=outlier]\n",
        "another_list_smth = [x for i, x in enumerate(another_vec_of_numbers) if i!=outlier]"
      ],
      "metadata": {
        "id": "eyzZsRbjdIBP"
      },
      "execution_count": 84,
      "outputs": []
    },
    {
      "cell_type": "code",
      "source": [
        "another_good = [dm/60 for dm in another_list_smth]"
      ],
      "metadata": {
        "id": "Vqm1a8BKdxxA"
      },
      "execution_count": 85,
      "outputs": []
    },
    {
      "cell_type": "code",
      "source": [
        "assert -0.02<correlation(num_friends_good, another_list_smth)<0\n",
        "assert -0.02<correlation(num_friends_good, another_good)<0"
      ],
      "metadata": {
        "id": "AKJu_Ia5fQug"
      },
      "execution_count": 89,
      "outputs": []
    },
    {
      "cell_type": "markdown",
      "source": [
        "--------"
      ],
      "metadata": {
        "id": "PbFJvYm7iGTh"
      }
    }
  ]
}