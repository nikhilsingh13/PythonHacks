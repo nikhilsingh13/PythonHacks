{
  "nbformat": 4,
  "nbformat_minor": 0,
  "metadata": {
    "colab": {
      "provenance": []
    },
    "kernelspec": {
      "name": "python3",
      "display_name": "Python 3"
    },
    "language_info": {
      "name": "python"
    }
  },
  "cells": [
    {
      "cell_type": "markdown",
      "source": [
        "# Chapter-7\n",
        "## Hypothesis & Inference\n",
        "### Flipping a coin\n",
        "\n",
        "$H_{0}$ = coin is fair. $p=0.5$.   \n",
        "$H_{1}$ = coin is fair. $p\\neq0.5$\n",
        "\n"
      ],
      "metadata": {
        "id": "rMb9MMRC8YWS"
      }
    },
    {
      "cell_type": "code",
      "execution_count": 3,
      "metadata": {
        "id": "xwpw6_O912Yr"
      },
      "outputs": [],
      "source": [
        "from typing import Tuple\n",
        "import math\n",
        "\n",
        "def normal_approximation_to_binomial(n: int, p: float) -> Tuple[float, float]:\n",
        "  \"\"\"Returns mu and sigma corresponding to a Binomial(n, p)\"\"\"\n",
        "\n",
        "  mu = p*n\n",
        "  sigma = math.sqrt(p*(1-p)*n)\n",
        "  return mu, sigma"
      ]
    },
    {
      "cell_type": "code",
      "source": [
        "def normal_cdf(x: float, mu: float=0, sigma: float=1) -> float:\n",
        "  return(1+math.erf((x-mu) / math.sqrt(2)/sigma))/2"
      ],
      "metadata": {
        "id": "c40u9i4k9oUO"
      },
      "execution_count": 4,
      "outputs": []
    },
    {
      "cell_type": "code",
      "source": [
        "# the normal cdf is the probability that the variable is below a threshold\n",
        "normal_probability_below = normal_cdf\n",
        "\n",
        "# Above the threshold if it's not below the threshold\n",
        "def normal_probability_above(lo: float, \n",
        "                             mu: float = 0,\n",
        "                             sigma: float = 1) -> float:\n",
        "  \"\"\"The probability that an N(mu, sigma) is greater than lo.\"\"\"\n",
        "  return 1 - normal_cdf(lo, mu, sigma)"
      ],
      "metadata": {
        "id": "1apw2zTU-T6z"
      },
      "execution_count": 5,
      "outputs": []
    },
    {
      "cell_type": "code",
      "source": [
        "def normal_probability_between(lo: float,\n",
        "                              hi: float,\n",
        "                              mu: float = 0,\n",
        "                              sigma: float=1):\n",
        "  \"\"\"The probability that an N(mu, sigma) is b/w lo and hi\"\"\"\n",
        "  return normal_cdf(hi, mu, sigma) - normal_cdf(lo, mu, sigma)\n",
        "\n",
        "def normal_probability_outside(lo: float, hi: float, mu: float, sigma: float=1)-> float:\n",
        "  \"\"\"The probability that an N(mu, sigma) is not between lo and hi\"\"\"\n",
        "  return 1 - normal_probability_between(lo, hi, mu, sigma)"
      ],
      "metadata": {
        "id": "VXXNMhC3AS1y"
      },
      "execution_count": 6,
      "outputs": []
    },
    {
      "cell_type": "code",
      "source": [
        "mu_0, sigma_0 = normal_approximation_to_binomial(1000, 0.5)"
      ],
      "metadata": {
        "id": "Jn1aT8g3C0A7"
      },
      "execution_count": 7,
      "outputs": []
    },
    {
      "cell_type": "code",
      "source": [
        "mu_0, sigma_0"
      ],
      "metadata": {
        "colab": {
          "base_uri": "https://localhost:8080/"
        },
        "id": "fLnuF9gPDonk",
        "outputId": "7c90de20-d463-48e2-8ea8-35835f3872c8"
      },
      "execution_count": 8,
      "outputs": [
        {
          "output_type": "execute_result",
          "data": {
            "text/plain": [
              "(500.0, 15.811388300841896)"
            ]
          },
          "metadata": {},
          "execution_count": 8
        }
      ]
    },
    {
      "cell_type": "code",
      "source": [
        "def inverse_normal_cdf(p: float, \n",
        "                       mu: float = 0, \n",
        "                       sigma: float=1, \n",
        "                       tolerance: float = 0.00001) -> float:\n",
        "                       \"\"\"Find approximate inverse using binary search\"\"\"\n",
        "\n",
        "                       # if not standard, computing standard and rescale\n",
        "\n",
        "                       if mu!=0 or sigma!=1:\n",
        "                         return mu + sigma + inverse_normal_cdf(p, tolerance=tolerance)\n",
        "                       low_z = -10.0  # normal_cdf(-10) is (very close to) 0\n",
        "                       hi_z = 10.0    # normal_cdf(10) is (very close to) 1\n",
        "                       while hi_z - low_z > tolerance:\n",
        "                         mid_z = (low_z + hi_z)/2\n",
        "                         mid_p = normal_cdf(mid_z)\n",
        "                         if mid_p < p:\n",
        "                           low_z=mid_z\n",
        "                         else:\n",
        "                           hi_z=mid_z\n",
        "                       return mid_z"
      ],
      "metadata": {
        "id": "gNoCecyoDv6H"
      },
      "execution_count": 9,
      "outputs": []
    },
    {
      "cell_type": "code",
      "source": [
        "def normal_upper_bound(probability: float, \n",
        "                       mu: float = 0, \n",
        "                       sigma: float = 1) -> float:\n",
        "                       \"\"\"Returns the z for which P(Z<=z) = probability\"\"\"\n",
        "                       return inverse_normal_cdf(probability, mu, sigma)"
      ],
      "metadata": {
        "id": "deEU6jFJ-kFU"
      },
      "execution_count": 10,
      "outputs": []
    },
    {
      "cell_type": "code",
      "source": [
        "def normal_lower_bound(probability: float,\n",
        "                       mu: float = 0,\n",
        "                       sigma: float = 1) -> float:\n",
        "                       \"\"\"Returns the z for which P(Z>=z)=probability\"\"\"\n",
        "                       return inverse_normal_cdf(1-probability, mu, sigma)"
      ],
      "metadata": {
        "id": "00y8Efzq_K5L"
      },
      "execution_count": 11,
      "outputs": []
    },
    {
      "cell_type": "code",
      "source": [
        "def normal_two_sided_bounds(probability: float,\n",
        "                            mu: float = 0,\n",
        "                            sigma: float = 1) -> Tuple[float, float]:\n",
        "                            \"\"\"\n",
        "                            Returns the symmetric (about the mean) bounds that contain the specified probability.\n",
        "                            \"\"\"\n",
        "                            \n",
        "                            tail_probability = (1 - probability)/2\n",
        "\n",
        "                            # upper bound should have tail_probability above it.\n",
        "                            upper_bound = normal_lower_bound(tail_probability, mu, sigma)\n",
        "\n",
        "                            # lower bound should have tail_probability below it.\n",
        "                            lower_bound = normal_upper_bound(tail_probability, mu, sigma)\n",
        "                            \n",
        "                            return lower_bound, upper_bound"
      ],
      "metadata": {
        "id": "xlQ5eX8-AXbB"
      },
      "execution_count": 12,
      "outputs": []
    },
    {
      "cell_type": "code",
      "source": [
        "lower_bound, upper_bound = normal_two_sided_bounds(0.95, mu_0, sigma_0)\n",
        "lower_bound, upper_bound"
      ],
      "metadata": {
        "colab": {
          "base_uri": "https://localhost:8080/"
        },
        "id": "DpIeXkVN2pnl",
        "outputId": "9e82d3fd-b3c6-4668-a0a5-1200dae42882"
      },
      "execution_count": 13,
      "outputs": [
        {
          "output_type": "execute_result",
          "data": {
            "text/plain": [
              "(513.8514254559933, 517.7713511456906)"
            ]
          },
          "metadata": {},
          "execution_count": 13
        }
      ]
    },
    {
      "cell_type": "markdown",
      "source": [
        "> `power` of a test: _probability of not making a Type-2 error_"
      ],
      "metadata": {
        "id": "RkK5Pn2H3i9G"
      }
    },
    {
      "cell_type": "code",
      "source": [
        "# calculating the power of the test\n",
        "\n",
        "lo, hi = normal_two_sided_bounds(0.95, mu_0, sigma_0)\n",
        "\n",
        "# actual mu and sigma based on p=0.55\n",
        "mu_1, sigma_1 = normal_approximation_to_binomial(1000, 0.55)\n",
        "\n",
        "# a type 2 error means we fail to reject the null hypothesis\n",
        "# which will happen when X is still in our origianlinterval\n",
        "type_2_probability = normal_probability_between(lo, hi, mu_1, sigma_1)\n",
        "power = 1 - type_2_probability\n",
        "power"
      ],
      "metadata": {
        "colab": {
          "base_uri": "https://localhost:8080/"
        },
        "id": "pLRbhQKu3MCG",
        "outputId": "71488c7d-ed38-4141-9249-13715be79ecf"
      },
      "execution_count": 14,
      "outputs": [
        {
          "output_type": "execute_result",
          "data": {
            "text/plain": [
              "0.9905366515678999"
            ]
          },
          "metadata": {},
          "execution_count": 14
        }
      ]
    },
    {
      "cell_type": "code",
      "source": [
        "hi = normal_upper_bound(0.95, mu_0, sigma_0)\n",
        "hi"
      ],
      "metadata": {
        "colab": {
          "base_uri": "https://localhost:8080/"
        },
        "id": "F5VzvEAx7S1n",
        "outputId": "2e56841c-9704-43fc-c2b9-ff1242d31c96"
      },
      "execution_count": 15,
      "outputs": [
        {
          "output_type": "execute_result",
          "data": {
            "text/plain": [
              "517.4562380780636"
            ]
          },
          "metadata": {},
          "execution_count": 15
        }
      ]
    },
    {
      "cell_type": "code",
      "source": [
        "type_2_probability = normal_probability_below(hi, mu_1, sigma_1)\n",
        "power = 1 - type_2_probability\n",
        "power"
      ],
      "metadata": {
        "colab": {
          "base_uri": "https://localhost:8080/"
        },
        "id": "3D54kT_47z-v",
        "outputId": "73e772c5-d31b-4c1b-9170-72e2795a3512"
      },
      "execution_count": 16,
      "outputs": [
        {
          "output_type": "execute_result",
          "data": {
            "text/plain": [
              "0.9807089934138811"
            ]
          },
          "metadata": {},
          "execution_count": 16
        }
      ]
    },
    {
      "cell_type": "markdown",
      "source": [
        "### p-values"
      ],
      "metadata": {
        "id": "XMsqE4FL-NDj"
      }
    },
    {
      "cell_type": "code",
      "source": [
        "def two_sided_p_value(x: float, mu: float=0, sigma: float=1) -> float:\n",
        "  \"\"\"\n",
        "  How likely are we to see a value at least as extreme as x (in either direction) if our values are from an N(mu, sigma)?\n",
        "  \"\"\"\n",
        "\n",
        "  if x >= mu:\n",
        "    # x is greater than the mean, so the tail is everything greater than x\n",
        "    return 2 * normal_probability_above(x, mu, sigma)\n",
        "  else:\n",
        "    # x is less than the mean, so the tail is everything less than x\n",
        "    return 2 * normal_probability_below(x, mu, sigma)"
      ],
      "metadata": {
        "id": "gjk6o_Ic9qMY"
      },
      "execution_count": 17,
      "outputs": []
    },
    {
      "cell_type": "code",
      "source": [
        "two_sided_p_value(529.5, mu_0, sigma_0)"
      ],
      "metadata": {
        "colab": {
          "base_uri": "https://localhost:8080/"
        },
        "id": "ehu26Vhk_GgS",
        "outputId": "8a343b67-29cf-4735-8177-d94c8dd33794"
      },
      "execution_count": 18,
      "outputs": [
        {
          "output_type": "execute_result",
          "data": {
            "text/plain": [
              "0.06207721579598835"
            ]
          },
          "metadata": {},
          "execution_count": 18
        }
      ]
    },
    {
      "cell_type": "markdown",
      "source": [
        "> a simulation to check the coin-toss"
      ],
      "metadata": {
        "id": "IBCmiPVk_lIm"
      }
    },
    {
      "cell_type": "code",
      "source": [
        "import random\n",
        "\n",
        "extreme_value_count = 0\n",
        "\n",
        "for _ in range(1000):\n",
        "  num_heads = sum(1 if random.random()<0.5 else 0 for _ in range(1000))\n",
        "\n",
        "  if num_heads >= 530 or num_heads <= 470:\n",
        "    extreme_value_count +=1"
      ],
      "metadata": {
        "id": "YatmM4Ma_KGv"
      },
      "execution_count": 19,
      "outputs": []
    },
    {
      "cell_type": "code",
      "source": [
        "extreme_value_count"
      ],
      "metadata": {
        "colab": {
          "base_uri": "https://localhost:8080/"
        },
        "id": "zG9zULP0ADbB",
        "outputId": "b00ef7fa-556c-4150-b0ae-ad4b0169b747"
      },
      "execution_count": 20,
      "outputs": [
        {
          "output_type": "execute_result",
          "data": {
            "text/plain": [
              "76"
            ]
          },
          "metadata": {},
          "execution_count": 20
        }
      ]
    },
    {
      "cell_type": "markdown",
      "source": [
        "_59 values out of 1000_\n",
        "\n",
        "> 0.059 > 0.05. $H_{0}$ is not rejected"
      ],
      "metadata": {
        "id": "j5IhVnp_AKO0"
      }
    },
    {
      "cell_type": "code",
      "source": [
        "# for some number of heads > 500 like 542, the p-value would be:\n",
        "\n",
        "two_sided_p_value(541.5, mu_0, sigma_0)"
      ],
      "metadata": {
        "colab": {
          "base_uri": "https://localhost:8080/"
        },
        "id": "k8FIneKTAHYv",
        "outputId": "40a8f35e-dc38-4a11-df38-e0ef685ef05a"
      },
      "execution_count": 21,
      "outputs": [
        {
          "output_type": "execute_result",
          "data": {
            "text/plain": [
              "0.00867277726589677"
            ]
          },
          "metadata": {},
          "execution_count": 21
        }
      ]
    },
    {
      "cell_type": "markdown",
      "source": [
        "### Confidence interval"
      ],
      "metadata": {
        "id": "BbHKT3oUEFdk"
      }
    },
    {
      "cell_type": "code",
      "source": [
        "p_hat = 540/1000\n",
        "mu=p_hat\n",
        "sigma = math.sqrt(p_hat * (1-p_hat)/1000)\n",
        "normal_two_sided_bounds(0.95, mu, sigma)"
      ],
      "metadata": {
        "colab": {
          "base_uri": "https://localhost:8080/"
        },
        "id": "pHNBkSZGDDEY",
        "outputId": "2250c893-29b1-4f37-b290-8406a947867f"
      },
      "execution_count": 22,
      "outputs": [
        {
          "output_type": "execute_result",
          "data": {
            "text/plain": [
              "(-1.4042021342047564, 2.5157235554925093)"
            ]
          },
          "metadata": {},
          "execution_count": 22
        }
      ]
    },
    {
      "cell_type": "markdown",
      "source": [
        "### p-hacking"
      ],
      "metadata": {
        "id": "rBgqzi0wGJ7j"
      }
    },
    {
      "cell_type": "code",
      "source": [
        "from collections import Counter\n",
        "Counter([random.random()<0.5 for _ in range(1000)])"
      ],
      "metadata": {
        "colab": {
          "base_uri": "https://localhost:8080/"
        },
        "id": "h61zcKBBf8Kb",
        "outputId": "710b51bd-2e6a-4c43-df82-61f7721d733b"
      },
      "execution_count": 23,
      "outputs": [
        {
          "output_type": "execute_result",
          "data": {
            "text/plain": [
              "Counter({False: 458, True: 542})"
            ]
          },
          "metadata": {},
          "execution_count": 23
        }
      ]
    },
    {
      "cell_type": "code",
      "source": [
        "from typing import List\n",
        "\n",
        "def run_experiment() -> List[bool]:\n",
        "  \"\"\"Flips a fair coin 1000 times, True = heads, False = tails\"\"\"\n",
        "  return [random.random()<0.5 for _ in range(1000)]\n",
        "\n",
        "def reject_fairness(experiment: List[bool]) -> bool:\n",
        "  \"\"\"Using the 5% significance levels\"\"\"\n",
        "  num_heads= len([flip for flip in experiment if flip])\n",
        "  return num_heads < 469 or num_heads > 531"
      ],
      "metadata": {
        "id": "5igGxmzeGDbc"
      },
      "execution_count": 24,
      "outputs": []
    },
    {
      "cell_type": "code",
      "source": [
        "random.seed(0)\n",
        "experiments = [run_experiment() for _ in range(1000)]"
      ],
      "metadata": {
        "id": "masUlAf3iMn0"
      },
      "execution_count": 25,
      "outputs": []
    },
    {
      "cell_type": "code",
      "source": [
        "num_rejections = len([experiment for experiment in experiments if reject_fairness(experiment)])"
      ],
      "metadata": {
        "id": "nvXPzCwBiVFS"
      },
      "execution_count": 26,
      "outputs": []
    },
    {
      "cell_type": "code",
      "source": [
        "assert num_rejections == 46"
      ],
      "metadata": {
        "id": "yzLs7hvMivhR"
      },
      "execution_count": 27,
      "outputs": []
    },
    {
      "cell_type": "markdown",
      "source": [
        "### A/B test\n",
        "\n",
        "> As per the text mentioned:\n",
        "- $N_{A}$: number of people seeing an Ad.\n",
        "- $n_{A}$: number of people clicking on the Ad.\n",
        "- Assume, each ad as a bernoulli trial.\n",
        "- $p_{A}$: probability that someone clicks the ad.\n",
        "- $n_{A}/N_{A}$: normal random variable with mean $p_{A}$ and standard deviation $\\sigma_{A} = \\sqrt{p_{A}(1-p_{A})/N_{A}}$\n",
        "- Similarly for B."
      ],
      "metadata": {
        "id": "O4F2fU7ali_y"
      }
    },
    {
      "cell_type": "code",
      "source": [
        "# in coding terms\n",
        "def estimated_parameters(N: int, n: int) -> Tuple[float, float]:\n",
        "  p = n/N\n",
        "  sigma = math.sqrt(p * (1-p)/N)\n",
        "  return p, sigma"
      ],
      "metadata": {
        "id": "Y4CfhT5ZiyT7"
      },
      "execution_count": 28,
      "outputs": []
    },
    {
      "cell_type": "markdown",
      "source": [
        "Assuming that $n_{A}/N_{A}$ and $n_{B}/N_{B}$ are independent.\n",
        "> Individual bernoulli trials are.\n",
        "\n",
        "Their difference will be (normal) with\n",
        "1. _mean_ : $p_{B}-p_{A}$\n",
        "2. standard deviation: $\\sqrt{\\sigma_{A}^2 + \\sigma_{B}^2}$"
      ],
      "metadata": {
        "id": "yfyXT-h4rt8W"
      }
    },
    {
      "cell_type": "code",
      "source": [
        "# now testing the null hypothesis that pA and pB are same\n",
        "\n",
        "def a_b_test_statistic(N_A: int, n_A: int, N_B: int, n_B: int) -> float:\n",
        "  p_A, sigma_A = estimated_parameters(N_A, n_A)\n",
        "  p_B, sigma_B = estimated_parameters(N_B, n_B)\n",
        "\n",
        "  return (p_B - p_A) / math.sqrt(sigma_A ** 2 + sigma_B ** 2)\n",
        "\n",
        "# assumption: this should be approximately standard normal"
      ],
      "metadata": {
        "id": "rkFPCM4FrqXb"
      },
      "execution_count": 29,
      "outputs": []
    },
    {
      "cell_type": "code",
      "source": [
        "# let's say we got nA = 200 out of 1000\n",
        "# nB = 180 out of 1000\n",
        "\n",
        "z = a_b_test_statistic(1000, 200, 1000, 180)\n",
        "z"
      ],
      "metadata": {
        "colab": {
          "base_uri": "https://localhost:8080/"
        },
        "id": "s6rWC0AZCerr",
        "outputId": "1532902b-6173-44f6-95b8-5a332eb75d3c"
      },
      "execution_count": 30,
      "outputs": [
        {
          "output_type": "execute_result",
          "data": {
            "text/plain": [
              "-1.1403464899034472"
            ]
          },
          "metadata": {},
          "execution_count": 30
        }
      ]
    },
    {
      "cell_type": "code",
      "source": [
        "# probability of seeing such a large difference if the means were actually equal would be\n",
        "two_sided_p_value(z)"
      ],
      "metadata": {
        "colab": {
          "base_uri": "https://localhost:8080/"
        },
        "id": "_auAVYyDkRk-",
        "outputId": "c1e30d74-d5ed-4643-c758-76c6e615d15a"
      },
      "execution_count": 31,
      "outputs": [
        {
          "output_type": "execute_result",
          "data": {
            "text/plain": [
              "0.2541419765422359"
            ]
          },
          "metadata": {},
          "execution_count": 31
        }
      ]
    },
    {
      "cell_type": "markdown",
      "source": [
        "> no conclusion that there is much difference"
      ],
      "metadata": {
        "id": "kzdmWpNGkiFT"
      }
    },
    {
      "cell_type": "code",
      "source": [
        "# assume nB = 150 out of 1000, then\n",
        "z = a_b_test_statistic(1000, 200, 1000, 150)\n",
        "z, two_sided_p_value(z)"
      ],
      "metadata": {
        "colab": {
          "base_uri": "https://localhost:8080/"
        },
        "id": "whlU-he4kcT4",
        "outputId": "0dc1128b-926d-4e63-9c1c-9f79fdb4ff45"
      },
      "execution_count": 32,
      "outputs": [
        {
          "output_type": "execute_result",
          "data": {
            "text/plain": [
              "(-2.948839123097944, 0.003189699706216853)"
            ]
          },
          "metadata": {},
          "execution_count": 32
        }
      ]
    },
    {
      "cell_type": "markdown",
      "source": [
        "> interesting.    \n",
        "It means that there is only 0.003 probability that the difference will be this much if both ads were equally effective."
      ],
      "metadata": {
        "id": "OzdBkiofk1Au"
      }
    },
    {
      "cell_type": "markdown",
      "source": [
        "### Bayesian Inference"
      ],
      "metadata": {
        "id": "JGcGYLu_lCah"
      }
    },
    {
      "cell_type": "markdown",
      "source": [
        "- It is an alternative approach which is about treating the unknown parameters as random variables.\n",
        "- It involves choosing a prior to get an updated value for the posterior probability.\n",
        "\n",
        "\n",
        "# Script Complete"
      ],
      "metadata": {
        "id": "3v7pvHjJrDbg"
      }
    }
  ]
}