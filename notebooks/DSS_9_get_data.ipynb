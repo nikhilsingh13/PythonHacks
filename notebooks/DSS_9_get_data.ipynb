{
 "cells": [
  {
   "cell_type": "markdown",
   "id": "eb90b0eb-5bcb-487f-aa3c-4e9e0fa6afa3",
   "metadata": {},
   "source": [
    "## Reading files\n",
    "### basics of reading"
   ]
  },
  {
   "cell_type": "code",
   "execution_count": 16,
   "id": "176f233a-bcca-4a61-bf1b-785bac784eb5",
   "metadata": {},
   "outputs": [],
   "source": [
    "import re"
   ]
  },
  {
   "cell_type": "code",
   "execution_count": 21,
   "id": "8a1f6339-0752-4077-bc86-be85bd041af8",
   "metadata": {},
   "outputs": [],
   "source": [
    "from collections import Counter"
   ]
  },
  {
   "cell_type": "code",
   "execution_count": 24,
   "id": "2cd21bcc-9bc0-49e3-b59e-7f9901f77ca6",
   "metadata": {},
   "outputs": [],
   "source": [
    "import csv"
   ]
  },
  {
   "cell_type": "code",
   "execution_count": 3,
   "id": "7d79c504-7fa1-4ef8-b87d-af58d94f6a76",
   "metadata": {},
   "outputs": [],
   "source": [
    "# r -  read-only, default is 'r'\n",
    "file_for_reading = open('../random-text.txt', 'r')\n",
    "file_for_reading2 = open('../random-text.txt')"
   ]
  },
  {
   "cell_type": "code",
   "execution_count": 5,
   "id": "53f240bd-bc6b-452a-a74a-49de917c39fd",
   "metadata": {},
   "outputs": [],
   "source": [
    "# w - writing, file will be destroyed if it exists already\n",
    "file_for_writing = open('../random-write-text.txt','w') # there is no such file, so will be created"
   ]
  },
  {
   "cell_type": "code",
   "execution_count": 6,
   "id": "19ca0780-85df-4e6d-aaad-2b3af4c5dab0",
   "metadata": {},
   "outputs": [],
   "source": [
    "# a - append, adding to the end of the file\n",
    "file_for_appending = open('../random-append-text.txt', 'a') # file will be created but will not be converted to blank."
   ]
  },
  {
   "cell_type": "code",
   "execution_count": 11,
   "id": "ff69e16e-6023-48ba-bb71-8a6f5e9a3ff2",
   "metadata": {},
   "outputs": [],
   "source": [
    "# closing the file, always close the opened file\n",
    "file_for_reading.close()\n",
    "file_for_reading2.close()\n",
    "file_for_writing.close()\n",
    "file_for_appending.close()"
   ]
  },
  {
   "cell_type": "markdown",
   "id": "ad23505b-6fc5-4bcb-b741-1e57e2534a13",
   "metadata": {},
   "source": [
    "> Because opening and closing are two tasks, many times one forgets whether all files are closed or not. You’ll see the codes written in this manner."
   ]
  },
  {
   "cell_type": "code",
   "execution_count": 14,
   "id": "20f4996a-a785-45f8-bbe2-1eea1f20312d",
   "metadata": {},
   "outputs": [],
   "source": [
    "def process(file):\n",
    "    # Function does nothing except print a message\n",
    "    print(\"Processing complete. Did nothing\")"
   ]
  },
  {
   "cell_type": "code",
   "execution_count": 15,
   "id": "ee949bd3-47c0-448f-8f80-ce47b53305fa",
   "metadata": {},
   "outputs": [
    {
     "name": "stdout",
     "output_type": "stream",
     "text": [
      "Processing complete. Did nothing\n"
     ]
    }
   ],
   "source": [
    "filename = '../random-text.txt'\n",
    "with open(filename) as f:\n",
    "    text = process(f)"
   ]
  },
  {
   "cell_type": "code",
   "execution_count": 17,
   "id": "3bc092fa-8fd0-4a13-ae9a-b9ef583eac88",
   "metadata": {},
   "outputs": [],
   "source": [
    "# read a whole text file\n",
    "\n",
    "starts_with_hash = 0\n",
    "with open('../random-text.txt') as f:\n",
    "    for line in f:                       # look at each line in the file\n",
    "        if re.match(\"^#\", line):         # use a regex to see if it starts with #\n",
    "            starts_with_hash += 1        # if it does, add 1 to the count"
   ]
  },
  {
   "cell_type": "markdown",
   "id": "21220027-bb39-4e69-8ea1-0cebe889b859",
   "metadata": {},
   "source": [
    "------\n",
    "\n",
    "Public Suffix list - https://www.publicsuffix.org\n",
    "\n",
    "-----\n",
    "**Update**: https://pypi.org/project/publicsuffixlist/"
   ]
  },
  {
   "cell_type": "code",
   "execution_count": 19,
   "id": "14900bd5-b281-44cd-beda-287f2764e61f",
   "metadata": {},
   "outputs": [],
   "source": [
    "def get_domain(email_address: str) -> str:\n",
    "    \"\"\"Split on '@' and return the last piece\"\"\"\n",
    "    return email_address.lower().split(\"@\")[-1]"
   ]
  },
  {
   "cell_type": "code",
   "execution_count": 20,
   "id": "195296e1-7f07-4b02-b421-86de26cf3f31",
   "metadata": {},
   "outputs": [],
   "source": [
    "# tests\n",
    "assert get_domain('nikhilsingh@gmail.com') == 'gmail.com'\n",
    "assert get_domain('nikhils@a.machinelearning.com') == 'a.machinelearning.com'"
   ]
  },
  {
   "cell_type": "code",
   "execution_count": 23,
   "id": "17911b76-f082-4a0b-bba0-aaa1817b693b",
   "metadata": {},
   "outputs": [],
   "source": [
    "def get_email_addrs(email_addr_file_path):\n",
    "    with open(email_addr_file_path) as f:\n",
    "        domain_counts = Counter(get_domain(line.strip())\n",
    "                               for line in f)\n"
   ]
  },
  {
   "cell_type": "markdown",
   "id": "1b48c904-e519-45a9-bfc1-6483a86e0573",
   "metadata": {},
   "source": [
    "## Delimited files"
   ]
  },
  {
   "cell_type": "markdown",
   "id": "05ae90c6-9584-4c60-a31d-4bfe7d055a27",
   "metadata": {},
   "source": [
    "#### word of advice:\n",
    "> Never parse a csv file yourself, you'll screw up the edge cases."
   ]
  },
  {
   "cell_type": "code",
   "execution_count": 55,
   "id": "e4db4a5f-dbca-4b63-9b03-1a44094de99a",
   "metadata": {},
   "outputs": [],
   "source": [
    "import csv\n",
    "\n",
    "filename = '../dummy_stocks_data.txt'\n",
    "\n",
    "# Manually specify the field names if the automatic detection is failing\n",
    "fieldnames = ['Company Name', 'Day-1', 'Day-2', 'Day-3', 'Day-4', 'Day-5']\n",
    "\n"
   ]
  },
  {
   "cell_type": "code",
   "execution_count": 59,
   "id": "1596f5f5-d029-49d6-ab41-6b88183a6a29",
   "metadata": {},
   "outputs": [
    {
     "name": "stdout",
     "output_type": "stream",
     "text": [
      "{'Company Name': 'SUDITI INDUSTRIES  120.946 122.13 123.32 124.11 125.95', 'Day-1': None, 'Day-2': None, 'Day-3': None, 'Day-4': None, 'Day-5': None}\n",
      "{'Company Name': 'HB PORTFOLIO       113.98  114.55 115.20 116.45 117.30', 'Day-1': None, 'Day-2': None, 'Day-3': None, 'Day-4': None, 'Day-5': None}\n",
      "{'Company Name': 'CHETANA EDUCATION  100.90  101.35 101.85 102.50 103.15', 'Day-1': None, 'Day-2': None, 'Day-3': None, 'Day-4': None, 'Day-5': None}\n",
      "{'Company Name': 'ENERGY MISSION     429.50  430.25 431.75 433.00 434.55', 'Day-1': None, 'Day-2': None, 'Day-3': None, 'Day-4': None, 'Day-5': None}\n",
      "{'Company Name': 'INVESTMENT & PREC  1029.45 1031.00 1032.50 1034.00 1035.50', 'Day-1': None, 'Day-2': None, 'Day-3': None, 'Day-4': None, 'Day-5': None}\n"
     ]
    }
   ],
   "source": [
    "with open(filename, 'r') as f:\n",
    "    tab_reader = csv.DictReader(f, delimiter='\\t', fieldnames=fieldnames)\n",
    "    next(tab_reader) # to avoid header\n",
    "    for dict_row in tab_reader:\n",
    "\n",
    "        ### uncomment for parsing\n",
    "        \n",
    "        # institution = dict_row[\"Company Name\"]\n",
    "        # day1_price = dict_row[\"Day-1\"]\n",
    "        # day2_price = dict_row[\"Day-2\"]\n",
    "        # day3_price = dict_row[\"Day-3\"]\n",
    "        # day4_price = dict_row[\"Day-4\"]\n",
    "        # day5_price = dict_row[\"Day-5\"]\n",
    "\n",
    "        \n",
    "        print(dict_row)"
   ]
  },
  {
   "cell_type": "markdown",
   "id": "8c1146f3-4a2b-4f44-8aa7-fbabae537195",
   "metadata": {},
   "source": [
    "## Scraping the web\n",
    "### HTML and the Parsing\n",
    "\n",
    "> https://www.crummy.com/software/BeautifulSoup/bs4/doc/#    \n",
    "> Version 4.12.0"
   ]
  },
  {
   "cell_type": "code",
   "execution_count": 65,
   "id": "06edfa26-432b-4fdd-8292-986b257e7104",
   "metadata": {},
   "outputs": [],
   "source": [
    "from bs4 import BeautifulSoup\n",
    "import requests"
   ]
  },
  {
   "cell_type": "code",
   "execution_count": 67,
   "id": "53d4f071-36ef-468e-93a3-3427080f6023",
   "metadata": {},
   "outputs": [],
   "source": [
    "url = (\"https://raw.githubusercontent.com/\"\n",
    "      \"joelgrus/data/master/getting-data.html\")\n",
    "\n",
    "html = requests.get(url).text\n",
    "soup = BeautifulSoup(html, 'html.parser')"
   ]
  },
  {
   "cell_type": "code",
   "execution_count": 70,
   "id": "0cfc42cf-d1fc-4673-9b8b-f3ef202aa16f",
   "metadata": {},
   "outputs": [
    {
     "data": {
      "text/plain": [
       "<p id=\"p1\">This is the first paragraph.</p>"
      ]
     },
     "execution_count": 70,
     "metadata": {},
     "output_type": "execute_result"
    }
   ],
   "source": [
    "first_para = soup.find('p')\n",
    "first_para"
   ]
  },
  {
   "cell_type": "code",
   "execution_count": 71,
   "id": "d320d724-6570-4328-ada7-1126f04fe413",
   "metadata": {},
   "outputs": [
    {
     "data": {
      "text/plain": [
       "('This is the first paragraph.', ['This', 'is', 'the', 'first', 'paragraph.'])"
      ]
     },
     "execution_count": 71,
     "metadata": {},
     "output_type": "execute_result"
    }
   ],
   "source": [
    "first_para_text = soup.p.text\n",
    "first_para_words = soup.p.text.split()\n",
    "\n",
    "first_para_text, first_para_words"
   ]
  },
  {
   "cell_type": "code",
   "execution_count": 73,
   "id": "bb562fe9-7a4a-423f-9d01-b34bdbae39dd",
   "metadata": {},
   "outputs": [
    {
     "data": {
      "text/plain": [
       "('p1', 'p1')"
      ]
     },
     "execution_count": 73,
     "metadata": {},
     "output_type": "execute_result"
    }
   ],
   "source": [
    "first_para_id = soup.p['id']       # KeyError if no id\n",
    "first_para_id2 = soup.p.get('id')  # returns None of no 'id' # safer option\n",
    "\n",
    "first_para_id, first_para_id2"
   ]
  },
  {
   "cell_type": "code",
   "execution_count": 77,
   "id": "5b393d09-eb32-4d9d-ba42-8cc0dae57720",
   "metadata": {},
   "outputs": [
    {
     "name": "stdout",
     "output_type": "stream",
     "text": [
      "[<p id=\"p1\">This is the first paragraph.</p>, <p class=\"important\">This is the second paragraph.</p>]\n",
      "\n",
      "---\n",
      "[<p id=\"p1\">This is the first paragraph.</p>]\n"
     ]
    }
   ],
   "source": [
    "# multiple tags\n",
    "\n",
    "all_paras = soup.find_all('p')\n",
    "paras_with_ids = [p for p in soup('p') if p.get('id')]\n",
    "\n",
    "print(all_paras)\n",
    "print('\\n---')\n",
    "print(paras_with_ids)"
   ]
  },
  {
   "cell_type": "code",
   "execution_count": 78,
   "id": "6179d433-b230-4ca0-9f60-a426b512fbfb",
   "metadata": {},
   "outputs": [
    {
     "data": {
      "text/plain": [
       "([<p class=\"important\">This is the second paragraph.</p>],\n",
       " [<p class=\"important\">This is the second paragraph.</p>],\n",
       " [<p class=\"important\">This is the second paragraph.</p>])"
      ]
     },
     "execution_count": 78,
     "metadata": {},
     "output_type": "execute_result"
    }
   ],
   "source": [
    "important_paras = soup('p', {'class': 'important'})\n",
    "important_paras2 = soup('p', 'important')\n",
    "important_paras3 = [p for p in soup('p') \n",
    "                    if 'important' in p.get('class', [])]\n",
    "\n",
    "important_paras, important_paras2, important_paras3"
   ]
  },
  {
   "cell_type": "code",
   "execution_count": 80,
   "id": "62918cf3-fcd6-4928-8124-3a2d877d4e75",
   "metadata": {},
   "outputs": [
    {
     "data": {
      "text/plain": [
       "[<span id=\"name\">Joel</span>,\n",
       " <span id=\"twitter\">@joelgrus</span>,\n",
       " <span id=\"email\">joelgrus-at-gmail</span>]"
      ]
     },
     "execution_count": 80,
     "metadata": {},
     "output_type": "execute_result"
    }
   ],
   "source": [
    "# a more elaborative logic example\n",
    "\n",
    "spans_inside_divs = [span\n",
    "                    for div in soup('div')\n",
    "                    for span in div('span')]\n",
    "\n",
    "spans_inside_divs"
   ]
  },
  {
   "cell_type": "markdown",
   "id": "bd922769-7225-4233-9e79-c016005c1982",
   "metadata": {},
   "source": [
    "--------------\n",
    "## Example: Keeping tabs on congress (as per the book)\n",
    "\n",
    "https://www.house.gov/representatives"
   ]
  },
  {
   "cell_type": "code",
   "execution_count": 81,
   "id": "64bd6236-95c8-4b84-8df4-3372f8d2c186",
   "metadata": {},
   "outputs": [],
   "source": [
    "from bs4 import BeautifulSoup\n",
    "import requests"
   ]
  },
  {
   "cell_type": "code",
   "execution_count": 83,
   "id": "49c46f2c-637e-4ce3-8587-e5a806459216",
   "metadata": {},
   "outputs": [],
   "source": [
    "url = \"https://www.house.gov/representatives\"\n",
    "text = requests.get(url).text\n",
    "soup = BeautifulSoup(text, \"html.parser\")"
   ]
  },
  {
   "cell_type": "code",
   "execution_count": 85,
   "id": "b23f2d7b-a508-489b-8cd1-ecaa8a415b10",
   "metadata": {},
   "outputs": [
    {
     "name": "stdout",
     "output_type": "stream",
     "text": [
      "967\n"
     ]
    }
   ],
   "source": [
    "all_urls = [a['href']\n",
    "            for a in soup('a')\n",
    "            if a.has_attr('href')]\n",
    "\n",
    "print(len(all_urls))"
   ]
  },
  {
   "cell_type": "code",
   "execution_count": 89,
   "id": "c44d0637-a651-4f73-938a-54e3937c58a4",
   "metadata": {},
   "outputs": [],
   "source": [
    "import re\n",
    "\n",
    "regex = r\"^https?://.*\\.house\\.gov/?$\""
   ]
  },
  {
   "cell_type": "code",
   "execution_count": 90,
   "id": "8ace7582-7c65-4ae0-b604-85cbb7ba52ef",
   "metadata": {},
   "outputs": [],
   "source": [
    "assert re.match(regex, \"http://nikhil.house.gov\")\n",
    "assert re.match(regex, \"https://nikhil.house.gov\")\n",
    "assert re.match(regex, \"http://nikhil.house.gov/\")\n",
    "assert re.match(regex, \"https://nikhil.house.gov/\")\n",
    "\n",
    "assert not re.match(regex, \"joel.house.gov\")\n",
    "assert not re.match(regex, \"http://joel.house.com\")\n",
    "assert not re.match(regex, \"https://joel.house.com/biography\")"
   ]
  },
  {
   "cell_type": "code",
   "execution_count": 91,
   "id": "1e3bf4bd-6c94-459d-ba3a-4c3e44afceb4",
   "metadata": {},
   "outputs": [
    {
     "name": "stdout",
     "output_type": "stream",
     "text": [
      "872\n"
     ]
    }
   ],
   "source": [
    "good_urls = [url for url in all_urls if re.match(regex, url)]\n",
    "\n",
    "print(len(good_urls))"
   ]
  },
  {
   "cell_type": "code",
   "execution_count": 92,
   "id": "58b82c33-d372-4b5f-bb9d-e2e18cae6e35",
   "metadata": {},
   "outputs": [
    {
     "name": "stdout",
     "output_type": "stream",
     "text": [
      "436\n"
     ]
    }
   ],
   "source": [
    "good_urls = list(set(good_urls))\n",
    "\n",
    "print(len(good_urls))"
   ]
  },
  {
   "cell_type": "code",
   "execution_count": 94,
   "id": "88f64d6d-53a8-4a6e-9ced-8afa77264552",
   "metadata": {},
   "outputs": [],
   "source": [
    "html = requests.get('https://jayapal.house.gov').text\n",
    "soup = BeautifulSoup(html, 'html.parser')"
   ]
  },
  {
   "cell_type": "code",
   "execution_count": 95,
   "id": "b337999f-e78e-49dd-acb9-5eae5602fcfb",
   "metadata": {},
   "outputs": [
    {
     "name": "stdout",
     "output_type": "stream",
     "text": [
      "{'https://jayapal.house.gov/category/news/', 'https://jayapal.house.gov/category/press-releases/'}\n"
     ]
    }
   ],
   "source": [
    "# the usage of set is advised because the links might appear multiple times\n",
    "\n",
    "links = {a['href'] for a in soup('a') if 'press releases' in a.text.lower()}\n",
    "\n",
    "print(links)"
   ]
  },
  {
   "cell_type": "code",
   "execution_count": 96,
   "id": "348bc88a-c5d0-47a5-a6e6-c4818313c4f0",
   "metadata": {},
   "outputs": [
    {
     "name": "stdout",
     "output_type": "stream",
     "text": [
      "https://gaetz.house.gov: {'/media/press-releases'}\n",
      "https://adriansmith.house.gov/: {'/media/press-releases'}\n",
      "https://cammack.house.gov: {'/media/press-releases'}\n",
      "https://meuser.house.gov: {'/media/press-releases'}\n",
      "https://meng.house.gov: {'/media-center/press-releases'}\n",
      "https://smucker.house.gov/: {'/media/press-releases'}\n",
      "https://guest.house.gov: {'/media/press-releases'}\n",
      "https://bice.house.gov: {'/media/press-releases'}\n",
      "https://kim.house.gov/: {'/media/press-releases'}\n",
      "https://owens.house.gov: set()\n",
      "https://fischbach.house.gov: {'/press-releases'}\n",
      "https://frankel.house.gov: {'/news/documentquery.aspx?DocumentTypeID=27'}\n",
      "https://loudermilk.house.gov: {'/news/documentquery.aspx?DocumentTypeID=27'}\n",
      "https://gwenmoore.house.gov: {'/news/documentquery.aspx?DocumentTypeID=27'}\n",
      "https://ruppersberger.house.gov: {'/news-room/press-releases'}\n",
      "https://feenstra.house.gov: {'/media/press-releases', '/node/1119'}\n",
      "https://grijalva.house.gov/: set()\n",
      "https://foster.house.gov: {'/media/press-releases'}\n",
      "https://fallon.house.gov: {'/news/documentquery.aspx?DocumentTypeID=27'}\n",
      "https://nehls.house.gov: {'/media/press-releases'}\n",
      "https://desposito.house.gov: {'/media/press-releases'}\n",
      "https://kilmer.house.gov: {'https://kilmer.house.gov/news/press-releases'}\n",
      "https://morelle.house.gov: {'/media/press-releases', '/media'}\n",
      "https://clarke.house.gov/: {'https://clarke.house.gov/category/pr/'}\n",
      "https://kustoff.house.gov: {'/media/press-releases'}\n",
      "https://cline.house.gov: {'/news/documentquery.aspx?DocumentTypeID=27'}\n",
      "https://clyde.house.gov: {'/news/documentquery.aspx?DocumentTypeID=27'}\n",
      "https://moolenaar.house.gov/: {'/media-center/press-releases'}\n",
      "https://costa.house.gov/: {'/media/press-releases'}\n",
      "https://bergman.house.gov: {'/news/documentquery.aspx?DocumentTypeID=27'}\n",
      "https://thanedar.house.gov: {'https://thanedar.house.gov/media/press-releases'}\n",
      "https://gooden.house.gov: {'/press-releases'}\n",
      "https://pappas.house.gov: {'/media/press-releases'}\n",
      "https://franklin.house.gov: {'/press-releases'}\n",
      "https://salinas.house.gov: {'/media/press-releases'}\n",
      "https://steil.house.gov: {'/media/press-releases'}\n",
      "https://trentkelly.house.gov/: {'/news/documentquery.aspx?DocumentTypeID=27'}\n",
      "https://aguilar.house.gov/: {'https://aguilar.house.gov/category/congress_press_release/'}\n",
      "https://lamalfa.house.gov: {'/media-center/press-releases'}\n",
      "https://stefanik.house.gov/: {'/press-releases'}\n",
      "https://neguse.house.gov/: {'/media/press-releases'}\n",
      "https://mcbath.house.gov: {'/press-releases'}\n",
      "https://mikegarcia.house.gov/: set()\n",
      "https://rulli.house.gov: {'/media/press-releases'}\n",
      "https://gottheimer.house.gov: set()\n",
      "https://foushee.house.gov: {'https://foushee.house.gov/media/press-releases'}\n",
      "https://carbajal.house.gov: {'/news/documentquery.aspx?DocumentTypeID=27'}\n",
      "https://cohen.house.gov/: {'/media-center/press-releases'}\n",
      "https://weber.house.gov: {'/news/documentquery.aspx?DocumentTypeID=27'}\n",
      "https://lofgren.house.gov/: {'/media/press-releases'}\n",
      "https://flood.house.gov/: {'/media/press-releases'}\n",
      "https://lesko.house.gov: {'/press-releases'}\n",
      "https://slotkin.house.gov/: {'/media/press-releases'}\n",
      "https://boebert.house.gov: {'/media/press-releases'}\n",
      "https://joyce.house.gov: set()\n",
      "https://good.house.gov: {'/media/press-releases'}\n",
      "https://bonamici.house.gov: {'/media/press-releases'}\n",
      "https://curtis.house.gov/: {'/news/documentquery.aspx?DocumentTypeID=27'}\n",
      "https://duarte.house.gov: {'/news/documentquery.aspx?DocumentTypeID=27'}\n",
      "https://emmer.house.gov/: {'/press-releases'}\n",
      "https://mace.house.gov: {'/media/press-releases'}\n",
      "https://letlow.house.gov: set()\n",
      "https://strong.house.gov: {'/media/press-releases'}\n",
      "https://pressley.house.gov: {'https://pressley.house.gov/category/press-releases/'}\n",
      "https://bowman.house.gov: {'/media/press-releases'}\n",
      "https://juliabrownley.house.gov: {'https://juliabrownley.house.gov/category/press-releases/'}\n",
      "https://casten.house.gov: {'https://casten.house.gov/media/press-releases'}\n",
      "https://ivey.house.gov: {'/media/press-releases'}\n",
      "https://patryan.house.gov/: {'/media/press-releases'}\n",
      "https://scottpeters.house.gov: {'/press-releases'}\n",
      "https://keating.house.gov/: set()\n",
      "https://bera.house.gov: {'/news/documentquery.aspx?DocumentTypeID=2402'}\n",
      "https://case.house.gov/: {'/news/documentquery.aspx?DocumentTypeID=27', '/news/documentsingle.aspx?DocumentID=3418'}\n",
      "https://mills.house.gov: {'/media/press-releases'}\n",
      "https://lahood.house.gov/: {'/press-releases'}\n",
      "https://keithself.house.gov: {'/media/press-releases'}\n",
      "https://reschenthaler.house.gov/: set()\n",
      "https://huffman.house.gov: {'https://huffman.house.gov/media-center/press-releases'}\n",
      "https://tonko.house.gov/: {'/news/documentquery.aspx?DocumentTypeID=27'}\n",
      "https://palmer.house.gov/: {'/media-center/press-releases'}\n",
      "https://fulcher.house.gov/: {'/press-releases'}\n",
      "https://omar.house.gov/: {'/media/press-releases'}\n",
      "https://thompson.house.gov: {'/media-center/press-releases'}\n",
      "https://nikemawilliams.house.gov: set()\n",
      "https://james.house.gov: {'/news/documentquery.aspx?DocumentTypeID=27'}\n",
      "https://sablan.house.gov/: {'/media-center/press-releases'}\n",
      "https://brandonwilliams.house.gov: {'/news/documentquery.aspx?DocumentTypeID=27'}\n",
      "https://timmons.house.gov/: {'/news/documentquery.aspx?DocumentTypeID=27'}\n",
      "https://degette.house.gov: {'/newsroom/press-releases'}\n",
      "https://ezell.house.gov: {'/news/documentquery.aspx?DocumentTypeID=27'}\n",
      "https://ellzey.house.gov/: {'/press-releases'}\n",
      "https://lynch.house.gov/: {'/press-releases'}\n",
      "https://cartwright.house.gov: {'/news/documentquery.aspx?DocumentTypeID=2442'}\n",
      "https://langworthy.house.gov: {'/media/press-releases'}\n",
      "https://moskowitz.house.gov: set()\n",
      "https://stansbury.house.gov/: {'/media/press-releases'}\n",
      "https://burchett.house.gov: {'/media/press-releases'}\n",
      "https://hinson.house.gov: {'/media/press-releases'}\n",
      "https://underwood.house.gov/: {'/media/press-releases'}\n",
      "https://blakemoore.house.gov: {'https://blakemoore.house.gov/media/press-releases'}\n",
      "https://watsoncoleman.house.gov/: {'https://watsoncoleman.house.gov/newsroom/press-releases'}\n",
      "https://barrymoore.house.gov: {'/media/press-releases'}\n",
      "https://crenshaw.house.gov/: {'/press-releases'}\n",
      "https://houchin.house.gov: {'/media/press-releases'}\n",
      "https://pfluger.house.gov: {'/news/documentquery.aspx?DocumentTypeID=27'}\n",
      "https://tlaib.house.gov/: set()\n",
      "https://manning.house.gov: {'/media/press-releases'}\n",
      "https://buddycarter.house.gov/: {'/news/documentquery.aspx?DocumentTypeID=27'}\n",
      "https://lee.house.gov/: set()\n",
      "https://matsui.house.gov: {'/media/press-releases'}\n",
      "https://norcross.house.gov: {'/press-releases'}\n",
      "https://moran.house.gov: {'/news/documentquery.aspx?DocumentTypeID=27'}\n",
      "https://wagner.house.gov: {'/media-center/press-releases'}\n",
      "https://casar.house.gov: set()\n",
      "https://kaptur.house.gov/: {'/media-center/press-releases'}\n",
      "https://biggs.house.gov: {'/media/press-releases'}\n",
      "https://summerlee.house.gov: set()\n",
      "https://vanduyne.house.gov: {'/press-releases'}\n",
      "https://harris.house.gov/: {'/media/press-releases'}\n",
      "https://westerman.house.gov/: {'/media-center/press-releases'}\n",
      "https://menendez.house.gov: {'/media/press-releases'}\n",
      "https://jeffduncan.house.gov/: {'/media/press-releases'}\n",
      "https://doggett.house.gov: {'/media/press-releases'}\n",
      "https://scalise.house.gov/: {'/media/press-releases'}\n",
      "https://graves.house.gov/: {'/media/press-releases'}\n",
      "https://scanlon.house.gov/: {'https://scanlon.house.gov/news/documentquery.aspx?DocumentTypeID=27'}\n",
      "https://kaygranger.house.gov: {'/press-releases'}\n",
      "https://mikejohnson.house.gov: {'/news/documentquery.aspx?DocumentTypeID=27', '/news/documentsingle.aspx?DocumentID=1409', '/news/documentsingle.aspx?DocumentID=1416', '/news/documentquery.aspx?DocumentTypeID=1951'}\n",
      "https://craig.house.gov: {'/media/press-releases'}\n",
      "https://bobbyscott.house.gov: {'/media-center/press-releases'}\n",
      "https://nunn.house.gov: set()\n",
      "https://horsford.house.gov: {'/media/press-releases'}\n",
      "https://maloy.house.gov: {'/news/documentquery.aspx?DocumentTypeID=27'}\n",
      "https://scholten.house.gov: {'/media/press-releases'}\n",
      "https://benniethompson.house.gov/: {'/media/press-releases'}\n",
      "https://nadler.house.gov: {'/news/documentquery.aspx?DocumentTypeID=1753'}\n",
      "https://morgangriffith.house.gov/: {'/News/DocumentQuery.aspx?DocumentTypeID=2235'}\n",
      "https://houlahan.house.gov/: set()\n",
      "https://bluntrochester.house.gov: set()\n",
      "https://pallone.house.gov: {'/media/press-releases'}\n",
      "https://ruiz.house.gov: {'/media-center/press-releases'}\n",
      "https://murphy.house.gov: {'/media/press-releases'}\n",
      "https://massie.house.gov: {'/news/documentquery.aspx?DocumentTypeID=2362'}\n",
      "https://sykes.house.gov: {'/media/press-releases'}\n",
      "https://mcclellan.house.gov/: {'/media/press-releases'}\n",
      "https://latta.house.gov/: {'/News/DocumentQuery.aspx?DocumentTypeID=1456'}\n",
      "https://pence.house.gov/: {'/media/press-releases'}\n",
      "https://chrissmith.house.gov/: set()\n",
      "https://rutherford.house.gov: {'/media/press-releases'}\n",
      "https://mooney.house.gov/: {'/news/#press'}\n",
      "https://desjarlais.house.gov/: set()\n",
      "https://youngkim.house.gov: {'https://youngkim.house.gov/media/press-releases/', 'https://youngkim.house.gov/media/press-sign-up/'}\n",
      "https://molinaro.house.gov: {'/news/documentquery.aspx?DocumentTypeID=27'}\n",
      "https://magaziner.house.gov: {'/media/press-releases'}\n",
      "https://burgess.house.gov/: {'/News/DocumentQuery.aspx?DocumentTypeID=75'}\n",
      "https://jonathanjackson.house.gov: {'/media/press-releases'}\n",
      "https://salazar.house.gov: {'/media/press-releases'}\n",
      "https://mcclintock.house.gov/: {'/newsroom/press-releases'}\n",
      "https://wexton.house.gov/: {'/news/documentquery.aspx?DocumentTypeID=27'}\n",
      "https://davidson.house.gov/: {'/press-releases'}\n",
      "https://cuellar.house.gov/: {'/News/DocumentQuery.aspx?DocumentTypeID=1232'}\n",
      "https://lieu.house.gov/: {'/media-center/press-releases'}\n",
      "https://larsen.house.gov: {'/news/documentquery.aspx?DocumentTypeID=27'}\n",
      "https://dustyjohnson.house.gov/: {'/media/press-releases'}\n",
      "https://steel.house.gov: {'/media/press-releases'}\n",
      "https://cherfilus-mccormick.house.gov/: {'/media/press-releases'}\n",
      "https://gluesenkampperez.house.gov: set()\n",
      "https://jeffries.house.gov: {'https://jeffries.house.gov/category/press-release/'}\n",
      "https://gomez.house.gov/: {'/news/documentquery.aspx?DocumentTypeID=27'}\n",
      "https://caraveo.house.gov: {'/media/press-releases'}\n",
      "https://cloud.house.gov: set()\n",
      "https://valadao.house.gov: {'/news/documentquery.aspx?DocumentTypeID=27'}\n",
      "https://budzinski.house.gov: set()\n",
      "https://mcmorris.house.gov/: set()\n",
      "https://wassermanschultz.house.gov/: {'/news/documentquery.aspx?DocumentTypeID=27'}\n",
      "https://algreen.house.gov: {'/media/press-releases'}\n",
      "https://davis.house.gov: set()\n",
      "https://millermeeks.house.gov/: {'/media/press-releases'}\n",
      "https://chavez-deremer.house.gov: {'/media/press-releases'}\n",
      "https://debbiedingell.house.gov/: {'/news/documentquery.aspx?DocumentTypeID=27', '/news/'}\n",
      "https://quigley.house.gov/: {'/media-center/press-releases'}\n",
      "https://crawford.house.gov/: set()\n",
      "https://issa.house.gov: {'/media/press-releases'}\n",
      "https://levin.house.gov/: {'https://levin.house.gov/media/press-releases'}\n",
      "https://amodei.house.gov: set()\n",
      "https://amo.house.gov: {'/press-releases'}\n",
      "https://hoyer.house.gov/: set()\n",
      "https://ramirez.house.gov: {'/media/press-releases'}\n",
      "https://hern.house.gov: {'/news/documentquery.aspx?DocumentTypeID=27'}\n",
      "https://steube.house.gov/: {'https://steube.house.gov/category/press-releases/'}\n",
      "https://bost.house.gov/: {'/press-releases'}\n",
      "https://turner.house.gov/: {'/press-releases'}\n",
      "https://evans.house.gov/: {'/media/press-releases'}\n",
      "https://pettersen.house.gov: {'/news/documentquery.aspx?DocumentTypeID=27'}\n",
      "https://norton.house.gov/: {'/media/press-releases'}\n",
      "https://nickel.house.gov: {'/news/documentquery.aspx?DocumentTypeID=27'}\n",
      "https://armstrong.house.gov: {'/media/press-releases'}\n",
      "https://mrvan.house.gov: {'/media/press-releases'}\n",
      "https://womack.house.gov/: {'/News/DocumentQuery.aspx?DocumentTypeID=2067', '/news/documentquery.aspx?DocumentTypeID=2067'}\n",
      "https://edwards.house.gov: {'/media/press-releases'}\n",
      "https://balderson.house.gov: {'/news/documentquery.aspx?DocumentTypeID=27'}\n",
      "https://auchincloss.house.gov: {'https://auchincloss.house.gov/media/press-releases'}\n",
      "https://clyburn.house.gov/: {'https://clyburn.house.gov/press-releases/'}\n",
      "https://spartz.house.gov: {'/media/press-releases'}\n",
      "https://yakym.house.gov: set()\n",
      "https://ferguson.house.gov: {'/news/documentquery.aspx?DocumentTypeID=27'}\n",
      "https://bean.house.gov: {'/media/press-releases'}\n",
      "https://neal.house.gov/: {'/news/documentquery.aspx?DocumentTypeID=27'}\n",
      "https://vandrew.house.gov: {'/news/documentquery.aspx?DocumentTypeID=27'}\n",
      "https://fry.house.gov: {'/news/documentquery.aspx?DocumentTypeID=27'}\n",
      "https://stevens.house.gov/: {'/media/press-releases'}\n",
      "https://gosar.house.gov/: {'/news/documentquery.aspx?DocumentTypeID=27'}\n",
      "https://radewagen.house.gov: {'/media/press-releases'}\n",
      "https://hoyle.house.gov: {'https://hoyle.house.gov/media/press-releases'}\n",
      "https://stanton.house.gov/: {'/press-releases'}\n",
      "https://mchenry.house.gov: {'/news/documentquery.aspx?DocumentTypeID=418'}\n",
      "https://sewell.house.gov/: {'/press-releases'}\n",
      "https://mcgarvey.house.gov: {'https://mcgarvey.house.gov/media/press-releases'}\n",
      "https://dunn.house.gov: {'/press-releases'}\n",
      "https://mccollum.house.gov: {'/media/press-releases'}\n",
      "https://williams.house.gov: {'/media-center/press-releases'}\n",
      "https://harder.house.gov/: {'/media/press-releases'}\n",
      "https://webster.house.gov/: {'/press-releases'}\n",
      "https://kuster.house.gov: {'/news/documentquery.aspx?DocumentTypeID=27'}\n",
      "https://pocan.house.gov: {'/media-center/press-releases'}\n",
      "https://tiffany.house.gov/: {'/media/press-releases'}\n",
      "https://frost.house.gov: {'https://frost.house.gov/media/press-releases'}\n",
      "https://krishnamoorthi.house.gov: {'/media/press-releases'}\n",
      "https://schiff.house.gov/: {'https://schiff.house.gov/news/press-releases'}\n",
      "https://garamendi.house.gov/: {'/media/press-releases'}\n",
      "https://hageman.house.gov: {'/media/press-releases'}\n",
      "https://swalwell.house.gov: set()\n",
      "https://courtney.house.gov/: {'/media-center/press-releases'}\n",
      "https://rouzer.house.gov/: {'/news/documentquery.aspx?DocumentTypeID=27'}\n",
      "https://mccormick.house.gov: {'/media/press-releases'}\n",
      "https://crow.house.gov/: {'/media/press-releases'}\n",
      "https://cleaver.house.gov: {'/media-center/press-releases'}\n",
      "https://norman.house.gov: {'/news/documentquery.aspx?DocumentTypeID=27'}\n",
      "https://clayhiggins.house.gov: set()\n",
      "https://foxx.house.gov/: {'/news/documentquery.aspx?DocumentTypeID=2367'}\n",
      "https://mariodiazbalart.house.gov/: {'/media-center/press-releases'}\n",
      "https://huizenga.house.gov/: {'/News/DocumentQuery.aspx?DocumentTypeID=2041'}\n",
      "https://fernandez.house.gov: {'/media/press-releases'}\n",
      "https://schrier.house.gov: {'/media/press-releases'}\n",
      "https://landsman.house.gov: set()\n",
      "https://hankjohnson.house.gov/: {'/media-center/press-releases'}\n",
      "https://fitzgerald.house.gov: {'/media/press-releases'}\n",
      "https://desaulnier.house.gov/: {'/media-center/press-releases'}\n",
      "https://maxmiller.house.gov: set()\n",
      "https://mann.house.gov: {'/media/press-releases'}\n",
      "https://susielee.house.gov: {'/media/press-releases'}\n",
      "https://johnjoyce.house.gov/: {'/media/press-releases'}\n",
      "https://kamlager-dove.house.gov: {'/media/press-releases'}\n",
      "https://gonzales.house.gov: {'/press-releases'}\n",
      "https://davids.house.gov/: {'/media/press-releases'}\n",
      "https://dankildee.house.gov: {'/media/press-releases'}\n",
      "https://deluzio.house.gov: {'/media/press-releases'}\n",
      "https://mast.house.gov: {'/press-releases'}\n",
      "https://simpson.house.gov: {'/News/DocumentQuery.aspx?DocumentTypeID=1515'}\n",
      "https://wilson.house.gov/: {'/news/documentquery.aspx?DocumentTypeID=27'}\n",
      "https://malliotakis.house.gov: {'/media/press-releases'}\n",
      "https://ciscomani.house.gov: {'/media/press-releases'}\n",
      "https://schakowsky.house.gov: {'/media/press-releases'}\n",
      "https://delauro.house.gov/: {'/media-center/press-releases'}\n",
      "https://hayes.house.gov: {'/press-releases'}\n",
      "https://luttrell.house.gov: {'/media/press-releases'}\n",
      "https://danbishop.house.gov: {'/media/press-releases'}\n",
      "https://laturner.house.gov: {'/media/press-releases'}\n",
      "https://pelosi.house.gov/: {'/news/press-releases'}\n",
      "https://luetkemeyer.house.gov/: {'/news/documentquery.aspx?DocumentTypeID=2270'}\n",
      "https://correa.house.gov: {'/press/table'}\n",
      "https://newhouse.house.gov: {'/media-center/press-releases'}\n",
      "https://sarbanes.house.gov/: {'/media-center/press-releases'}\n",
      "https://suozzi.house.gov: {'/media/press-releases'}\n",
      "https://chuygarcia.house.gov/: {'/media/press-releases'}\n",
      "https://harshbarger.house.gov: {'/media/press-releases'}\n",
      "https://fleischmann.house.gov/: {'/media/press-releases'}\n",
      "https://arrington.house.gov: {'/news/documentquery.aspx?DocumentTypeID=27'}\n",
      "https://moulton.house.gov/: {'/news/press-releases'}\n",
      "https://bacon.house.gov: {'/news/documentquery.aspx?DocumentTypeID=27'}\n",
      "https://bentz.house.gov: {'/media/press-releases'}\n",
      "https://wenstrup.house.gov: set()\n",
      "https://escobar.house.gov: {'/news/documentquery.aspx?DocumentTypeID=27'}\n",
      "https://torres.house.gov/: {'https://torres.house.gov/media-center/press-releases'}\n",
      "https://hudson.house.gov: {'/media/press-releases'}\n",
      "https://trone.house.gov: {'https://trone.house.gov/category/congress_press_release/'}\n",
      "https://peltola.house.gov: {'/news/documentquery.aspx?DocumentTypeID=27'}\n",
      "https://porter.house.gov/: set()\n",
      "https://babin.house.gov: {'/news/documentquery.aspx?DocumentTypeID=27'}\n",
      "https://burlison.house.gov: {'/media/press-releases'}\n",
      "https://bush.house.gov: {'https://bush.house.gov/media/press-releases'}\n",
      "https://waters.house.gov: {'/media-center/press-releases'}\n",
      "https://halrogers.house.gov/: {'/press-releases'}\n",
      "https://cole.house.gov: {'/media-center/press-releases'}\n",
      "https://garretgraves.house.gov/: {'/news/documentquery.aspx?DocumentTypeID=27'}\n",
      "https://castor.house.gov/: {'/News/DocumentQuery.aspx?DocumentTypeID=821'}\n",
      "https://plaskett.house.gov/: {'/news/documentquery.aspx?documenttypeid=27'}\n",
      "https://grothman.house.gov: {'/news/documentquery.aspx?DocumentTypeID=27'}\n",
      "https://cardenas.house.gov: {'https://cardenas.house.gov/media-center/press-releases'}\n",
      "https://barr.house.gov/: {'/press-releases'}\n",
      "https://carter.house.gov/: {'/news/documentquery.aspx?DocumentTypeID=27'}\n",
      "https://shontelbrown.house.gov: {'/media/press-releases'}\n",
      "https://beyer.house.gov: {'/news/documentquery.aspx?DocumentTypeID=27'}\n",
      "https://tokuda.house.gov: {'/media/press-releases'}\n",
      "https://velazquez.house.gov: {'/media-center/press-releases'}\n",
      "https://moylan.house.gov: {'/media/press-releases'}\n",
      "https://pingree.house.gov/: set()\n",
      "https://allred.house.gov/: {'/media/press-releases'}\n",
      "https://larson.house.gov/: {'/media-center/press-releases'}\n",
      "https://castro.house.gov: set()\n",
      "https://raskin.house.gov: {'/press-releases'}\n",
      "https://ogles.house.gov: {'/media/press-releases'}\n",
      "https://titus.house.gov/: {'/news/documentquery.aspx?DocumentTypeID=27'}\n",
      "https://beatty.house.gov: {'/media-center/press-releases'}\n",
      "https://boyle.house.gov/: {'/media-center/press-releases'}\n",
      "https://bucshon.house.gov/: {'/news/documentquery.aspx?DocumentTypeID=27'}\n",
      "https://guthrie.house.gov/: set()\n",
      "https://sessions.house.gov: {'/press-releases'}\n",
      "https://phillips.house.gov/: {'/news/documentquery.aspx?DocumentTypeID=27'}\n",
      "https://ritchietorres.house.gov: set()\n",
      "https://lopez.house.gov/: {'/media/press-releases'}\n",
      "https://crockett.house.gov: {'/media/press-releases'}\n",
      "https://collins.house.gov: {'/media/press-releases'}\n",
      "https://blumenauer.house.gov/: {'/media-center/press-releases'}\n",
      "https://bilirakis.house.gov/: {'/media/press-releases'}\n",
      "https://walberg.house.gov/: {'/media/press-releases'}\n",
      "https://markgreen.house.gov/: {'/press-releases'}\n",
      "https://wittman.house.gov/: {'/news/documentquery.aspx?DocumentTypeID=2670'}\n",
      "https://joewilson.house.gov/: {'/media/press-releases'}\n",
      "https://troycarter.house.gov: {'/media/press-releases'}\n",
      "https://banks.house.gov: {'/news/documentquery.aspx?DocumentTypeID=27'}\n",
      "https://waltz.house.gov: {'/news/documentquery.aspx?DocumentTypeID=27'}\n",
      "https://kennedy.house.gov: {'/news/documentquery.aspx?DocumentTypeID=27'}\n",
      "https://hunt.house.gov: {'/media/press-releases'}\n",
      "https://mccaul.house.gov: {'/media-center/press-releases'}\n",
      "https://veasey.house.gov: {'/media-center/press-releases'}\n",
      "https://adams.house.gov: {'/media-center/press-releases'}\n",
      "https://dean.house.gov: {'/press-releases'}\n",
      "https://stauber.house.gov: {'/media/press-releases'}\n",
      "https://aderholt.house.gov/: {'/media-center/press-releases'}\n",
      "https://napolitano.house.gov/: {'/media/press-releases'}\n",
      "https://austinscott.house.gov/: {'/press-releases'}\n",
      "https://ocasio-cortez.house.gov/: {'/media/press-releases'}\n",
      "https://kiggans.house.gov: set()\n",
      "https://jasonsmith.house.gov: set()\n",
      "https://obernolte.house.gov: {'/media/press-releases'}\n",
      "https://bishop.house.gov/: {'/media-center/press-releases'}\n",
      "https://calvert.house.gov/: {'/media/press-releases'}\n",
      "https://miller.house.gov/: {'/media/press-releases'}\n",
      "https://lindasanchez.house.gov/: {'/media-center/press-releases'}\n",
      "https://tenney.house.gov/: {'/media/press-releases'}\n",
      "https://fong.house.gov/: {'/media/press-releases'}\n",
      "https://balint.house.gov: {'/news/documentquery.aspx?DocumentTypeID=27'}\n",
      "https://gimenez.house.gov: {'/press-releases'}\n",
      "https://estes.house.gov/: {'/news/documentquery.aspx?DocumentTypeID=27'}\n",
      "https://mikerogers.house.gov/: {'/news/documentquery.aspx?DocumentTypeID=27'}\n",
      "https://trahan.house.gov: set()\n",
      "https://alford.house.gov: {'/news/documentquery.aspx?DocumentTypeID=27'}\n",
      "https://connolly.house.gov/: {'/news/documentquery.aspx?DocumentTypeID=1952'}\n",
      "https://perry.house.gov/: {'/news/documentquery.aspx?DocumentTypeID=2608'}\n",
      "https://wild.house.gov: {'/media/press-releases'}\n",
      "https://sherman.house.gov: {'/media-center/press-releases'}\n",
      "https://schweikert.house.gov/: set()\n",
      "https://gonzalez.house.gov: {'/media/press-releases'}\n",
      "https://adamsmith.house.gov/: {'/news/press-releases'}\n",
      "https://strickland.house.gov: {'https://strickland.house.gov/category/press_release/'}\n",
      "https://himes.house.gov/: {'/press-releases'}\n",
      "https://mcclain.house.gov: {'/press-releases'}\n",
      "https://ross.house.gov: {'/press-releases'}\n",
      "https://espaillat.house.gov: {'/media/press-releases'}\n",
      "https://golden.house.gov: {'/media/press-releases'}\n",
      "https://garbarino.house.gov: {'/media/press-releases'}\n",
      "https://khanna.house.gov: {'/media/press-releases'}\n",
      "https://comer.house.gov/: {'/press-release'}\n",
      "https://lucas.house.gov: set()\n",
      "https://dondavis.house.gov: {'/media/press-releases', '/issues/grants'}\n",
      "https://vargas.house.gov: {'https://vargas.house.gov/media-center/press-releases'}\n",
      "https://sylviagarcia.house.gov/: {'/media/press-releases'}\n",
      "https://mcgovern.house.gov/: {'/news/documentquery.aspx?DocumentTypeID=2472'}\n",
      "https://kean.house.gov: {'/media/press-releases'}\n",
      "https://schneider.house.gov: {'/media/press-releases'}\n",
      "https://lawler.house.gov: {'/news/documentquery.aspx?DocumentTypeID=27'}\n",
      "https://baird.house.gov/: {'/news/documentquery.aspx?DocumentTypeID=27'}\n",
      "https://sherrill.house.gov/: {'/media/press-releases'}\n",
      "https://zinke.house.gov: {'/media/press-releases'}\n",
      "https://barragan.house.gov: set()\n",
      "https://lalota.house.gov: {'/media/press-releases'}\n",
      "https://vanorden.house.gov: {'/media/press-releases'}\n",
      "https://davidscott.house.gov/: {'/News/DocumentQuery.aspx?DocumentTypeID=377'}\n",
      "https://carl.house.gov: {'/media/press-releases'}\n",
      "https://kiley.house.gov: set()\n",
      "https://greene.house.gov: {'/news/documentquery.aspx?DocumentTypeID=27'}\n",
      "https://meeks.house.gov: {'/media/press-releases', 'https://democrats-foreignaffairs.house.gov/press-releases'}\n",
      "https://roy.house.gov: {'/media/press-releases'}\n",
      "https://fitzpatrick.house.gov/: {'/press-releases'}\n",
      "https://sarajacobs.house.gov: {'https://sarajacobs.house.gov/news/press-releases'}\n",
      "https://chu.house.gov/: {'/media-center/press-releases'}\n",
      "https://gonzalez-colon.house.gov: {'/media/press-releases'}\n",
      "https://takano.house.gov: {'https://takano.house.gov/newsroom/press-releases'}\n",
      "https://eshoo.house.gov/: {'/media/press-releases'}\n",
      "https://soto.house.gov: {'/media/press-releases'}\n",
      "https://allen.house.gov: {'/news/documentquery.aspx?DocumentTypeID=27'}\n",
      "https://sorensen.house.gov: {'/media/press-releases'}\n",
      "https://mfume.house.gov/: {'/media/press-releases'}\n",
      "https://jeffjackson.house.gov: {'/media/press-releases'}\n",
      "https://goldman.house.gov: {'/media/press-releases'}\n",
      "https://finstad.house.gov/: {'/press-releases'}\n",
      "https://kelly.house.gov: {'/media/press-releases'}\n",
      "https://fletcher.house.gov: {'/news/documentquery.aspx?DocumentTypeID=27'}\n",
      "https://kevinmullin.house.gov: {'https://kevinmullin.house.gov/category/press_release/'}\n",
      "https://jackson.house.gov: {'/news/documentquery.aspx?DocumentTypeID=27'}\n",
      "https://mikethompson.house.gov/: {'/newsroom/press-releases'}\n",
      "https://carson.house.gov/: {'/media/press-releases'}\n",
      "https://lamborn.house.gov/: {'/media/press-releases'}\n",
      "https://robertgarcia.house.gov: {'/media/press-releases'}\n",
      "https://jordan.house.gov/: {'/media/press-releases'}\n",
      "https://posey.house.gov/: {'/News/DocumentQuery.aspx?DocumentTypeID=1487'}\n",
      "https://panetta.house.gov: {'/media/press-releases'}\n",
      "https://delbene.house.gov: {'/news/documentquery.aspx?DocumentTypeID=27'}\n",
      "https://johnrose.house.gov/: {'/media/press-releases'}\n",
      "https://buchanan.house.gov/: {'/press-releases'}\n",
      "https://luna.house.gov: set()\n",
      "https://hill.house.gov/: {'/news/documentquery.aspx?DocumentTypeID=27'}\n",
      "https://crane.house.gov: set()\n",
      "https://spanberger.house.gov: set()\n",
      "https://rosendale.house.gov: {'/news/documentquery.aspx?DocumentTypeID=27'}\n",
      "https://rubengallego.house.gov/: {'https://rubengallego.house.gov/media-center/press-releases'}\n",
      "https://brecheen.house.gov: {'/news/documentquery.aspx?DocumentTypeID=27'}\n",
      "https://jayapal.house.gov: {'https://jayapal.house.gov/category/news/', 'https://jayapal.house.gov/category/press-releases/'}\n",
      "https://delacruz.house.gov: {'/news/documentquery.aspx?DocumentTypeID=27'}\n",
      "https://laurellee.house.gov: {'/media/press-releases'}\n",
      "https://donalds.house.gov: {'/news/email/', '/news'}\n",
      "https://vasquez.house.gov: {'/media/press-releases'}\n",
      "https://robinkelly.house.gov/: {'/media-center/press-releases'}\n",
      "https://carey.house.gov: {'https://carey.house.gov/media/press-releases/'}\n",
      "https://marymiller.house.gov: {'/media/subscribe-press-releases', '/media/press-releases'}\n"
     ]
    }
   ],
   "source": [
    "from typing import Dict, Set\n",
    "\n",
    "press_releases: Dict[str, Set[str]] = {}\n",
    "\n",
    "for house_url in good_urls:\n",
    "    html = requests.get(house_url).text\n",
    "    soup = BeautifulSoup(html, 'html.parser')\n",
    "    pr_links = {a['href'] for a in soup('a') if 'press releases'\n",
    "                in a .text.lower()}\n",
    "\n",
    "    print(f\"{house_url}: {pr_links}\")\n",
    "    press_releases[house_url] = pr_links"
   ]
  },
  {
   "cell_type": "markdown",
   "id": "0b8d5ddf-9927-455c-9e40-f44a29275697",
   "metadata": {},
   "source": [
    "-------\n",
    "_Writing a general function that checks whether a page of press releases mentions any given term_"
   ]
  },
  {
   "cell_type": "code",
   "execution_count": 99,
   "id": "a30b6f86-9187-47fc-b46f-4deda68d5a58",
   "metadata": {},
   "outputs": [],
   "source": [
    "def paragraph_mentions(text: str, keyword: str) -> bool:\n",
    "    \"\"\"\n",
    "    Returns True if a <p> inside the text mentions {keyword}\n",
    "    \"\"\"\n",
    "\n",
    "    soup = BeautifulSoup(text, 'html.parser')\n",
    "    paragraphs = [p.get_text() for p in soup('p')]\n",
    "\n",
    "    return any(keyword.lower() in paragraph.lower()\n",
    "              for paragraph in paragraphs)"
   ]
  },
  {
   "cell_type": "code",
   "execution_count": 100,
   "id": "deb54a70-16dd-4b66-be35-de36a6ebd4e9",
   "metadata": {},
   "outputs": [],
   "source": [
    "text = \"\"\"<body><h1>Facebook</h1><p>Twitter</p>\"\"\"\n",
    "assert paragraph_mentions(text, \"twitter\")              # inside a <p>\n",
    "assert not paragraph_mentions(text, \"facebook\")         # not inside a <p>"
   ]
  },
  {
   "cell_type": "code",
   "execution_count": 101,
   "id": "eca3b948-1c1a-48ee-87db-ddc62789f810",
   "metadata": {},
   "outputs": [
    {
     "name": "stdout",
     "output_type": "stream",
     "text": [
      "https://foster.house.gov\n",
      "https://fallon.house.gov\n",
      "https://curtis.house.gov/\n",
      "https://mace.house.gov\n",
      "https://cartwright.house.gov\n",
      "https://mikejohnson.house.gov\n",
      "https://edwards.house.gov\n",
      "https://danbishop.house.gov\n",
      "https://luetkemeyer.house.gov/\n",
      "https://garretgraves.house.gov/\n",
      "https://bucshon.house.gov/\n",
      "https://phillips.house.gov/\n",
      "https://collins.house.gov\n",
      "https://obernolte.house.gov\n",
      "https://sherman.house.gov\n"
     ]
    }
   ],
   "source": [
    "for house_url, pr_links in press_releases.items():\n",
    "    for pr_link in pr_links:\n",
    "        url = f\"{house_url}/{pr_link}\"\n",
    "        text = requests.get(url).text\n",
    "\n",
    "        if paragraph_mentions(text, 'data'):\n",
    "            print(f\"{house_url}\")\n",
    "            break # done with this house_url"
   ]
  },
  {
   "cell_type": "markdown",
   "id": "36ffc80c-5502-4a55-a31f-2c8ce58bf62f",
   "metadata": {},
   "source": [
    "## Using APIs\n",
    "### JSON and XML"
   ]
  },
  {
   "cell_type": "code",
   "execution_count": 104,
   "id": "11566bcd-6d45-4c99-b0e3-70f22754c0f1",
   "metadata": {},
   "outputs": [],
   "source": [
    "import json\n",
    "\n",
    "serialized = \"\"\"{\n",
    "\"title\": \"Some title\",\n",
    "\"author\": \"some author\",\n",
    "\"publicationYear\": 2024,\n",
    "\"topics\": [\"data\", \"science\", \"data science\"]\n",
    "}\"\"\""
   ]
  },
  {
   "cell_type": "code",
   "execution_count": 105,
   "id": "acb0d846-3f23-4994-9864-a21d96b3f8f3",
   "metadata": {},
   "outputs": [],
   "source": [
    "deserialized = json.loads(serialized)\n",
    "\n",
    "assert deserialized[\"publicationYear\"]==2024"
   ]
  },
  {
   "cell_type": "code",
   "execution_count": 106,
   "id": "381207f5-6116-4de4-919d-280fb1e0509b",
   "metadata": {},
   "outputs": [],
   "source": [
    "assert \"data science\" in deserialized[\"topics\"]"
   ]
  },
  {
   "cell_type": "markdown",
   "id": "c3a8499c-1c05-4939-9cce-d215e724679a",
   "metadata": {},
   "source": [
    "### Using an unauthenticated API"
   ]
  },
  {
   "cell_type": "code",
   "execution_count": 107,
   "id": "51e3241c-77cc-47b4-8b86-5020c0afb44a",
   "metadata": {},
   "outputs": [],
   "source": [
    "import requests, json\n",
    "github_user = \"nikhilsingh13\"\n",
    "endpoint = f\"https://api.github.com/users/{github_user}/repos\"\n",
    "\n",
    "repos = json.loads(requests.get(endpoint).text)"
   ]
  },
  {
   "cell_type": "markdown",
   "id": "c4c4edd8-a0e3-4ff0-811a-7f53727a5ca2",
   "metadata": {},
   "source": [
    "> the date parser suggested in the book is `python-dateutil`, I prefer `pendulum` so continuing with that"
   ]
  },
  {
   "cell_type": "code",
   "execution_count": 110,
   "id": "b3c23cc4-2803-4591-9b81-54588e226087",
   "metadata": {},
   "outputs": [],
   "source": [
    "import pendulum\n",
    "\n",
    "from collections import Counter"
   ]
  },
  {
   "cell_type": "code",
   "execution_count": 111,
   "id": "f67514cb-fefb-4762-88e2-eea067484b79",
   "metadata": {},
   "outputs": [],
   "source": [
    "dates = [pendulum.parse(repo[\"created_at\"]) for repo in repos]"
   ]
  },
  {
   "cell_type": "code",
   "execution_count": 113,
   "id": "1791c94a-43f6-4e54-a602-c61536e0812b",
   "metadata": {},
   "outputs": [],
   "source": [
    "month_counts = Counter(date.month for date in dates)\n",
    "weekday_counts = Counter(date.weekday() for date in dates)"
   ]
  },
  {
   "cell_type": "code",
   "execution_count": 114,
   "id": "796f6c20-b510-47c7-b82c-dc861c138932",
   "metadata": {},
   "outputs": [],
   "source": [
    "last_5_repos = sorted(repos,\n",
    "                      key = lambda r: r[\"pushed_at\"],\n",
    "                      reverse=True)[:5]"
   ]
  },
  {
   "cell_type": "code",
   "execution_count": 116,
   "id": "1cbc5911-6713-48a8-85eb-47a664bb3dc8",
   "metadata": {},
   "outputs": [],
   "source": [
    "last_5_langs = [repo[\"language\"] for repo in last_5_repos]"
   ]
  },
  {
   "cell_type": "code",
   "execution_count": 118,
   "id": "90372340-c75c-445a-823f-2335a691938c",
   "metadata": {},
   "outputs": [
    {
     "data": {
      "text/plain": [
       "['Jupyter Notebook',\n",
       " 'HTML',\n",
       " 'Jupyter Notebook',\n",
       " 'Jupyter Notebook',\n",
       " 'JavaScript']"
      ]
     },
     "execution_count": 118,
     "metadata": {},
     "output_type": "execute_result"
    }
   ],
   "source": [
    "last_5_langs"
   ]
  },
  {
   "cell_type": "markdown",
   "id": "9baf3929-174b-4dbe-bf2e-951a3582b983",
   "metadata": {},
   "source": [
    "## Example: Using the twitter API"
   ]
  },
  {
   "cell_type": "code",
   "execution_count": 121,
   "id": "afc0d147-3d2e-43e3-a870-05f27323e3e4",
   "metadata": {},
   "outputs": [],
   "source": [
    "import tweepy\n",
    "import json"
   ]
  },
  {
   "cell_type": "code",
   "execution_count": 123,
   "id": "2d58cb04-27bf-4de6-bf00-9496aed98a25",
   "metadata": {},
   "outputs": [],
   "source": [
    "with open('../credentials.json') as file:\n",
    "    credentials = json.load(file)"
   ]
  },
  {
   "cell_type": "code",
   "execution_count": 125,
   "id": "fd370104-d561-4df1-896d-2cec61c52087",
   "metadata": {},
   "outputs": [],
   "source": [
    "client = tweepy.Client(bearer_token=credentials['Twitter keys'][2]['Bearer'])"
   ]
  },
  {
   "cell_type": "code",
   "execution_count": 128,
   "id": "0c682bd5-6326-4efb-8c67-4acede93c0d9",
   "metadata": {},
   "outputs": [],
   "source": [
    "query = \"#AI\""
   ]
  },
  {
   "cell_type": "code",
   "execution_count": 129,
   "id": "8f51f502-11da-423e-93ad-7d283734c205",
   "metadata": {},
   "outputs": [
    {
     "name": "stdout",
     "output_type": "stream",
     "text": [
      "An error occurred: 403 Forbidden\n",
      "When authenticating requests to the Twitter API v2 endpoints, you must use keys and tokens from a Twitter developer App that is attached to a Project. You can create a project via the developer portal.\n"
     ]
    }
   ],
   "source": [
    "try:\n",
    "    tweets = client.search_recent_tweets(query=query, max_results=5)\n",
    "    # Display tweets\n",
    "    for tweet in tweets.data:\n",
    "        print(tweet.text)\n",
    "except tweepy.TweepyException as e:\n",
    "    print(f\"An error occurred: {e}\")"
   ]
  }
 ],
 "metadata": {
  "kernelspec": {
   "display_name": "Python 3 (ipykernel)",
   "language": "python",
   "name": "python3"
  },
  "language_info": {
   "codemirror_mode": {
    "name": "ipython",
    "version": 3
   },
   "file_extension": ".py",
   "mimetype": "text/x-python",
   "name": "python",
   "nbconvert_exporter": "python",
   "pygments_lexer": "ipython3",
   "version": "3.12.4"
  }
 },
 "nbformat": 4,
 "nbformat_minor": 5
}
