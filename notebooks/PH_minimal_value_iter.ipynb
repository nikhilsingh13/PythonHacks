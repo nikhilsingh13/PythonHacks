{
  "nbformat": 4,
  "nbformat_minor": 0,
  "metadata": {
    "colab": {
      "name": "PH_minimal_value_iter.ipynb",
      "provenance": []
    },
    "kernelspec": {
      "name": "python3",
      "display_name": "Python 3"
    },
    "language_info": {
      "name": "python"
    }
  },
  "cells": [
    {
      "cell_type": "code",
      "metadata": {
        "id": "X5S92KFA7RZc"
      },
      "source": [
        "vals = [22.3, 28.7, 15.3, 18.2]"
      ],
      "execution_count": 5,
      "outputs": []
    },
    {
      "cell_type": "code",
      "metadata": {
        "id": "iN2lS3qZ7b1W"
      },
      "source": [
        "# without max\n",
        "min_val = 10000"
      ],
      "execution_count": 6,
      "outputs": []
    },
    {
      "cell_type": "code",
      "metadata": {
        "colab": {
          "base_uri": "https://localhost:8080/"
        },
        "id": "O33y96Bh7fXv",
        "outputId": "1a20c6fd-00b7-4ce6-f4d9-30216c8e1a35"
      },
      "source": [
        "for val in vals:\n",
        "  if val < min_val:\n",
        "    min_val = val\n",
        "\n",
        "min_val"
      ],
      "execution_count": 7,
      "outputs": [
        {
          "output_type": "execute_result",
          "data": {
            "text/plain": [
              "15.3"
            ]
          },
          "metadata": {},
          "execution_count": 7
        }
      ]
    },
    {
      "cell_type": "code",
      "metadata": {
        "colab": {
          "base_uri": "https://localhost:8080/"
        },
        "id": "Jmixpple7uDv",
        "outputId": "7c778618-56ae-4969-e462-a130efd074a3"
      },
      "source": [
        "# with max\n",
        "min_val = min(vals)\n",
        "min_val"
      ],
      "execution_count": 9,
      "outputs": [
        {
          "output_type": "execute_result",
          "data": {
            "text/plain": [
              "15.3"
            ]
          },
          "metadata": {},
          "execution_count": 9
        }
      ]
    },
    {
      "cell_type": "code",
      "metadata": {
        "colab": {
          "base_uri": "https://localhost:8080/"
        },
        "id": "u4yAWvLc74qP",
        "outputId": "791661d9-4565-45a4-abb5-2ac74ac37715"
      },
      "source": [
        "# using key\n",
        "users = [\n",
        "         {\"username\": \"johndoe\", \"height\": 1.81},\n",
        "         {\"username\": \"another_user\", \"height\": 1.69},\n",
        "         {\"username\": \"third_user\", \"height\": 2.03}\n",
        "]\n",
        "\n",
        "min_user = min(users, key = lambda user: user['height'])\n",
        "\n",
        "min_user"
      ],
      "execution_count": 10,
      "outputs": [
        {
          "output_type": "execute_result",
          "data": {
            "text/plain": [
              "{'height': 1.69, 'username': 'another_user'}"
            ]
          },
          "metadata": {},
          "execution_count": 10
        }
      ]
    },
    {
      "cell_type": "code",
      "metadata": {
        "id": "WG4xPBfC8c2n"
      },
      "source": [
        ""
      ],
      "execution_count": null,
      "outputs": []
    }
  ]
}